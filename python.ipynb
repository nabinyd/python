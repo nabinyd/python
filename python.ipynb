{
  "nbformat": 4,
  "nbformat_minor": 0,
  "metadata": {
    "colab": {
      "provenance": [],
      "authorship_tag": "ABX9TyOES9y9mhgx23jPn8XCpmX1",
      "include_colab_link": true
    },
    "kernelspec": {
      "name": "python3",
      "display_name": "Python 3"
    },
    "language_info": {
      "name": "python"
    }
  },
  "cells": [
    {
      "cell_type": "markdown",
      "metadata": {
        "id": "view-in-github",
        "colab_type": "text"
      },
      "source": [
        "<a href=\"https://colab.research.google.com/github/nabinyd/python/blob/main/python.ipynb\" target=\"_parent\"><img src=\"https://colab.research.google.com/assets/colab-badge.svg\" alt=\"Open In Colab\"/></a>"
      ]
    },
    {
      "cell_type": "markdown",
      "source": [
        "#Parameter in print() function"
      ],
      "metadata": {
        "id": "Wf9wyHt8y9_t"
      }
    },
    {
      "cell_type": "markdown",
      "source": [
        "**objects (positional argument):**\n",
        "* Represents the values or objects to be printed. You can pass multiple objects separated by commas, and print() will automatically insert spaces between them.\n",
        "```\n",
        "print(\"Hello\", \"world!\")  # Output: Hello world!\n",
        "```\n",
        "\n"
      ],
      "metadata": {
        "id": "tzo2yhwWzMC7"
      }
    },
    {
      "cell_type": "markdown",
      "source": [
        "s**ep (keyword argument, default is a single space ' '):**\n",
        "\n",
        "* Specifies the separator between the objects. You can change it to any string or character.\n",
        "```\n",
        "print(\"Hello\", \"world!\", sep=\", \")  # Output: Hello, world!\n",
        "```\n"
      ],
      "metadata": {
        "id": "VbD2FAMMzaTh"
      }
    },
    {
      "cell_type": "markdown",
      "source": [
        "**end (keyword argument, default is a newline '\\n'):**\n",
        "* Specifies the string to be appended at the end of the printed output. By default, it adds a newline after printing.\n",
        "\n",
        "```\n",
        "print(\"Hello\", end=\" \")\n",
        "print(\"world!\")  # Output: Hello world! (without newline)\n",
        "```\n"
      ],
      "metadata": {
        "id": "cG2e3bUIzlpp"
      }
    },
    {
      "cell_type": "markdown",
      "source": [
        "\n",
        "**file (keyword argument, default is sys.stdout):**\n",
        "* Specifies the file object where the output should be sent. By default, it prints to the standard output (console).\n",
        "\n",
        "```\n",
        "with open(\"output.txt\", \"w\") as f:\n",
        "    print(\"Hello world!\", file=f)  # Output: Writes to output.txt instead of console\n"
      ],
      "metadata": {
        "id": "xsYyovDTzymE"
      }
    },
    {
      "cell_type": "markdown",
      "source": [
        "**flush (keyword argument, default is False):**\n",
        "* Specifies whether the output buffer should be flushed immediately. When flush=True, it forces the output to be written immediately.\n",
        "\n",
        "```\n",
        "print(\"Hello\", flush=True)  # Output: Prints \"Hello\" immediately without waiting\n",
        "```"
      ],
      "metadata": {
        "id": "wRNNisfK0LLN"
      }
    },
    {
      "cell_type": "markdown",
      "source": [
        "**Example with All Parameters:**\n",
        "```\n",
        "print(\"Hello\", \"world\", sep=\", \", end=\"!\", file=sys.stdout, flush=False)\n",
        "```\n"
      ],
      "metadata": {
        "id": "TGwfo3Bx0any"
      }
    },
    {
      "cell_type": "code",
      "execution_count": null,
      "metadata": {
        "id": "w7W-yBDKMSrY",
        "colab": {
          "base_uri": "https://localhost:8080/"
        },
        "outputId": "071bb10b-d5a0-46fa-c755-8c1bf488017c"
      },
      "outputs": [
        {
          "output_type": "stream",
          "name": "stdout",
          "text": [
            "Hello, world!"
          ]
        }
      ],
      "source": [
        "print(\"Hello\", \"world\", sep=\", \", end=\"!\", flush=False)\n"
      ]
    },
    {
      "cell_type": "code",
      "source": [
        "str = \"Nabin Yadav\"\n",
        "print(str[1:-2])\n"
      ],
      "metadata": {
        "colab": {
          "base_uri": "https://localhost:8080/"
        },
        "id": "iIpx-F6yNWpL",
        "outputId": "8337b1cd-d59a-4b68-bc2b-3d48b224ed7c"
      },
      "execution_count": null,
      "outputs": [
        {
          "output_type": "stream",
          "name": "stdout",
          "text": [
            "abin Yad\n"
          ]
        }
      ]
    },
    {
      "cell_type": "markdown",
      "source": [
        "\n",
        "\n",
        "**The syntax str[1:3:4] in Python is used for slicing strings. Let's break down each part:\n",
        "\n",
        "str: This refers to the string you want to slice.\n",
        "[1:3:4]: This is the slicing syntax.\n",
        "Here's what each part inside the square brackets means:\n",
        "\n",
        " Start Index (1): This specifies the index from where the slicing will start. In Python, indexing starts from 0. So, str[1] refers to the second character of the string.\n",
        " End Index (3): This specifies the index where the slicing will end.\n",
        "\n",
        " However, note that the slicing stops before the end index. So, str[3] is not included in the sliced string.\n",
        "Step (4): This specifies the step size, which determines how many characters to skip between each character that is included in the sliced string.**"
      ],
      "metadata": {
        "id": "12H16z63Ov3d"
      }
    },
    {
      "cell_type": "markdown",
      "source": [],
      "metadata": {
        "id": "PpbOOL1_OZuD"
      }
    },
    {
      "cell_type": "code",
      "source": [
        "print(str[1:3:4])"
      ],
      "metadata": {
        "colab": {
          "base_uri": "https://localhost:8080/"
        },
        "id": "GW4se3quOnG5",
        "outputId": "f6646bd8-c921-4a31-82a5-4b84b01f5806"
      },
      "execution_count": null,
      "outputs": [
        {
          "output_type": "stream",
          "name": "stdout",
          "text": [
            "a\n"
          ]
        }
      ]
    },
    {
      "cell_type": "code",
      "source": [
        "str1 = \"nabin\"\n",
        "str2 = \"yadav\"\n",
        "print(str1)\n",
        "print(str2)\n",
        "print(str1 +' '+ str2)\n",
        "print(str1*3)\n",
        "print(str1+ \" \" + str2 *3)"
      ],
      "metadata": {
        "colab": {
          "base_uri": "https://localhost:8080/"
        },
        "id": "r9lQCBuWPBGt",
        "outputId": "749217ee-0431-435b-8fca-34f4720160ed"
      },
      "execution_count": null,
      "outputs": [
        {
          "output_type": "stream",
          "name": "stdout",
          "text": [
            "nabin\n",
            "yadav\n",
            "nabin yadav\n",
            "nabinnabinnabin\n",
            "nabin yadavyadavyadav\n"
          ]
        }
      ]
    },
    {
      "cell_type": "code",
      "source": [
        "#Iteration through string\n",
        "letter_count =0\n",
        "for letters in str1:\n",
        "  print(letters)\n",
        "  letter_count +=1\n",
        "print(letter_count)"
      ],
      "metadata": {
        "colab": {
          "base_uri": "https://localhost:8080/"
        },
        "id": "doGj-sJRSTpw",
        "outputId": "f6cd0a04-d181-4087-b687-7733bfff0e25"
      },
      "execution_count": null,
      "outputs": [
        {
          "output_type": "stream",
          "name": "stdout",
          "text": [
            "n\n",
            "a\n",
            "b\n",
            "i\n",
            "n\n",
            "5\n"
          ]
        }
      ]
    },
    {
      "cell_type": "code",
      "source": [
        "#string membership\n",
        "print('y' in str1)\n",
        "print('y' in str1+ str2)\n",
        "print('n'in str1)\n",
        "print('a' not in str1)"
      ],
      "metadata": {
        "colab": {
          "base_uri": "https://localhost:8080/"
        },
        "id": "YNgdV3oNTcEl",
        "outputId": "6990f90c-ed1c-4652-eb5d-8199b29b4885"
      },
      "execution_count": null,
      "outputs": [
        {
          "output_type": "stream",
          "name": "stdout",
          "text": [
            "False\n",
            "True\n",
            "True\n",
            "False\n"
          ]
        }
      ]
    },
    {
      "cell_type": "code",
      "source": [
        "# The code en = list(enumerate(str1)) creates a list of tuples where each tuple contains the index and character of each element in the string str1. Here's a breakdown:\n",
        "\n",
        "# enumerate(str1): This function pairs each element of str1 with its index, starting from 0. It returns an iterator of tuples, where each tuple contains an index and the corresponding character from str1.\n",
        "# list(...): Converts the iterator returned by enumerate into a list.\n",
        "\n",
        "en=list(enumerate(str1))\n",
        "print(en)\n"
      ],
      "metadata": {
        "colab": {
          "base_uri": "https://localhost:8080/"
        },
        "id": "DnCCPY6jUXBC",
        "outputId": "c2327e04-e2e0-40d4-c990-b490a51bb23d"
      },
      "execution_count": null,
      "outputs": [
        {
          "output_type": "stream",
          "name": "stdout",
          "text": [
            "[(0, 'n'), (1, 'a'), (2, 'b'), (3, 'i'), (4, 'n')]\n"
          ]
        }
      ]
    },
    {
      "cell_type": "code",
      "source": [
        "print(len(str1))"
      ],
      "metadata": {
        "colab": {
          "base_uri": "https://localhost:8080/"
        },
        "id": "_bIG1-xcVKsh",
        "outputId": "1bf225fb-603a-4bee-83e2-8cb67e7aa695"
      },
      "execution_count": null,
      "outputs": [
        {
          "output_type": "stream",
          "name": "stdout",
          "text": [
            "5\n"
          ]
        }
      ]
    },
    {
      "cell_type": "code",
      "source": [
        "print('''using triple quotes''')\n",
        "print('escaping single quote\\'s')\n",
        "print(\"tell me 'what\\'s your name?'\")"
      ],
      "metadata": {
        "colab": {
          "base_uri": "https://localhost:8080/"
        },
        "id": "uxpshVKKVZqH",
        "outputId": "c47e46a4-42eb-47ad-bb73-932f65d75526"
      },
      "execution_count": null,
      "outputs": [
        {
          "output_type": "stream",
          "name": "stdout",
          "text": [
            "using triple quotes\n",
            "escaping single quote's\n",
            "tell me 'what's your name?'\n"
          ]
        }
      ]
    },
    {
      "cell_type": "markdown",
      "source": [
        "***Format method in string***"
      ],
      "metadata": {
        "id": "P7ElkmlpZEt4"
      }
    },
    {
      "cell_type": "code",
      "source": [
        "default_order = \"{} {} {}\".format(\"name\",\"age\",\"roll\")\n",
        "print(default_order)\n",
        "\n",
        "#positional argiments\n",
        "name = \"nabin\"\n",
        "lastname = \"yadav\"\n",
        "positional_argument = \"My name is {} {}\".format(name,lastname)\n",
        "print(positional_argument)"
      ],
      "metadata": {
        "colab": {
          "base_uri": "https://localhost:8080/"
        },
        "id": "HJYtH9RtZFuc",
        "outputId": "d718e2d2-c281-4e9a-b1e3-b10e45606825"
      },
      "execution_count": null,
      "outputs": [
        {
          "output_type": "stream",
          "name": "stdout",
          "text": [
            "name age roll\n",
            "My name is nabin yadav\n"
          ]
        }
      ]
    },
    {
      "cell_type": "markdown",
      "source": [
        "**Named argument**"
      ],
      "metadata": {
        "id": "wmms98JfbZN9"
      }
    },
    {
      "cell_type": "code",
      "source": [
        "named_argument = \"My name is {firstname} {lastname}\".format(firstname='nabin',lastname = \"yadav\")\n",
        "print(named_argument)"
      ],
      "metadata": {
        "colab": {
          "base_uri": "https://localhost:8080/"
        },
        "id": "i4L9D9WAWeG-",
        "outputId": "faf75e4f-637c-4b57-9673-1189cd2f5548"
      },
      "execution_count": null,
      "outputs": [
        {
          "output_type": "stream",
          "name": "stdout",
          "text": [
            "My name is nabin yadav\n"
          ]
        }
      ]
    },
    {
      "cell_type": "markdown",
      "source": [
        "##**Format Specifiers:**\n",
        "###You can apply formatting options to the placeholders to control how the values are displayed:\n",
        "\n",
        "* {:.2f}: Format as a floating-point number with 2 decimal places.\n",
        "* {:<10}: Left-align text within a 10-character space.\n",
        "* {:^10}: Center-align text within a 10-character space.\n",
        "* {:>10}: Right-align text within a 10-character space."
      ],
      "metadata": {
        "id": "NgyMPbiAcsBy"
      }
    },
    {
      "cell_type": "markdown",
      "source": [
        "**{:.2f}: Format as a floating-point number with 2 decimal places.**"
      ],
      "metadata": {
        "id": "Cym8VIv-eQjO"
      }
    },
    {
      "cell_type": "code",
      "source": [
        "pi = 3.14159\n",
        "formatted_pi = \"Pi value: {:.2f}\".format(pi)\n",
        "print(formatted_pi)\n"
      ],
      "metadata": {
        "colab": {
          "base_uri": "https://localhost:8080/"
        },
        "id": "jEuYsOBkcLFA",
        "outputId": "ecae749d-7d22-42bc-8223-8b2646d41782"
      },
      "execution_count": null,
      "outputs": [
        {
          "output_type": "stream",
          "name": "stdout",
          "text": [
            "Pi value: 3.14\n"
          ]
        }
      ]
    },
    {
      "cell_type": "markdown",
      "source": [
        "**{:<20}: Left-align text within a 10-character space**"
      ],
      "metadata": {
        "id": "VQfcPBEyfV8k"
      }
    },
    {
      "cell_type": "code",
      "source": [
        "text = \"left-aligned\"\n",
        "print(text)\n",
        "formatted_text = \"{:<20}\".format(text)\n",
        "print('|'+formatted_text+'|')"
      ],
      "metadata": {
        "colab": {
          "base_uri": "https://localhost:8080/"
        },
        "id": "bcCMyDs1eVnT",
        "outputId": "8ed87a30-3f06-4832-beb9-27bad3214494"
      },
      "execution_count": null,
      "outputs": [
        {
          "output_type": "stream",
          "name": "stdout",
          "text": [
            "left-aligned\n",
            "|left-aligned        |\n"
          ]
        }
      ]
    },
    {
      "cell_type": "markdown",
      "source": [
        "**{:^20}: centered-align text within a 10-character space**"
      ],
      "metadata": {
        "id": "yW8_MBgPfZmf"
      }
    },
    {
      "cell_type": "code",
      "source": [
        "text = \"centered-aligned\"\n",
        "print(text)\n",
        "formatted_text = \"{:^20}\".format(text)\n",
        "print('|'+formatted_text+'|')"
      ],
      "metadata": {
        "colab": {
          "base_uri": "https://localhost:8080/"
        },
        "id": "Z5sw1vhSermE",
        "outputId": "fb4a8303-b2ed-4ae9-8556-cf61107e600a"
      },
      "execution_count": null,
      "outputs": [
        {
          "output_type": "stream",
          "name": "stdout",
          "text": [
            "centered-aligned\n",
            "|  centered-aligned  |\n"
          ]
        }
      ]
    },
    {
      "cell_type": "markdown",
      "source": [
        "**{:>20}: Right-align text within a 10-character space.**"
      ],
      "metadata": {
        "id": "lKj9KivtfxAU"
      }
    },
    {
      "cell_type": "code",
      "source": [
        "text = \"right-aligned\"\n",
        "print(text)\n",
        "formatted_text = \"{:>20}\".format(text)\n",
        "print('|'+formatted_text+'|')"
      ],
      "metadata": {
        "colab": {
          "base_uri": "https://localhost:8080/"
        },
        "id": "41ghXVqUfNmb",
        "outputId": "db2ba505-b876-4625-d3ad-26b8e2be597c"
      },
      "execution_count": null,
      "outputs": [
        {
          "output_type": "stream",
          "name": "stdout",
          "text": [
            "right-aligned\n",
            "|       right-aligned|\n"
          ]
        }
      ]
    },
    {
      "cell_type": "markdown",
      "source": [
        "##**Binary Integer Formatting:**\n",
        "To format an integer into its binary representation, you can use the b format specifier. For example:\n",
        "\n"
      ],
      "metadata": {
        "id": "ZUDCX7UyfwOa"
      }
    },
    {
      "cell_type": "code",
      "source": [
        "num = 10\n",
        "binary_num = \"{:b}\".format(num)\n",
        "print(binary_num)\n"
      ],
      "metadata": {
        "colab": {
          "base_uri": "https://localhost:8080/"
        },
        "id": "x-biPKqZgiKy",
        "outputId": "e9e4a4a3-ed61-4e53-c68b-864e88fe6010"
      },
      "execution_count": null,
      "outputs": [
        {
          "output_type": "stream",
          "name": "stdout",
          "text": [
            "1010\n"
          ]
        }
      ]
    },
    {
      "cell_type": "markdown",
      "source": [
        "##**Exponential representation**"
      ],
      "metadata": {
        "id": "WL1JPqdHjLfc"
      }
    },
    {
      "cell_type": "code",
      "source": [
        "print(\"{0:e}\".format(1.52354))"
      ],
      "metadata": {
        "colab": {
          "base_uri": "https://localhost:8080/"
        },
        "id": "40rrqRX1jQL6",
        "outputId": "e497d84a-0a60-42fe-d047-df936f77731b"
      },
      "execution_count": null,
      "outputs": [
        {
          "output_type": "stream",
          "name": "stdout",
          "text": [
            "1.523540e+00\n"
          ]
        }
      ]
    },
    {
      "cell_type": "markdown",
      "source": [
        "##**Binary Floating-Point Formatting:**"
      ],
      "metadata": {
        "id": "KTfUBJuqgylv"
      }
    },
    {
      "cell_type": "code",
      "source": [
        "num = 3.5\n",
        "binary_num = \"{:b}\".format(int(num))  # Convert to integer first\n",
        "print(binary_num)\n"
      ],
      "metadata": {
        "colab": {
          "base_uri": "https://localhost:8080/"
        },
        "id": "oX56CA3vg76v",
        "outputId": "8fce7b6a-316a-4530-fccf-eb40364751e3"
      },
      "execution_count": null,
      "outputs": [
        {
          "output_type": "stream",
          "name": "stdout",
          "text": [
            "11\n"
          ]
        }
      ]
    },
    {
      "cell_type": "markdown",
      "source": [
        "##**Binary Prefixes and Padding:**\n",
        "* In this case, # adds the prefix 0b to indicate a binary number, and 010 specifies padding the binary representation with zeros to a total width of 10 characters."
      ],
      "metadata": {
        "id": "LpLTpOEyhdJ9"
      }
    },
    {
      "cell_type": "code",
      "source": [
        "num = 10\n",
        "binary_num = \"{:#010b}\".format(num)  # Pad with zeros and add '0b' prefix\n",
        "print(binary_num)  # Output: '0b00001010'\n"
      ],
      "metadata": {
        "colab": {
          "base_uri": "https://localhost:8080/"
        },
        "id": "lIfZPuAuhl8n",
        "outputId": "2dc63017-dfb2-4b69-d1e2-aaa45dd571b8"
      },
      "execution_count": null,
      "outputs": [
        {
          "output_type": "stream",
          "name": "stdout",
          "text": [
            "0b00001010\n"
          ]
        }
      ]
    },
    {
      "cell_type": "markdown",
      "source": [
        "##**Using f-Strings for Binary Formatting (Python 3.6+):**\n"
      ],
      "metadata": {
        "id": "1FwaJgSSh-3b"
      }
    },
    {
      "cell_type": "code",
      "source": [
        "num = 10\n",
        "binary_num = f\"{num:#010b}\"  # Using f-string with padding and prefix\n",
        "print(binary_num)\n"
      ],
      "metadata": {
        "colab": {
          "base_uri": "https://localhost:8080/"
        },
        "id": "vEvZAd9oiET1",
        "outputId": "66586cf0-b5ad-4b17-e7df-14c1d07af276"
      },
      "execution_count": null,
      "outputs": [
        {
          "output_type": "stream",
          "name": "stdout",
          "text": [
            "0b00001010\n"
          ]
        }
      ]
    },
    {
      "cell_type": "markdown",
      "source": [
        "##**Binary Representation of Other Data Types:**\n",
        "You can apply binary formatting to other data types as well, such as bytes and bytearray objects:"
      ],
      "metadata": {
        "id": "LY8QVXuEiM7k"
      }
    },
    {
      "cell_type": "code",
      "source": [
        "data = b'Hello'\n",
        "binary_data = \"{:08b}\".format(int.from_bytes(data, byteorder='big'))\n",
        "print(\"Output = \" + binary_data)"
      ],
      "metadata": {
        "colab": {
          "base_uri": "https://localhost:8080/"
        },
        "id": "Wu95-fkIiQtU",
        "outputId": "8f9e6be0-3019-411d-bc75-0488f277ae53"
      },
      "execution_count": null,
      "outputs": [
        {
          "output_type": "stream",
          "name": "stdout",
          "text": [
            "Output = 100100001100101011011000110110001101111\n"
          ]
        }
      ]
    },
    {
      "cell_type": "markdown",
      "source": [
        "#**String Method in Python**\n",
        "\n",
        "---\n",
        "Here's a list of commonly used string methods in Python:\n",
        "\n",
        "##Conversion Methods:\n",
        "* upper(): Converts a string to uppercase.\n",
        "* lower(): Converts a string to lowercase.\n",
        "* capitalize(): Capitalizes the first character of a string.\n",
        "* title(): Converts the first character of each word to uppercase.\n",
        "\n",
        "\n",
        "##Trimming and Padding:\n",
        "* strip(): Removes leading and trailing whitespace.\n",
        "* lstrip(): Removes leading whitespace.\n",
        "* rstrip(): Removes trailing whitespace.\n",
        "* center(width, fillchar): Centers the string in a specified width with optional padding characters.\n",
        "* ljust(width, fillchar): Left-justifies the string in a specified width with optional padding characters.\n",
        "* rjust(width, fillchar): Right-justifies the string in a specified width with optional padding characters.\n",
        "\n",
        "##Search and Replace:\n",
        "* find(substring, start, end): Searches for a substring and returns its first * occurrence index (or -1 if not found).\n",
        "* rfind(substring, start, end): Searches for a substring from the end of the\n",
        " string and returns its index.\n",
        "* index(substring, start, end): Similar to find() but raises an error if the\n",
        " substring is not found.\n",
        "* replace(old, new, count): Replaces occurrences of a substring with another\n",
        " substring.\n",
        "\n",
        "##Splitting and Joining:\n",
        "* split(sep, maxsplit): Splits a string into a list of substrings based on a separator.\n",
        "* rsplit(sep, maxsplit): Splits a string from the right.\n",
        "* join(iterable): Concatenates elements of an iterable (like a list) into a\n",
        "  string using the string as a separator.\n",
        "\n",
        "##Checking and Validation:\n",
        "* startswith(prefix, start, end): Checks if a string starts with a specified prefix.\n",
        "*endswith(suffix, start, end): Checks if a string ends with a specified suffix.\n",
        "*isalnum(): Checks if all characters are alphanumeric.\n",
        "*isalpha(): Checks if all characters are alphabetic.\n",
        "*isdigit(): Checks if all characters are digits.\n",
        "*islower(): Checks if all characters are lowercase.\n",
        "*isupper(): Checks if all characters are uppercase.\n",
        "*isspace(): Checks if all characters are whitespace.\n",
        "\n",
        "##Formatting:\n",
        "* format(*args, **kwargs): Formats a string with positional and keyword arguments.\n",
        "*format_map(mapping): Formats a string using a mapping (like a dictionary).\n",
        "\n",
        "##Encoding and Decoding:\n",
        "* encode(encoding, errors): Encodes the string into bytes using a specified encoding.\n",
        "* decode(encoding, errors): Decodes bytes into a string using a specified encoding.\n",
        "\n",
        "##Miscellaneous:\n",
        "* len(): Returns the length of the string.\n",
        "* count(substring, start, end): Counts occurrences of a substring.\n",
        "* expandtabs(tabsize): Expands tabs to spaces.\n",
        "* swapcase(): Swaps case of characters (lowercase to uppercase and vice versa).\n",
        "* partition(separator): Splits the string into three parts based on a separator.\n",
        "\n"
      ],
      "metadata": {
        "id": "VxAsnh7_jt3N"
      }
    },
    {
      "cell_type": "markdown",
      "source": [
        "##**upper() and lower():**"
      ],
      "metadata": {
        "id": "59GbN0CNmKNm"
      }
    },
    {
      "cell_type": "code",
      "source": [
        "text = \"Hello World\"\n",
        "upper_text = text.upper()\n",
        "lower_text = text.lower()\n",
        "\n",
        "print(upper_text)\n",
        "print(lower_text)\n"
      ],
      "metadata": {
        "colab": {
          "base_uri": "https://localhost:8080/"
        },
        "id": "hg-Bq8sej1Fr",
        "outputId": "57dc002d-b7a4-4a4b-d07e-9b5b78f06ca5"
      },
      "execution_count": null,
      "outputs": [
        {
          "output_type": "stream",
          "name": "stdout",
          "text": [
            "HELLO WORLD\n",
            "hello world\n"
          ]
        }
      ]
    },
    {
      "cell_type": "markdown",
      "source": [
        "##**capitalize() and title():**"
      ],
      "metadata": {
        "id": "13ez-kiFmjB2"
      }
    },
    {
      "cell_type": "code",
      "source": [
        "text = \"hello world\"\n",
        "capitalized_text = text.capitalize()\n",
        "title_text = text.title()\n",
        "\n",
        "print(capitalized_text)\n",
        "print(title_text)"
      ],
      "metadata": {
        "colab": {
          "base_uri": "https://localhost:8080/"
        },
        "id": "luPMmfNrmt7R",
        "outputId": "ec66cc73-e9cc-4691-a712-20f7e749818d"
      },
      "execution_count": null,
      "outputs": [
        {
          "output_type": "stream",
          "name": "stdout",
          "text": [
            "Hello world\n",
            "Hello World\n"
          ]
        }
      ]
    },
    {
      "cell_type": "markdown",
      "source": [
        "##**strip(), lstrip(), and rstrip():**"
      ],
      "metadata": {
        "id": "4WfHAdu9nS4s"
      }
    },
    {
      "cell_type": "code",
      "source": [
        "text = \"   Hello World   \"\n",
        "stripped_text = text.strip()\n",
        "left_stripped_text = text.lstrip()\n",
        "right_stripped_text = text.rstrip()\n",
        "\n",
        "print(stripped_text)\n",
        "print(left_stripped_text)\n",
        "print(right_stripped_text)\n"
      ],
      "metadata": {
        "colab": {
          "base_uri": "https://localhost:8080/"
        },
        "id": "MyQHKHienNmB",
        "outputId": "3b67fa6d-17fb-4217-db76-c5e928998ece"
      },
      "execution_count": null,
      "outputs": [
        {
          "output_type": "stream",
          "name": "stdout",
          "text": [
            "Hello World\n",
            "Hello World   \n",
            "   Hello World\n"
          ]
        }
      ]
    },
    {
      "cell_type": "markdown",
      "source": [
        "##**center(width, fillchar), ljust(width, fillchar), and rjust(width, fillchar):**"
      ],
      "metadata": {
        "id": "NNMWrEP_npA7"
      }
    },
    {
      "cell_type": "code",
      "source": [
        "text = \"Python\"\n",
        "centered_text = text.center(10, '*')\n",
        "left_justified_text = text.ljust(10, '-')\n",
        "right_justified_text = text.rjust(10, '+')\n",
        "\n",
        "print(centered_text)         # Output: \"**Python**\"\n",
        "print(left_justified_text)    # Output: \"Python----\"\n",
        "print(right_justified_text)   # Output: \"++++Python\"\n"
      ],
      "metadata": {
        "colab": {
          "base_uri": "https://localhost:8080/"
        },
        "id": "UHBBMNYPnszl",
        "outputId": "ab338e84-29c3-48ef-9d69-ebaef614e044"
      },
      "execution_count": null,
      "outputs": [
        {
          "output_type": "stream",
          "name": "stdout",
          "text": [
            "**Python**\n",
            "Python----\n",
            "++++Python\n"
          ]
        }
      ]
    },
    {
      "cell_type": "markdown",
      "source": [
        "##**find(substring, start, end) and index(substring, start, end):**"
      ],
      "metadata": {
        "id": "QU7x9tIGoG7O"
      }
    },
    {
      "cell_type": "code",
      "source": [
        "text = \"Hello World\"\n",
        "index_of_o = text.find(\"o\")\n",
        "index_of_z = text.find(\"z\")  # Not found, returns -1\n",
        "\n",
        "print(index_of_o)  # Output: 4\n",
        "print(index_of_z)  # Output: -1\n",
        "\n",
        "try:\n",
        "    index_of_z_error = text.index(\"z\")\n",
        "except ValueError as e:\n",
        "    print(\"Error:\", e)  # Output: Error: substring not found\n"
      ],
      "metadata": {
        "colab": {
          "base_uri": "https://localhost:8080/"
        },
        "id": "SvpPLgoxoPeo",
        "outputId": "e8aaa313-d395-4ab6-cb9d-20d9bdbd55bc"
      },
      "execution_count": null,
      "outputs": [
        {
          "output_type": "stream",
          "name": "stdout",
          "text": [
            "4\n",
            "-1\n",
            "Error: substring not found\n"
          ]
        }
      ]
    },
    {
      "cell_type": "markdown",
      "source": [
        "##**replace(old, new, count):**"
      ],
      "metadata": {
        "id": "hQVmYLHNou7h"
      }
    },
    {
      "cell_type": "code",
      "source": [
        "text = \"Hello World\"\n",
        "print(text)\n",
        "new_text = text.replace(\"World\", \"Python\")\n",
        "\n",
        "print(new_text)  # Output: \"Hello Python\"\n"
      ],
      "metadata": {
        "colab": {
          "base_uri": "https://localhost:8080/"
        },
        "id": "Qlj7KkzcoxrO",
        "outputId": "3e465654-3d9f-4fde-de62-7a20ecfd8684"
      },
      "execution_count": null,
      "outputs": [
        {
          "output_type": "stream",
          "name": "stdout",
          "text": [
            "Hello World\n",
            "Hello Python\n"
          ]
        }
      ]
    },
    {
      "cell_type": "markdown",
      "source": [
        "##**split(sep, maxsplit):**"
      ],
      "metadata": {
        "id": "UfAKrALfq_k9"
      }
    },
    {
      "cell_type": "code",
      "source": [
        "text = \"apple,banana,orange\"\n",
        "fruits_list = text.split(\",\")\n",
        "\n",
        "print(fruits_list)  # Output: ['apple', 'banana', 'orange']\n"
      ],
      "metadata": {
        "colab": {
          "base_uri": "https://localhost:8080/"
        },
        "id": "uLNGSCMUqkNE",
        "outputId": "96b639e2-e647-40b0-ca1a-362766f256a0"
      },
      "execution_count": null,
      "outputs": [
        {
          "output_type": "stream",
          "name": "stdout",
          "text": [
            "['apple', 'banana', 'orange']\n"
          ]
        }
      ]
    },
    {
      "cell_type": "markdown",
      "source": [],
      "metadata": {
        "id": "zgZtBTHIrFNb"
      }
    },
    {
      "cell_type": "code",
      "source": [
        "text = \"apple,banana,orange,grapes\"\n",
        "fruits_list = text.split(\",\", maxsplit=2)\n",
        "\n",
        "print(fruits_list)  # Output: ['apple', 'banana', 'orange,grapes']\n"
      ],
      "metadata": {
        "colab": {
          "base_uri": "https://localhost:8080/"
        },
        "id": "8XQQMzyXrERB",
        "outputId": "b918401b-5837-49d1-f2c8-3f8fcc613196"
      },
      "execution_count": null,
      "outputs": [
        {
          "output_type": "stream",
          "name": "stdout",
          "text": [
            "['apple', 'banana', 'orange,grapes']\n"
          ]
        }
      ]
    },
    {
      "cell_type": "markdown",
      "source": [
        "##**join(iterable):**"
      ],
      "metadata": {
        "id": "zqdyyxM_rT3P"
      }
    },
    {
      "cell_type": "code",
      "source": [
        "fruits_list = ['apple', 'banana', 'orange']\n",
        "text = \", \".join(fruits_list)\n",
        "\n",
        "print(text)  # Output: \"apple, banana, orange\"\n"
      ],
      "metadata": {
        "colab": {
          "base_uri": "https://localhost:8080/"
        },
        "id": "zeSyrTiSrVCx",
        "outputId": "ca7e5840-7f26-4001-8833-8cf27939e8d1"
      },
      "execution_count": null,
      "outputs": [
        {
          "output_type": "stream",
          "name": "stdout",
          "text": [
            "apple, banana, orange\n"
          ]
        }
      ]
    },
    {
      "cell_type": "markdown",
      "source": [
        "You can use join() to concatenate elements with a custom separator:"
      ],
      "metadata": {
        "id": "HUR1eoeMrffO"
      }
    },
    {
      "cell_type": "code",
      "source": [
        "fruits_list = ['apple', 'banana', 'orange']\n",
        "text = \" - \".join(fruits_list)\n",
        "\n",
        "print(text)  # Output: \"apple - banana - orange\"\n"
      ],
      "metadata": {
        "colab": {
          "base_uri": "https://localhost:8080/"
        },
        "id": "X8aczNSvrcv5",
        "outputId": "2c9e5bdd-227b-4647-b6fd-cd1fc24bbcf0"
      },
      "execution_count": null,
      "outputs": [
        {
          "output_type": "stream",
          "name": "stdout",
          "text": [
            "apple - banana - orange\n"
          ]
        }
      ]
    },
    {
      "cell_type": "markdown",
      "source": [
        "#DataType conversion"
      ],
      "metadata": {
        "id": "7ZQBUXoxsbg0"
      }
    },
    {
      "cell_type": "markdown",
      "source": [
        "###**Implicit type conversion**"
      ],
      "metadata": {
        "id": "VXs-19y6stEO"
      }
    },
    {
      "cell_type": "code",
      "source": [
        "num_int = 10\n",
        "num_float = 5.2356\n",
        "\n",
        "num_new = num_int + num_float\n",
        "\n",
        "print(\"num_int\",type(num_int))\n",
        "print(\"num_float\",type(num_float))\n",
        "\n",
        "print(\"new_num = \",  num_new)\n",
        "print(\"num_new_type\",type(num_new))"
      ],
      "metadata": {
        "colab": {
          "base_uri": "https://localhost:8080/"
        },
        "id": "ViLTlmDEshez",
        "outputId": "5937141f-3c3f-40a8-9c75-d8a61c7a2391"
      },
      "execution_count": null,
      "outputs": [
        {
          "output_type": "stream",
          "name": "stdout",
          "text": [
            "num_int <class 'int'>\n",
            "num_float <class 'float'>\n",
            "new_num =  15.2356\n",
            "num_new_type <class 'float'>\n"
          ]
        }
      ]
    },
    {
      "cell_type": "markdown",
      "source": [
        "###**Explicit Type Connversion**\n",
        "\n",
        "\n",
        "\n",
        "1. int(), float(), str(), bool():\n",
        "* int(x): Converts x to an integer.\n",
        "* float(x): Converts x to a floating-point number.\n",
        "* str(x): Converts x to a string.\n",
        "* bool(x): Converts x to a boolean value (True or False).\n",
        "```\n",
        "num_str = \"123\"\n",
        "num_int = int(num_str)  # Convert string to integer\n",
        "print(num_int)  # Output: 123\n",
        "```\n",
        "\n",
        "2. Type-specific constructors:\n",
        "* list(iterable): Converts an iterable (like a tuple or string) to a list.\n",
        "```\n",
        "my_tuple = (1, 2, 3)\n",
        "my_list = list(my_tuple)\n",
        "print(my_list)  # Output: [1, 2, 3]\n",
        "```\n",
        "* tuple(iterable): Converts an iterable to a tuple.\n",
        "```\n",
        "my_list = [1, 2, 3]\n",
        "my_tuple = tuple(my_list)\n",
        "print(my_tuple)  # Output: (1, 2, 3)\n",
        "```\n",
        "* set(iterable): Converts an iterable to a set.\n",
        "```\n",
        "my_list = [1, 2, 2, 3]\n",
        "my_set = set(my_list)\n",
        "print(my_set)  # Output: {1, 2, 3}\n",
        "```\n",
        "\n",
        "* dict(iterable): Converts an iterable of key-value pairs to a dictionary.\n",
        "```\n",
        "key_value_pairs = [(\"a\", 1), (\"b\", 2)]\n",
        "my_dict = dict(key_value_pairs)\n",
        "print(my_dict)  # Output: {'a': 1, 'b': 2}\n",
        "```\n",
        "\n",
        "\n",
        "\n",
        "3. Custom functions or methods:\n",
        "* You can also define custom functions or methods to perform more complex type conversions based on your specific needs.\n",
        "\n"
      ],
      "metadata": {
        "id": "_OvheOhYuWfR"
      }
    },
    {
      "cell_type": "code",
      "source": [
        "def string_to_int(s):\n",
        "    try:\n",
        "        return int(s)\n",
        "    except ValueError:\n",
        "        return None\n",
        "\n",
        "#num_str = \"abc\"  output: none\n",
        "num_str = \"122\"\n",
        "num_int = string_to_int(num_str)\n",
        "\n",
        "print(num_int)  # Output: 123\n"
      ],
      "metadata": {
        "colab": {
          "base_uri": "https://localhost:8080/"
        },
        "id": "UsWazrInv-lR",
        "outputId": "af005ada-7288-4511-80e1-9e5d493925d9"
      },
      "execution_count": null,
      "outputs": [
        {
          "output_type": "stream",
          "name": "stdout",
          "text": [
            "122\n"
          ]
        }
      ]
    },
    {
      "cell_type": "markdown",
      "source": [
        "#**Python Numbers**\n",
        "\n",
        "\n",
        "*   isinstance()\n",
        "*   type()\n",
        "*   issubclass()\n",
        "\n"
      ],
      "metadata": {
        "id": "eDZ2bDUkO8uv"
      }
    },
    {
      "cell_type": "markdown",
      "source": [
        "#####The isinstance() function in Python is used to check if an object belongs to a specified class or type. It helps in determining the type of an object and can be used to perform type checking within functions or code blocks.\n",
        "\n",
        "**Syntax:**\n",
        "```\n",
        "isinstance(object, classinfo)\n",
        "```\n",
        "\n",
        "\n",
        "*   object: The object whose type is to be checked.\n",
        "* classinfo: A class, type, or tuple of classes and types to check against.\n",
        "\n"
      ],
      "metadata": {
        "id": "Rc4k8jpbOmfO"
      }
    },
    {
      "cell_type": "code",
      "source": [
        "value1 =100\n",
        "print(isinstance(value1,int))\n",
        "print(isinstance(value1,float))"
      ],
      "metadata": {
        "colab": {
          "base_uri": "https://localhost:8080/"
        },
        "id": "c_MbATGwNadn",
        "outputId": "86703f5f-0162-4ee0-fb59-16ff6384df17"
      },
      "execution_count": null,
      "outputs": [
        {
          "output_type": "stream",
          "name": "stdout",
          "text": [
            "True\n",
            "False\n"
          ]
        }
      ]
    },
    {
      "cell_type": "markdown",
      "source": [
        "**Representing binary, hexadecimal and octal**"
      ],
      "metadata": {
        "id": "vtG4SjjfhEAW"
      }
    },
    {
      "cell_type": "code",
      "source": [
        "print(0b110)\n",
        "print(0x510)\n",
        "print(0o23)"
      ],
      "metadata": {
        "colab": {
          "base_uri": "https://localhost:8080/"
        },
        "id": "CUtADeD-V8wj",
        "outputId": "87f7198e-9e2f-446d-d97f-8b87d2ad03a6"
      },
      "execution_count": null,
      "outputs": [
        {
          "output_type": "stream",
          "name": "stdout",
          "text": [
            "6\n",
            "1296\n",
            "19\n"
          ]
        }
      ]
    },
    {
      "cell_type": "markdown",
      "source": [
        "**Python decimal**"
      ],
      "metadata": {
        "id": "pGrrr9XoilkW"
      }
    },
    {
      "cell_type": "code",
      "source": [
        "data1 = 0.1 + 0.2\n",
        "print(data1)\n",
        "data2 = 0.1 * 0.2\n",
        "print(data2)\n",
        "from decimal import Decimal as D\n",
        "print(D('0.1')+D('0.2'))\n",
        "print(D('0.1')*D('0.2'))"
      ],
      "metadata": {
        "colab": {
          "base_uri": "https://localhost:8080/"
        },
        "id": "8C-Ak-GFiApQ",
        "outputId": "005172e0-1abf-4a87-ef44-5874727ee218"
      },
      "execution_count": null,
      "outputs": [
        {
          "output_type": "stream",
          "name": "stdout",
          "text": [
            "0.30000000000000004\n",
            "0.020000000000000004\n",
            "0.3\n",
            "0.02\n"
          ]
        }
      ]
    },
    {
      "cell_type": "code",
      "source": [
        "from fractions import Fraction as F\n",
        "print(F(0.5))\n",
        "print(F(5))\n",
        "print(F(1,5))"
      ],
      "metadata": {
        "colab": {
          "base_uri": "https://localhost:8080/"
        },
        "id": "2I8kNYqQjIx6",
        "outputId": "57c09599-0387-43f2-d725-b17a49f2448a"
      },
      "execution_count": null,
      "outputs": [
        {
          "output_type": "stream",
          "name": "stdout",
          "text": [
            "1/2\n",
            "5\n",
            "1/5\n"
          ]
        }
      ]
    },
    {
      "cell_type": "markdown",
      "source": [
        "###**Using isinstance() in Functions:**\n"
      ],
      "metadata": {
        "id": "S3jSq0QsPnpR"
      }
    },
    {
      "cell_type": "code",
      "source": [
        "def calculate(value):\n",
        "    if isinstance(value, int):\n",
        "        return value * 2\n",
        "    elif isinstance(value, float):\n",
        "        return value * 1.5\n",
        "    else:\n",
        "        return \"Invalid input type\"\n",
        "\n",
        "print(calculate(10))  # Output: 20\n",
        "print(calculate(3.5))  # Output: 5.25\n",
        "print(calculate(\"abc\"))  # Output: \"Invalid input type\"\n"
      ],
      "metadata": {
        "colab": {
          "base_uri": "https://localhost:8080/"
        },
        "id": "RYw5rfzLP8sy",
        "outputId": "662d73ff-d669-41c1-8b1c-718ab9f3158f"
      },
      "execution_count": null,
      "outputs": [
        {
          "output_type": "stream",
          "name": "stdout",
          "text": [
            "20\n",
            "5.25\n",
            "Invalid input type\n"
          ]
        }
      ]
    },
    {
      "cell_type": "markdown",
      "source": [
        "###**type() Function:**\n",
        "* The type() function returns the type of an object."
      ],
      "metadata": {
        "id": "a0JeyA3fQUI-"
      }
    },
    {
      "cell_type": "code",
      "source": [
        "x = 5\n",
        "print(type(x) == int)  # Output: True\n",
        "print(type(x) == float)  # Output: False\n"
      ],
      "metadata": {
        "colab": {
          "base_uri": "https://localhost:8080/"
        },
        "id": "vVcIRxW5QZyx",
        "outputId": "91f79bc2-b4e8-4d8a-c8a1-78b0c62e353b"
      },
      "execution_count": null,
      "outputs": [
        {
          "output_type": "stream",
          "name": "stdout",
          "text": [
            "True\n",
            "False\n"
          ]
        }
      ]
    },
    {
      "cell_type": "markdown",
      "source": [
        "###**issubclass() Function:**\n",
        "* The issubclass() function checks if a class is a subclass of another class."
      ],
      "metadata": {
        "id": "mOkTvyUZQh_W"
      }
    },
    {
      "cell_type": "code",
      "source": [
        "class A:\n",
        "    pass\n",
        "\n",
        "class B(A):\n",
        "    pass\n",
        "\n",
        "print(issubclass(B, A))  # Output: True\n",
        "print(issubclass(A, B))  # Output: False\n"
      ],
      "metadata": {
        "colab": {
          "base_uri": "https://localhost:8080/"
        },
        "id": "LfGHvN_yQt6r",
        "outputId": "57e11622-6f43-4407-8613-eee5828de4c1"
      },
      "execution_count": null,
      "outputs": [
        {
          "output_type": "stream",
          "name": "stdout",
          "text": [
            "True\n",
            "False\n"
          ]
        }
      ]
    },
    {
      "cell_type": "markdown",
      "source": [
        "##**Python Math Module**"
      ],
      "metadata": {
        "id": "eQOJqUiakHcL"
      }
    },
    {
      "cell_type": "markdown",
      "source": [
        "**Constants:**\n",
        "* math.pi:\n",
        "Represents the mathematical constant π (pi), approximately equal to 3.14159.\n",
        "\n",
        "* math.e:\n",
        "Represents the mathematical constant e, the base of natural logarithms, approximately equal to 2.71828.\n",
        "\n",
        "* math.inf:\n",
        "Represents positive infinity.\n",
        "\n",
        "* math.nan:\n",
        "Represents \"Not a Number\" (NaN), used to represent undefined or unrepresentable results.\n",
        "\n"
      ],
      "metadata": {
        "id": "qMSwo2I9kQn9"
      }
    },
    {
      "cell_type": "code",
      "source": [
        "import math"
      ],
      "metadata": {
        "id": "k9SUYBgOljis"
      },
      "execution_count": null,
      "outputs": []
    },
    {
      "cell_type": "code",
      "source": [
        "print(\"Value of π (pi):\", math.pi)\n",
        "print(\"Value of e:\", math.e)\n",
        "print(\"Positive infinity:\", math.inf)\n",
        "print(\"NaN (Not a Number):\", math.nan)"
      ],
      "metadata": {
        "colab": {
          "base_uri": "https://localhost:8080/"
        },
        "id": "ceAcj-bFlgMY",
        "outputId": "83e55ffa-2758-45f7-a515-f0aa92f26ed3"
      },
      "execution_count": null,
      "outputs": [
        {
          "output_type": "stream",
          "name": "stdout",
          "text": [
            "Value of π (pi): 3.141592653589793\n",
            "Value of e: 2.718281828459045\n",
            "Positive infinity: inf\n",
            "NaN (Not a Number): nan\n"
          ]
        }
      ]
    },
    {
      "cell_type": "markdown",
      "source": [
        "**Trigonometric Functions:**\n",
        "* math.sin(x), math.cos(x), math.tan(x):\n",
        "Calculate the sine, cosine, and tangent of angle x (in radians).\n",
        "\n",
        "* math.asin(x), math.acos(x), math.atan(x):\n",
        "Calculate the arcsine, arccosine, and arctangent of x, returning the angle in radians.\n",
        "\n",
        "* math.radians(degrees):\n",
        "Converts angle degrees from degrees to radians.\n",
        "\n",
        "* math.degrees(radians):\n",
        "Converts angle radians from radians to degrees."
      ],
      "metadata": {
        "id": "TQRzdaaYkxUc"
      }
    },
    {
      "cell_type": "markdown",
      "source": [],
      "metadata": {
        "id": "hwZAV8E1kOUD"
      }
    },
    {
      "cell_type": "code",
      "source": [
        "\n",
        "\n",
        "# Trigonometric Functions\n",
        "angle_degrees = 45\n",
        "angle_radians = math.radians(angle_degrees)\n",
        "print(\"Sine of\", angle_degrees, \"degrees:\", math.sin(angle_radians))\n",
        "print(\"Cosine of\", angle_degrees, \"degrees:\", math.cos(angle_radians))\n",
        "print(\"Tangent of\", angle_degrees, \"degrees:\", math.tan(angle_radians))\n",
        "\n"
      ],
      "metadata": {
        "colab": {
          "base_uri": "https://localhost:8080/"
        },
        "id": "xzv7BILDlWYu",
        "outputId": "89b1ee0d-c7bb-4f48-af46-de3a82d0693b"
      },
      "execution_count": null,
      "outputs": [
        {
          "output_type": "stream",
          "name": "stdout",
          "text": [
            "Sine of 45 degrees: 0.7071067811865475\n",
            "Cosine of 45 degrees: 0.7071067811865476\n",
            "Tangent of 45 degrees: 0.9999999999999999\n"
          ]
        }
      ]
    },
    {
      "cell_type": "markdown",
      "source": [
        "**Exponential and Logarithmic Functions:**\n",
        "* math.exp(x):\n",
        "Returns e raised to the power x.\n",
        "\n",
        "* math.log(x[, base]):\n",
        "Returns the natural logarithm of x (base e). Optionally, you can specify a base for the logarithm.\n",
        "\n",
        "* math.log10(x):\n",
        "Returns the base-10 logarithm of x."
      ],
      "metadata": {
        "id": "1oWr-p5ol0Ml"
      }
    },
    {
      "cell_type": "code",
      "source": [
        "x = 2\n",
        "print(\"e raised to the power\", x, \"=\", math.exp(x))\n",
        "print(\"Natural logarithm of\", x, \"=\", math.log(x))\n",
        "print(\"Base-10 logarithm of\", x, \"=\", math.log10(x))"
      ],
      "metadata": {
        "colab": {
          "base_uri": "https://localhost:8080/"
        },
        "id": "ENwmwEJUl8Jm",
        "outputId": "4136cd51-311e-421b-8920-635f05fff7c9"
      },
      "execution_count": null,
      "outputs": [
        {
          "output_type": "stream",
          "name": "stdout",
          "text": [
            "e raised to the power 2 = 7.38905609893065\n",
            "Natural logarithm of 2 = 0.6931471805599453\n",
            "Base-10 logarithm of 2 = 0.3010299956639812\n"
          ]
        }
      ]
    },
    {
      "cell_type": "markdown",
      "source": [
        "**Power and Square Root Functions:**\n",
        "* math.pow(x, y):\n",
        "Returns x raised to the power y.\n",
        "\n",
        "* math.sqrt(x):\n",
        "Returns the square root of x."
      ],
      "metadata": {
        "id": "atEzxTuimP9o"
      }
    },
    {
      "cell_type": "code",
      "source": [
        "base = 2\n",
        "power = 3\n",
        "print(base, \"raised to the power\", power, \"=\", math.pow(base, power))\n",
        "print(\"Square root of\", x, \"=\", math.sqrt(x))"
      ],
      "metadata": {
        "colab": {
          "base_uri": "https://localhost:8080/"
        },
        "id": "2Gs1RFEemUzB",
        "outputId": "37f0b624-aaea-4371-d7d1-5930c6fb92cf"
      },
      "execution_count": null,
      "outputs": [
        {
          "output_type": "stream",
          "name": "stdout",
          "text": [
            "2 raised to the power 3 = 8.0\n",
            "Square root of 2 = 1.4142135623730951\n"
          ]
        }
      ]
    },
    {
      "cell_type": "markdown",
      "source": [
        "**Miscellaneous Functions:**\n",
        "* math.ceil(x):\n",
        "Returns the smallest integer greater than or equal to x.\n",
        "\n",
        "* math.floor(x):\n",
        "Returns the largest integer less than or equal to x.\n",
        "\n",
        "* math.fabs(x):\n",
        "Returns the absolute value of x.\n",
        "\n",
        "* math.factorial(x):\n",
        "Returns the factorial of x.\n",
        "\n",
        "* math.gcd(a, b):\n",
        "Returns the greatest common divisor of integers a and b.\n",
        "\n",
        "* math.isfinite(x), math.isinf(x), math.isnan(x):\n",
        "Check if x is finite, infinity, or NaN, respectively.\n",
        "\n",
        "* math.trunc(x):\n",
        "Truncates x to an integer (removes the decimal part without rounding)."
      ],
      "metadata": {
        "id": "i8ZyBjKumeCp"
      }
    },
    {
      "cell_type": "code",
      "source": [
        "\n",
        "number = 3.7\n",
        "\n",
        "print(\"Ceiling value of\", number, \":\", math.ceil(number))\n",
        "print(\"Floor value of\", number, \":\", math.floor(number))\n",
        "print(\"Absolute value of\", number, \":\", math.fabs(number))\n",
        "print(\"Factorial of\", power, \":\", math.factorial(power))\n",
        "print(\"Greatest common divisor of 12 and 18:\", math.gcd(12, 18))\n",
        "print(\"Is\", number, \"finite?\", math.isfinite(number))\n",
        "print(\"Is\", math.inf, \"infinity?\", math.isinf(math.inf))\n",
        "print(\"Is\", math.nan, \"NaN?\", math.isnan(math.nan))\n",
        "print(\"Truncated value of\", number, \":\", math.trunc(number))"
      ],
      "metadata": {
        "colab": {
          "base_uri": "https://localhost:8080/"
        },
        "id": "VHK9LpkDmrym",
        "outputId": "396ec9db-f4c4-46d5-9170-44fca13a9137"
      },
      "execution_count": null,
      "outputs": [
        {
          "output_type": "stream",
          "name": "stdout",
          "text": [
            "Ceiling value of 3.7 : 4\n",
            "Floor value of 3.7 : 3\n",
            "Absolute value of 3.7 : 3.7\n",
            "Factorial of 3 : 6\n",
            "Greatest common divisor of 12 and 18: 6\n",
            "Is 3.7 finite? True\n",
            "Is inf infinity? True\n",
            "Is nan NaN? True\n",
            "Truncated value of 3.7 : 3\n"
          ]
        }
      ]
    },
    {
      "cell_type": "markdown",
      "source": [
        "##**Python Random Module**\n",
        "\n"
      ],
      "metadata": {
        "id": "dUiaHeX1obNQ"
      }
    },
    {
      "cell_type": "markdown",
      "source": [
        "\n",
        "\n",
        "1.   **Random Number Generators:**\n",
        "\n"
      ],
      "metadata": {
        "id": "SugBmuazok5E"
      }
    },
    {
      "cell_type": "markdown",
      "source": [
        "random(): Returns a random floating-point number in the range [0.0, 1.0]"
      ],
      "metadata": {
        "id": "NQ3lrorLozQ0"
      }
    },
    {
      "cell_type": "code",
      "source": [
        "import random\n",
        "print(random.random())  # Output: a random number between 0.0 and 1.0\n"
      ],
      "metadata": {
        "colab": {
          "base_uri": "https://localhost:8080/"
        },
        "id": "5qj-8NxSo8KR",
        "outputId": "a88779e0-e17a-413f-bb15-b4e8266e9b4d"
      },
      "execution_count": null,
      "outputs": [
        {
          "output_type": "stream",
          "name": "stdout",
          "text": [
            "0.39645105536631575\n"
          ]
        }
      ]
    },
    {
      "cell_type": "markdown",
      "source": [
        "randint(a, b): Returns a random integer between a and b (inclusive)"
      ],
      "metadata": {
        "id": "PMmlAT-1pBIS"
      }
    },
    {
      "cell_type": "code",
      "source": [
        "print(random.randint(2,10))"
      ],
      "metadata": {
        "colab": {
          "base_uri": "https://localhost:8080/"
        },
        "id": "v6MpkZD3pCi8",
        "outputId": "bdd68ac5-4ad3-4e98-eca6-377afca47ba5"
      },
      "execution_count": null,
      "outputs": [
        {
          "output_type": "stream",
          "name": "stdout",
          "text": [
            "2\n"
          ]
        }
      ]
    },
    {
      "cell_type": "markdown",
      "source": [
        "randrange(start, stop, step): Returns a randomly selected element from the range created by the arguments."
      ],
      "metadata": {
        "id": "m-3ZmwNypPgi"
      }
    },
    {
      "cell_type": "code",
      "source": [
        "random.randrange(1,50,2)"
      ],
      "metadata": {
        "colab": {
          "base_uri": "https://localhost:8080/"
        },
        "id": "0beY_cU2pQSd",
        "outputId": "a422621f-d935-4a3c-e088-74cc95df8a0b"
      },
      "execution_count": null,
      "outputs": [
        {
          "output_type": "execute_result",
          "data": {
            "text/plain": [
              "33"
            ]
          },
          "metadata": {},
          "execution_count": 49
        }
      ]
    },
    {
      "cell_type": "markdown",
      "source": [
        "choice(sequence): Returns a randomly selected element from a non-empty sequence"
      ],
      "metadata": {
        "id": "dmhunZC1pdfk"
      }
    },
    {
      "cell_type": "code",
      "source": [
        "num=['a','b','c','d']\n",
        "\n",
        "print(random.choice(num))\n"
      ],
      "metadata": {
        "colab": {
          "base_uri": "https://localhost:8080/"
        },
        "id": "ytzwaOrapekS",
        "outputId": "1eef39fc-b1be-40f9-966f-9b7680d83529"
      },
      "execution_count": null,
      "outputs": [
        {
          "output_type": "stream",
          "name": "stdout",
          "text": [
            "d\n"
          ]
        }
      ]
    },
    {
      "cell_type": "markdown",
      "source": [
        "shuffle(sequence): Shuffles the elements of a sequence in place (modifies the original sequence)."
      ],
      "metadata": {
        "id": "aVCHfwuUpzWj"
      }
    },
    {
      "cell_type": "code",
      "source": [
        "deck = ['Ace', '2', '3', '4', '5', '6', '7', '8', '9', '10', 'Jack', 'Queen', 'King']\n",
        "random.shuffle(deck)\n",
        "print(deck)\n"
      ],
      "metadata": {
        "colab": {
          "base_uri": "https://localhost:8080/"
        },
        "id": "TDyRM1PVp0kM",
        "outputId": "41ef7934-ea1a-4760-bcfc-befdbcb9e93c"
      },
      "execution_count": null,
      "outputs": [
        {
          "output_type": "stream",
          "name": "stdout",
          "text": [
            "['6', 'Jack', '7', '3', '4', 'King', '2', 'Queen', '8', 'Ace', '5', '9', '10']\n"
          ]
        }
      ]
    },
    {
      "cell_type": "markdown",
      "source": [
        "**2. Seed Functions:**\n",
        "* seed(a=None): Initializes the random number generator with a given seed or the current system time if no seed is provided."
      ],
      "metadata": {
        "id": "IGAbGIb3rZCj"
      }
    },
    {
      "cell_type": "code",
      "source": [
        "random.seed(42)  # Initialize with seed 42\n",
        "print(random.random())  # Output: deterministic random number based on seed 42\n"
      ],
      "metadata": {
        "colab": {
          "base_uri": "https://localhost:8080/"
        },
        "id": "hbDNL8Lyrd2e",
        "outputId": "30c2accf-72cd-45dd-f60f-241499ca50cf"
      },
      "execution_count": null,
      "outputs": [
        {
          "output_type": "stream",
          "name": "stdout",
          "text": [
            "0.6394267984578837\n"
          ]
        }
      ]
    },
    {
      "cell_type": "markdown",
      "source": [
        "**3. Random Sampling:**\n",
        "* sample(population, k): Returns a list of k unique elements randomly sampled from the population."
      ],
      "metadata": {
        "id": "DcPoRiCRrqjK"
      }
    },
    {
      "cell_type": "code",
      "source": [
        "population = ['A', 'B', 'C', 'D', 'E']\n",
        "sample = random.sample(population, 3)\n",
        "print(sample)  # Output: random sample of 3 elements from the population\n"
      ],
      "metadata": {
        "colab": {
          "base_uri": "https://localhost:8080/"
        },
        "id": "V0K28MelrufW",
        "outputId": "5f1f267f-86e2-43d9-f783-e951bc430ed8"
      },
      "execution_count": null,
      "outputs": [
        {
          "output_type": "stream",
          "name": "stdout",
          "text": [
            "['A', 'C', 'E']\n"
          ]
        }
      ]
    },
    {
      "cell_type": "markdown",
      "source": [
        "**choices(population, weights=None, k=1):**\n",
        "*  Returns a list of k elements randomly sampled from the population with replacement (can select the same element multiple times). The weights argument allows you to specify the probability of selecting each element."
      ],
      "metadata": {
        "id": "fRIQkh3Cr1Rs"
      }
    },
    {
      "cell_type": "code",
      "source": [
        "population = ['A', 'B', 'C', 'D', 'E']\n",
        "weights = [0.2, 0.3, 0.1, 0.2, 0.2]\n",
        "choices = random.choices(population, weights=weights, k=5)\n",
        "print(choices)  # Output: list of 5 elements randomly chosen with specified weights\n"
      ],
      "metadata": {
        "id": "hjiqUn2Ir8XL",
        "outputId": "aa8c9666-bbda-4738-e152-a6ba791867e7",
        "colab": {
          "base_uri": "https://localhost:8080/"
        }
      },
      "execution_count": null,
      "outputs": [
        {
          "output_type": "stream",
          "name": "stdout",
          "text": [
            "['B', 'D', 'D', 'E', 'A']\n"
          ]
        }
      ]
    },
    {
      "cell_type": "markdown",
      "source": [
        "#**Namespace and scope**\n",
        "\n",
        "##LEGB Rule:\n",
        "Python follows the LEGB (Local, Enclosing, Global, Built-in) rule to determine the order of searching for names:\n",
        "\n",
        "* Local: Search in the local namespace (inside the function).\n",
        "* Enclosing: Search in the enclosing function's namespace (if any).\n",
        "* Global: Search in the global namespace (top-level of the module or script).\n",
        "* Built-in: Search in the built-in namespace (Python's built-in names).\n",
        "If a name is not found in one scope, Python looks for it in the next scope according to the LEGB rule until it either finds the name or reaches the built-in scope."
      ],
      "metadata": {
        "id": "W1IqeI4CRhAs"
      }
    },
    {
      "cell_type": "markdown",
      "source": [
        "##Namespace:\n",
        "A namespace in Python is a mapping from names (identifiers) to objects. It serves as a container for organizing and managing the names of variables, functions, classes, and other objects. Each namespace is unique and isolated from other namespaces, which helps avoid naming conflicts and provides a way to organize code logically.\n",
        "\n",
        "**Types of Namespaces:**\n",
        "* Built-in Namespace: Contains built-in functions, exceptions, and objects provided by Python (e.g., print(), len(), TypeError).\n",
        "* Global Namespace: Contains names defined at the top level of a module or script. Variables and functions defined here are accessible throughout the module or script.\n",
        "* Local Namespace: Created when a function is called and contains names defined within that function. The local namespace is temporary and exists only during the function's execution"
      ],
      "metadata": {
        "id": "-L0EYoU8R79E"
      }
    },
    {
      "cell_type": "markdown",
      "source": [
        "##Scope:\n",
        "Scope defines the visibility and accessibility of names (variables, functions, etc.) within a program. It determines where names can be accessed and modified.\n",
        "\n",
        "**Types of scope:**\n"
      ],
      "metadata": {
        "id": "VhtFyV8kSRjC"
      }
    },
    {
      "cell_type": "markdown",
      "source": [],
      "metadata": {
        "id": "-kLYK6p0NaK6"
      }
    },
    {
      "cell_type": "markdown",
      "source": [
        "###Local Scope: Names defined within a function are in the local scope and are accessible only within that function."
      ],
      "metadata": {
        "id": "59ls_9asTMtP"
      }
    },
    {
      "cell_type": "code",
      "source": [
        "def myfun():\n",
        "  local_variable = 10\n",
        "  print(local_variable)\n",
        "\n",
        "myfun()\n",
        "#print(local_variable)    # Raises NameError: name 'local_variable' is not defined"
      ],
      "metadata": {
        "colab": {
          "base_uri": "https://localhost:8080/"
        },
        "id": "mKDW_QxKSHhc",
        "outputId": "5c7dcd5e-60bd-4e9a-91f2-de32ad7ff306"
      },
      "execution_count": null,
      "outputs": [
        {
          "output_type": "stream",
          "name": "stdout",
          "text": [
            "10\n"
          ]
        }
      ]
    },
    {
      "cell_type": "markdown",
      "source": [
        "###Enclosing (Non-local) Scope: If a function is defined inside another function, it has access to names in the enclosing function's scope."
      ],
      "metadata": {
        "id": "ndBIXClhUkcj"
      }
    },
    {
      "cell_type": "code",
      "source": [
        "def outer_function():\n",
        "    outer_variable = 20\n",
        "\n",
        "    def inner_function():\n",
        "        print(outer_variable)\n",
        "\n",
        "    inner_function()  # Output: 20\n",
        "\n",
        "outer_function()\n",
        "\n"
      ],
      "metadata": {
        "colab": {
          "base_uri": "https://localhost:8080/"
        },
        "id": "oHKnX_cRUpMO",
        "outputId": "02d73f08-f5d0-481a-a784-61385607a5cd"
      },
      "execution_count": null,
      "outputs": [
        {
          "output_type": "stream",
          "name": "stdout",
          "text": [
            "20\n"
          ]
        }
      ]
    },
    {
      "cell_type": "code",
      "source": [
        "def outer():\n",
        "  x= \"local\"\n",
        "  def inner():\n",
        "    nonlocal x\n",
        "    x= \"nonlocal\"\n",
        "    print(\"inner\",x)\n",
        "  inner()\n",
        "  print(\"outer\",x)\n",
        "\n",
        "outer()"
      ],
      "metadata": {
        "colab": {
          "base_uri": "https://localhost:8080/"
        },
        "id": "vNHNDlX7gOuR",
        "outputId": "bf9c165b-8091-4376-fa72-5e855fc13a71"
      },
      "execution_count": null,
      "outputs": [
        {
          "output_type": "stream",
          "name": "stdout",
          "text": [
            "inner nonlocal\n",
            "outer nonlocal\n"
          ]
        }
      ]
    },
    {
      "cell_type": "markdown",
      "source": [
        "###Global Scope: Names defined at the top level of a module or script are in the global scope and are accessible throughout the module or script"
      ],
      "metadata": {
        "id": "lOeBRS-FVAir"
      }
    },
    {
      "cell_type": "code",
      "source": [
        "global_variable = 30\n",
        "\n",
        "def my_function():\n",
        "    print(global_variable)\n",
        "\n",
        "my_function()  # Output: 30\n"
      ],
      "metadata": {
        "colab": {
          "base_uri": "https://localhost:8080/"
        },
        "id": "1qDz8s--VGiS",
        "outputId": "8efaaf99-c301-4e4b-9414-b53c93bdbe03"
      },
      "execution_count": null,
      "outputs": [
        {
          "output_type": "stream",
          "name": "stdout",
          "text": [
            "30\n"
          ]
        }
      ]
    },
    {
      "cell_type": "code",
      "source": [
        "x = \"global\"\n",
        "\n",
        "def fun():\n",
        "  global x\n",
        "  y= \"local\"\n",
        "  x=x*2\n",
        "\n",
        "  print(x)\n",
        "  print(y)\n",
        "\n",
        "print(x)\n",
        "fun()\n",
        "print(x)"
      ],
      "metadata": {
        "colab": {
          "base_uri": "https://localhost:8080/"
        },
        "id": "4ufi54g_fShg",
        "outputId": "7d0d58f9-cc2b-4eff-aa09-c38b9f9e8c4b"
      },
      "execution_count": null,
      "outputs": [
        {
          "output_type": "stream",
          "name": "stdout",
          "text": [
            "global\n",
            "globalglobal\n",
            "local\n",
            "globalglobal\n"
          ]
        }
      ]
    },
    {
      "cell_type": "markdown",
      "source": [
        "###Built-in Scope: Contains built-in names provided by Python and is accessible from anywhere in the program."
      ],
      "metadata": {
        "id": "tW6C6uFoVQvA"
      }
    },
    {
      "cell_type": "code",
      "source": [
        "print(len([1, 2, 3]))  # Output: 3"
      ],
      "metadata": {
        "colab": {
          "base_uri": "https://localhost:8080/"
        },
        "id": "o3t-9sDaVSAB",
        "outputId": "da48afda-a059-4b96-e2d4-8078544ed1c2"
      },
      "execution_count": null,
      "outputs": [
        {
          "output_type": "stream",
          "name": "stdout",
          "text": [
            "3\n"
          ]
        }
      ]
    },
    {
      "cell_type": "markdown",
      "source": [
        "#Python Global keyword\n",
        "\n",
        "global keyword allows us to modify the variable outside of the current scope. It is used to create a global variable and make changes to the variable in local context.\n",
        "\n",
        "**Syntax**\n",
        "\n",
        "```\n",
        "global variable_name\n",
        "```\n",
        "\n",
        "##**How to use global keyword**\n",
        "\n",
        "\n",
        "*   When we create a variable inside a function, its local by default context\n",
        "\n",
        "*   When we define a variable outside a function,It's global by default. You dont have to use global keyword.\n",
        "* We use global keyword to read and write a global variable inside a function.\n",
        "* Use of global keyword outside a function has no effect\n"
      ],
      "metadata": {
        "id": "3MKysruUiYhO"
      }
    },
    {
      "cell_type": "code",
      "source": [
        "x = 10\n",
        "\n",
        "def my_function():\n",
        "    global x\n",
        "    x = 20  # This modifies the global variable x\n",
        "    print(\"Inside function:\", x)\n",
        "\n",
        "my_function()\n",
        "print(\"Outside function:\", x)  # Output: \"Outside function: 20\"\n"
      ],
      "metadata": {
        "colab": {
          "base_uri": "https://localhost:8080/"
        },
        "id": "mroC5eo_kxi2",
        "outputId": "34851d44-4193-4489-d665-218906b02e04"
      },
      "execution_count": null,
      "outputs": [
        {
          "output_type": "stream",
          "name": "stdout",
          "text": [
            "Inside function: 20\n",
            "Outside function: 20\n"
          ]
        }
      ]
    },
    {
      "cell_type": "markdown",
      "source": [
        "**Using global with Mutable Objects:**"
      ],
      "metadata": {
        "id": "A5AGNhXUkzxf"
      }
    },
    {
      "cell_type": "code",
      "source": [
        "my_list = [1, 2, 3]\n",
        "\n",
        "def modify_list():\n",
        "    my_list.append(4)  # Modifies the global list without using global keyword\n",
        "    print(\"Inside function:\", my_list)\n",
        "\n",
        "modify_list()\n",
        "print(\"Outside function:\", my_list)  # Output: [1, 2, 3, 4]\n"
      ],
      "metadata": {
        "colab": {
          "base_uri": "https://localhost:8080/"
        },
        "id": "J-zfbOZEk8FQ",
        "outputId": "723a4539-30dd-4b3f-d056-015cf7c8432f"
      },
      "execution_count": null,
      "outputs": [
        {
          "output_type": "stream",
          "name": "stdout",
          "text": [
            "Inside function: [1, 2, 3, 4]\n",
            "Outside function: [1, 2, 3, 4]\n"
          ]
        }
      ]
    },
    {
      "cell_type": "markdown",
      "source": [
        "#**Iterator in python**"
      ],
      "metadata": {
        "id": "i9d9QDMpnhPr"
      }
    },
    {
      "cell_type": "markdown",
      "source": [
        "**Iterable vs. Iterator:**\n",
        "\n",
        "* Iterable: Any object that can be iterated over is considered iterable. Examples include lists, tuples, strings, dictionaries, sets, file objects, and more. Iterables have an __iter__() method that returns an iterator.\n",
        "\n",
        "* Iterator: An iterator is an object returned by the __iter__() method of an iterable. It implements the __next__() method, which returns the next element in the sequence or raises a StopIteration exception when there are no more elements."
      ],
      "metadata": {
        "id": "Dl83Ei3cnqs8"
      }
    },
    {
      "cell_type": "code",
      "source": [
        "our_list = [1,2,3,4,5]\n",
        "our_iter = iter(our_list)\n",
        "\n",
        "print(our_iter)\n",
        "\n",
        "print(next(our_iter))\n",
        "print(next(our_iter))\n",
        "\n",
        "print(our_iter.__next__())"
      ],
      "metadata": {
        "colab": {
          "base_uri": "https://localhost:8080/"
        },
        "id": "0zHfAoP3n5WC",
        "outputId": "58f0ffc7-5c0c-444a-b08f-00b8fc066109"
      },
      "execution_count": null,
      "outputs": [
        {
          "output_type": "stream",
          "name": "stdout",
          "text": [
            "<list_iterator object at 0x79e1aaf53100>\n",
            "1\n",
            "2\n",
            "3\n"
          ]
        }
      ]
    },
    {
      "cell_type": "markdown",
      "source": [
        "**Creating Custom Iterators:**\n",
        "* You can create custom iterators by implementing the __iter__() and __next__() methods in a class."
      ],
      "metadata": {
        "id": "foCsabBHqg3J"
      }
    },
    {
      "cell_type": "code",
      "source": [
        "class pow_of_two:\n",
        "  '''Class to represent an iterator of power of two'''\n",
        "  def __init__(self,max = 0):\n",
        "    self.max = max\n",
        "\n",
        "  def __iter__(self):\n",
        "    self.n = 0\n",
        "    return self\n",
        "\n",
        "  def __next__(self):\n",
        "    if self.n <= self.max:\n",
        "        result = 2**self.n\n",
        "        self.n +=1\n",
        "        return result\n",
        "    else:\n",
        "        raise StopIteration\n",
        "\n",
        "print(pow_of_two.__doc__)\n",
        "a= pow_of_two(4)\n",
        "i = iter(a)\n",
        "print(next(i))\n",
        "print(i.__next__())\n",
        "print(next(i))\n",
        "print(next(i))"
      ],
      "metadata": {
        "colab": {
          "base_uri": "https://localhost:8080/"
        },
        "id": "WujE1YlpqgVa",
        "outputId": "8f6caf9f-90f4-43d6-f90c-3f94a598ee19"
      },
      "execution_count": null,
      "outputs": [
        {
          "output_type": "stream",
          "name": "stdout",
          "text": [
            "Class to represent an iterator of power of two\n",
            "1\n",
            "2\n",
            "4\n",
            "8\n"
          ]
        }
      ]
    },
    {
      "cell_type": "markdown",
      "source": [
        "##**Iteration using For**"
      ],
      "metadata": {
        "id": "SI4HLtchw1dR"
      }
    },
    {
      "cell_type": "code",
      "source": [
        "#printing all the elements from list\n",
        "\n",
        "a = [1,2,3,4,5]\n",
        "for i in a:\n",
        "  print(i)"
      ],
      "metadata": {
        "colab": {
          "base_uri": "https://localhost:8080/"
        },
        "id": "d6XA04aow_0-",
        "outputId": "d7acc7de-1219-4fb5-afcd-190648cf7aed"
      },
      "execution_count": null,
      "outputs": [
        {
          "output_type": "stream",
          "name": "stdout",
          "text": [
            "1\n",
            "2\n",
            "3\n",
            "4\n",
            "5\n"
          ]
        }
      ]
    },
    {
      "cell_type": "code",
      "source": [
        "a = [1,2,3,4,5]\n",
        "for i in a:\n",
        "  print(i,end=\"\")\n"
      ],
      "metadata": {
        "colab": {
          "base_uri": "https://localhost:8080/"
        },
        "id": "4VosFYqcyODO",
        "outputId": "403642d5-d91e-462b-be4b-5ad7b65e40ca"
      },
      "execution_count": null,
      "outputs": [
        {
          "output_type": "stream",
          "name": "stdout",
          "text": [
            "12345"
          ]
        }
      ]
    },
    {
      "cell_type": "code",
      "source": [
        "#Printing all element in range function\n",
        "\n",
        "for i in range(2,10,2):\n",
        "  print(i)"
      ],
      "metadata": {
        "colab": {
          "base_uri": "https://localhost:8080/"
        },
        "id": "Sd39gU0pxHQj",
        "outputId": "d7a8c0fb-5268-4991-ec62-4131d034780c"
      },
      "execution_count": null,
      "outputs": [
        {
          "output_type": "stream",
          "name": "stdout",
          "text": [
            "2\n",
            "4\n",
            "6\n",
            "8\n"
          ]
        }
      ]
    },
    {
      "cell_type": "markdown",
      "source": [
        "**Using for loop with else block**"
      ],
      "metadata": {
        "id": "1bOiQ_iaxjbc"
      }
    },
    {
      "cell_type": "code",
      "source": [
        "b= (1,2,3,4,5)\n",
        "for i in b:\n",
        "  print(i)\n",
        "else:\n",
        "  print(\"Printing completed\")"
      ],
      "metadata": {
        "colab": {
          "base_uri": "https://localhost:8080/"
        },
        "id": "GRT7PL6bxp7w",
        "outputId": "61d47c4c-0e59-4213-a6f4-0c0eb3ca25f9"
      },
      "execution_count": null,
      "outputs": [
        {
          "output_type": "stream",
          "name": "stdout",
          "text": [
            "1\n",
            "2\n",
            "3\n",
            "4\n",
            "5\n",
            "invalid\n"
          ]
        }
      ]
    },
    {
      "cell_type": "markdown",
      "source": [
        "---"
      ],
      "metadata": {
        "id": "lhXhLrPPmzUQ"
      }
    },
    {
      "cell_type": "markdown",
      "source": [
        "#Inheritance in Python"
      ],
      "metadata": {
        "id": "ZxQR_yHKw70o"
      }
    },
    {
      "cell_type": "markdown",
      "source": [
        "**Base Class (Animal):**\n",
        "* The Animal class has an __init__ method to initialize the species attribute and a speak method that raises a NotImplementedError. It serves as the base class for all animals.\n",
        "\n",
        "**Derived Class (Dog):**\n",
        "* The Dog class inherits from Animal using class Dog(Animal):. It has its own __init__ method to initialize name and breed attributes, and it overrides the speak method inherited from Animal with its own implementation.\n",
        "\n",
        "**super() Function:**\n",
        "\n",
        "* In the Dog class, super().__init__(\"Dog\") calls the __init__ method of the parent class (Animal) to initialize the species attribute.\n",
        "\n",
        "**Method Overriding:**\n",
        "* The speak method in Dog overrides the speak method in Animal, providing a specific implementation for dogs.\n",
        "\n",
        "**Creating an Instance (my_dog):**\n",
        "* We create an instance of Dog with the name \"Buddy\" and breed \"Labrador\".\n",
        "\n",
        "**Accessing Attributes and Methods:**\n",
        "* We access attributes (species, name, breed) and call the overridden speak method on the my_dog instance, demonstrating the inheritance and overriding behavior."
      ],
      "metadata": {
        "id": "djZrB1lB3e1a"
      }
    },
    {
      "cell_type": "code",
      "source": [
        "class Animal:\n",
        "    def __init__(self, species):\n",
        "        self.species = species\n",
        "\n",
        "    def speak(self):\n",
        "        raise NotImplementedError(\"Subclass must implement this method\")\n",
        "\n",
        "class Dog(Animal):\n",
        "    def __init__(self, name, breed):\n",
        "        super().__init__(\"Dog\")\n",
        "        self.name = name\n",
        "        self.breed = breed\n",
        "\n",
        "    def speak(self):\n",
        "        return \"Woof!\"\n",
        "\n",
        "# Creating an instance of Dog\n",
        "my_dog = Dog(\"Buddy\", \"Labrador\")\n",
        "\n",
        "# Accessing attributes and methods\n",
        "print(my_dog.species)  # Output: Dog (inherited from Animal)\n",
        "print(my_dog.name)     # Output: Buddy\n",
        "print(my_dog.breed)    # Output: Labrador\n",
        "print(my_dog.speak())  # Output: Woof! (overrides speak method from Animal)\n"
      ],
      "metadata": {
        "colab": {
          "base_uri": "https://localhost:8080/"
        },
        "id": "vEx0KZWe3W0p",
        "outputId": "0a06966f-c840-42af-ea0a-992beae975d1"
      },
      "execution_count": null,
      "outputs": [
        {
          "output_type": "stream",
          "name": "stdout",
          "text": [
            "Dog\n",
            "Buddy\n",
            "Labrador\n",
            "Woof!\n"
          ]
        }
      ]
    },
    {
      "cell_type": "markdown",
      "source": [
        "**Multiple Inheritance**"
      ],
      "metadata": {
        "id": "YonAVY2Kkygl"
      }
    },
    {
      "cell_type": "code",
      "source": [
        "class base1:\n",
        "  def fun1(self):\n",
        "    print(\"function 1 from class base1\")\n",
        "\n",
        "class base2:\n",
        "  def fun2(self):\n",
        "    print(\"function 2 from class base2\")\n",
        "\n",
        "class base3:\n",
        "  def fun3(self):\n",
        "    print(\"function 3 form class base3\")\n",
        "\n",
        "class multiderived(base1,base2,base3):\n",
        "  def multifun(self):\n",
        "    print(\" multi function from multiderived class\")\n",
        "\n",
        "obj = multiderived()\n",
        "obj.fun1()\n",
        "obj.fun2()\n",
        "obj.fun3()\n",
        "obj.multifun()"
      ],
      "metadata": {
        "colab": {
          "base_uri": "https://localhost:8080/"
        },
        "id": "gnvj5lNnk27t",
        "outputId": "d9d296e7-154b-4125-fc9b-1c122a549d0e"
      },
      "execution_count": null,
      "outputs": [
        {
          "output_type": "stream",
          "name": "stdout",
          "text": [
            "function 1 from class base1\n",
            "function 2 from class base2\n",
            "function 3 form class base3\n",
            " multi function from multiderived class\n"
          ]
        }
      ]
    },
    {
      "cell_type": "markdown",
      "source": [
        "**Here's an example to illustrate the usage of the superclass's __init__ method in a subclass:**"
      ],
      "metadata": {
        "id": "suEZIfhRA9SA"
      }
    },
    {
      "cell_type": "code",
      "source": [
        "class Animal:\n",
        "    def __init__(self, species):\n",
        "        self.species = species\n",
        "        print(f\"Initialized {self.species} animal\")\n",
        "\n",
        "class Dog(Animal):\n",
        "    def __init__(self, name, breed):\n",
        "        super().__init__(\"Dog\")  # Call superclass's __init__ to initialize species\n",
        "        self.name = name\n",
        "        self.breed = breed\n",
        "        print(f\"{self.name} is a {self.breed} dog\")\n",
        "\n",
        "# Example usage:\n",
        "my_dog = Dog(\"Buddy\", \"Labrador\")\n"
      ],
      "metadata": {
        "colab": {
          "base_uri": "https://localhost:8080/"
        },
        "id": "WajV6qXuA_dx",
        "outputId": "c8e0bee1-4f2f-47f2-ddf6-56b6398db0ec"
      },
      "execution_count": null,
      "outputs": [
        {
          "output_type": "stream",
          "name": "stdout",
          "text": [
            "Initialized Dog animal\n",
            "Buddy is a Labrador dog\n"
          ]
        }
      ]
    },
    {
      "cell_type": "markdown",
      "source": [
        "*In Python, when a class inherits from multiple base classes (multiple inheritance), you can use the super() function to call the __init__ method of a specific superclass. This allows you to control which superclass's __init__ method is called during object initialization. Here's how you can achieve that:*"
      ],
      "metadata": {
        "id": "u5WZWd1_BGKT"
      }
    },
    {
      "cell_type": "code",
      "source": [
        "class Animal:\n",
        "    def __init__(self, species):\n",
        "        self.species = species\n",
        "        print(f\"Initialized {self.species} animal\")\n",
        "\n",
        "class Toy:\n",
        "    def __init__(self, toy_type):\n",
        "        self.toy_type = toy_type\n",
        "        print(f\"Initialized {self.toy_type} toy\")\n",
        "\n",
        "class Dog(Animal, Toy):\n",
        "    def __init__(self, name, breed):\n",
        "        super(Animal, self).__init__(\"Dog\")  # Call Animal's __init__ method\n",
        "        self.name = name\n",
        "        self.breed = breed\n",
        "        print(f\"{self.name} is a {self.breed} dog\")\n",
        "\n",
        "# Example usage:\n",
        "my_dog = Dog(\"Buddy\", \"Labrador\")\n"
      ],
      "metadata": {
        "colab": {
          "base_uri": "https://localhost:8080/"
        },
        "id": "gKQH7TPFBIjJ",
        "outputId": "a5994de9-6fde-4fcd-e696-de12cf40a898"
      },
      "execution_count": null,
      "outputs": [
        {
          "output_type": "stream",
          "name": "stdout",
          "text": [
            "Initialized Dog toy\n",
            "Buddy is a Labrador dog\n"
          ]
        }
      ]
    },
    {
      "cell_type": "markdown",
      "source": [
        "##**Accessing class attribute**\n"
      ],
      "metadata": {
        "id": "39B-I8LABunj"
      }
    },
    {
      "cell_type": "code",
      "source": [
        "class Car:\n",
        "    # Class attribute\n",
        "    num_wheels = 4\n",
        "\n",
        "    def __init__(self, make, model):\n",
        "        self.make = make\n",
        "        self.model = model\n",
        "\n",
        "# Accessing class attribute\n",
        "print(Car.num_wheels)  # Output: 4\n",
        "\n",
        "# Creating instances of Car class\n",
        "car1 = Car(\"Toyota\", \"Camry\")\n",
        "car2 = Car(\"Honda\", \"Civic\")\n",
        "\n",
        "# Accessing class attribute through instances\n",
        "print(car1.num_wheels)  # Output: 4\n",
        "print(car2.num_wheels)  # Output: 4\n",
        "\n",
        "# Modifying class attribute\n",
        "Car.num_wheels = 6\n",
        "print(Car.num_wheels)  # Output: 6\n",
        "print(car1.num_wheels)  # Output: 6 (modified for all instances)\n",
        "print(car2.num_wheels)  # Output: 6 (modified for all instances)\n"
      ],
      "metadata": {
        "colab": {
          "base_uri": "https://localhost:8080/"
        },
        "id": "gZ8LV_K3B1k2",
        "outputId": "a8a4edb9-ad03-47f6-fba5-ee1237d004f7"
      },
      "execution_count": null,
      "outputs": [
        {
          "output_type": "stream",
          "name": "stdout",
          "text": [
            "4\n",
            "4\n",
            "4\n",
            "6\n",
            "6\n",
            "6\n"
          ]
        }
      ]
    },
    {
      "cell_type": "markdown",
      "source": [
        "***You can access class attributes using the __class__ attribute within class methods or instance methods. Here's an example:***"
      ],
      "metadata": {
        "id": "SuZpttYjCIWs"
      }
    },
    {
      "cell_type": "code",
      "source": [
        "class Car:\n",
        "    num_wheels = 4  # Class attribute\n",
        "\n",
        "    def __init__(self, make, model):\n",
        "        self.make = make\n",
        "        self.model = model\n",
        "\n",
        "    def display_info(self):\n",
        "        print(f\"Make: {self.make}, Model: {self.model}\")\n",
        "\n",
        "    def display_num_wheels(self):\n",
        "        # Accessing class attribute using __class__.attribute\n",
        "        print(f\"Number of wheels: {self.__class__.num_wheels}\")\n",
        "\n",
        "# Creating instances of Car class\n",
        "car1 = Car(\"Toyota\", \"Camry\")\n",
        "car2 = Car(\"Honda\", \"Civic\")\n",
        "\n",
        "# Accessing class attribute using __class__.attribute\n",
        "print(car1.__class__.num_wheels)  # Output: 4\n",
        "print(car2.__class__.num_wheels)  # Output: 4\n",
        "\n",
        "# Calling instance method to display class attribute\n",
        "car1.display_num_wheels()  # Output: Number of wheels: 4\n",
        "car2.display_num_wheels()  # Output: Number of wheels: 4\n"
      ],
      "metadata": {
        "id": "lP3wRYqgCLhd",
        "outputId": "ac83e07a-d0d4-42c4-c168-83a14acc7f4a",
        "colab": {
          "base_uri": "https://localhost:8080/"
        }
      },
      "execution_count": null,
      "outputs": [
        {
          "output_type": "stream",
          "name": "stdout",
          "text": [
            "4\n",
            "4\n",
            "Number of wheels: 4\n",
            "Number of wheels: 4\n"
          ]
        }
      ]
    },
    {
      "cell_type": "markdown",
      "source": [
        "-----"
      ],
      "metadata": {
        "id": "CYvgLSmvm4Z2"
      }
    },
    {
      "cell_type": "markdown",
      "source": [
        "#Python Function\n",
        "\n",
        "* Function is a group of related statement that perform specific task in our program\n",
        "\n",
        "* Function implementation breaks our program into smaller and modular chunks.\n",
        "\n",
        "* Reusability feature helps us to avoid repetition of our program codes"
      ],
      "metadata": {
        "id": "YdqCpioDt03P"
      }
    },
    {
      "cell_type": "markdown",
      "source": [
        "###**Syntax of function**\n",
        "```\n",
        "def fun_name(parameter):\n",
        "  '''Docstring'''\n",
        "  statements()\n",
        "  return return_value   #optional\n",
        "```"
      ],
      "metadata": {
        "id": "mUlL6XZyvQF0"
      }
    },
    {
      "cell_type": "code",
      "source": [],
      "metadata": {
        "id": "Rr9UAvvZt0jo"
      },
      "execution_count": null,
      "outputs": []
    },
    {
      "cell_type": "markdown",
      "source": [
        "#**Python Function Arguments**"
      ],
      "metadata": {
        "id": "U7RCOG57oT3D"
      }
    },
    {
      "cell_type": "markdown",
      "source": [
        "\n",
        "\n",
        "1.    **Positional Arguments:**\n",
        "\n",
        "\n"
      ],
      "metadata": {
        "id": "ISWOQwXmodu9"
      }
    },
    {
      "cell_type": "code",
      "source": [
        "def greet(name,message):\n",
        "  print(f\"hello {name} {message}\")\n",
        "\n",
        "greet(\"nabin\",\"How are you?\")\n"
      ],
      "metadata": {
        "colab": {
          "base_uri": "https://localhost:8080/"
        },
        "id": "NX7q8ac2m61H",
        "outputId": "7589f670-34a4-41dd-b3f9-45c2d48e6cf1"
      },
      "execution_count": null,
      "outputs": [
        {
          "output_type": "stream",
          "name": "stdout",
          "text": [
            "hello nabin How are you?\n"
          ]
        }
      ]
    },
    {
      "cell_type": "markdown",
      "source": [
        "**2 .Keyword Arguments:**\n",
        "* Keyword arguments are specified with their corresponding parameter names in the function call."
      ],
      "metadata": {
        "id": "rVMzr9TUqAki"
      }
    },
    {
      "cell_type": "code",
      "source": [
        "def greet(name,message):\n",
        "  print(f\"hello {name} {message}\")\n",
        "\n",
        "greet(message=\"how are you?\", name = \"Nabin\")"
      ],
      "metadata": {
        "colab": {
          "base_uri": "https://localhost:8080/"
        },
        "id": "F76L4QSWot_q",
        "outputId": "9796e63d-cf48-444f-b090-2c942ef0d8fc"
      },
      "execution_count": null,
      "outputs": [
        {
          "output_type": "stream",
          "name": "stdout",
          "text": [
            "hello Nabin how are you?\n"
          ]
        }
      ]
    },
    {
      "cell_type": "markdown",
      "source": [
        "**3. Default Arguments:**\n",
        "* Default arguments have predefined values and are used when a value is not provided in the function call."
      ],
      "metadata": {
        "id": "YEzr8Ifzqj6A"
      }
    },
    {
      "cell_type": "code",
      "source": [
        "def greet(name, message=\"are you ok?\"):\n",
        "  print(f\"hello {name}, {message}\")\n",
        "\n",
        "greet(\"nabin\")\n",
        "greet(\"nabin\",\"how are you?\")"
      ],
      "metadata": {
        "colab": {
          "base_uri": "https://localhost:8080/"
        },
        "id": "NSAG-af6qn_J",
        "outputId": "14379f05-c4a4-4c1f-f25d-ccf7628226f1"
      },
      "execution_count": null,
      "outputs": [
        {
          "output_type": "stream",
          "name": "stdout",
          "text": [
            "hello nabin, are you ok?\n",
            "hello nabin, how are you?\n"
          ]
        }
      ]
    },
    {
      "cell_type": "markdown",
      "source": [
        "**4. Variable-Length Arguments (*args):**\n",
        "* The *args parameter allows a function to accept an arbitrary number of positional arguments as a *tuple*.\n",
        "* arbirary arguments"
      ],
      "metadata": {
        "id": "ofUhwlkWrkFM"
      }
    },
    {
      "cell_type": "code",
      "source": [
        "def fun(*args):\n",
        "  s = sum(args)\n",
        "  print(s)\n",
        "\n",
        "\n",
        "fun(1,2,3,4,5)"
      ],
      "metadata": {
        "colab": {
          "base_uri": "https://localhost:8080/"
        },
        "id": "DZIultVqsFxo",
        "outputId": "f7b18233-df74-4cd8-c545-77d6b897d399"
      },
      "execution_count": null,
      "outputs": [
        {
          "output_type": "stream",
          "name": "stdout",
          "text": [
            "15\n"
          ]
        }
      ]
    },
    {
      "cell_type": "markdown",
      "source": [
        "**Variable-Length Keyword Arguments (**kwargs):"
      ],
      "metadata": {
        "id": "DB6279dSxChG"
      }
    },
    {
      "cell_type": "code",
      "source": [
        "def my_function(**kwargs):\n",
        "    for key, value in kwargs.items():\n",
        "        print(f\"{key}: {value}\")\n",
        "\n",
        "my_function(name=\"Alice\", age=30, city=\"New York\")\n"
      ],
      "metadata": {
        "colab": {
          "base_uri": "https://localhost:8080/"
        },
        "id": "ueuwuv7cxI9e",
        "outputId": "0454ba51-b6de-4f24-c17d-49eaa1e7741e"
      },
      "execution_count": null,
      "outputs": [
        {
          "output_type": "stream",
          "name": "stdout",
          "text": [
            "name: Alice\n",
            "age: 30\n",
            "city: New York\n"
          ]
        }
      ]
    },
    {
      "cell_type": "markdown",
      "source": [
        "#Python error and exception\n",
        "| Exception              | Description                                                                                     |\n",
        "|------------------------|-------------------------------------------------------------------------------------------------|\n",
        "| ArithmeticError        | Raised when an error occurs in numeric calculations.                                             |\n",
        "| AssertionError        | Raised when an assert statement fails.                                                           |\n",
        "| AttributeError        | Raised when attribute reference or assignment fails.                                              |\n",
        "| Exception              | Base class for all exceptions.                                                                  |\n",
        "| EOFError               | Raised when the input() method hits an \"end of file\" condition (EOF).                            |\n",
        "| FloatingPointError     | Raised when a floating point calculation fails.                                                   |\n",
        "| GeneratorExit          | Raised when a generator is closed (with the close() method).                                     |\n",
        "| ImportError           | Raised when an imported module does not exist.                                                    |\n",
        "| IndentationError       | Raised when indentation is not correct.                                                          |\n",
        "| IndexError             | Raised when an index of a sequence does not exist.                                                |\n",
        "| KeyError              | Raised when a key does not exist in a dictionary.                                                |\n",
        "| KeyboardInterrupt     | Raised when the user presses Ctrl+C, Ctrl+Z, or Delete.                                          |\n",
        "| LookupError            | Raised when errors raised can't be found.                                                         |\n",
        "| MemoryError            | Raised when a program runs out of memory.                                                         |\n",
        "| NameError             | Raised when a variable does not exist.                                                           |\n",
        "| NotImplementedError | Raised when an abstract method requires an inherited class to override the method.               |\n",
        "| OSError                | Raised when a system-related operation causes an error.                                           |\n",
        "| OverflowError         | Raised when the result of a numeric calculation is too large.                                    |\n",
        "| ReferenceError        | Raised when a weak reference object does not exist.                                               |\n",
        "| RuntimeError           | Raised when an error occurs that does not belong to any specific exceptions.                     |\n",
        "| StopIteration         | Raised when the next() method of an iterator has no further values.                               |\n",
        "| SyntaxError            | Raised when a syntax error occurs.                                                               |\n",
        "| TabError               | Raised when indentation consists of tabs or spaces.                                               |\n",
        "| SystemError            | Raised when a system error occurs.                                                               |\n",
        "| SystemExit             | Raised when the sys.exit() function is called.                                                    |\n",
        "| TypeError              | Raised when two different types are combined.                                                     |\n",
        "| UnboundLocalError      | Raised when a local variable is referenced before assignment.                                     |\n",
        "| UnicodeError          | Raised when a Unicode problem occurs.                                                             |\n",
        "| UnicodeEncodeError  | Raised when a Unicode encoding problem occurs.                                                     |\n",
        "| UnicodeDecodeError | Raised when a Unicode decoding problem occurs.                                                     |\n",
        "| UnicodeTranslateError | Raised when a Unicode translation problem occurs.                                                 |\n",
        "| ValueError            | Raised when there is a wrong value in a specified data type.                                      |\n",
        "| ZeroDivisionError   | Raised when the second operator in a division is zero.                                            |\n"
      ],
      "metadata": {
        "id": "-4ifFCplyf38"
      }
    },
    {
      "cell_type": "markdown",
      "source": [
        "**ArithmeticError:**\n",
        "* Raised when an error occurs in numeric calculations."
      ],
      "metadata": {
        "id": "T5y5PQE00U__"
      }
    },
    {
      "cell_type": "code",
      "source": [
        "try:\n",
        "    result = 10 / 0  # Division by zero raises ArithmeticError\n",
        "except ArithmeticError as e:\n",
        "    print(f\"ArithmeticError: {e}\")\n"
      ],
      "metadata": {
        "colab": {
          "base_uri": "https://localhost:8080/"
        },
        "id": "Rs4eLlRI0pYo",
        "outputId": "d6c03f82-cf16-410e-bad9-04fb8579f233"
      },
      "execution_count": null,
      "outputs": [
        {
          "output_type": "stream",
          "name": "stdout",
          "text": [
            "ArithmeticError: division by zero\n"
          ]
        }
      ]
    },
    {
      "cell_type": "markdown",
      "source": [
        "**AssertionError:**\n",
        "* Raised when an assert statement fails."
      ],
      "metadata": {
        "id": "9M37OJuK0wCs"
      }
    },
    {
      "cell_type": "code",
      "source": [
        "try:\n",
        "\n",
        "   assert 2 + 2 == 5, \"Assertion failed: 2 + 2 is not equal to 5\"\n",
        "\n",
        "except AssertionError as e:\n",
        "  print(e)\n"
      ],
      "metadata": {
        "colab": {
          "base_uri": "https://localhost:8080/"
        },
        "id": "0fK1o3SV01rP",
        "outputId": "5e3878c9-2b43-46b7-e1d3-f022cfd21316"
      },
      "execution_count": null,
      "outputs": [
        {
          "output_type": "stream",
          "name": "stdout",
          "text": [
            "Assertion failed: 2 + 2 is not equal to 5\n"
          ]
        }
      ]
    },
    {
      "cell_type": "markdown",
      "source": [
        "**AttributeError:**\n",
        "* Raised when attribute reference or assignment fails."
      ],
      "metadata": {
        "id": "VKkYaQvq1L6s"
      }
    },
    {
      "cell_type": "code",
      "source": [
        "try:\n",
        "   class MyClass:\n",
        "    pass\n",
        "\n",
        "   obj = MyClass()\n",
        "   print(obj.attribute)  # Raises AttributeError because 'attribute' does not exist\n",
        "\n",
        "except AttributeError as e:\n",
        "  print(e)"
      ],
      "metadata": {
        "colab": {
          "base_uri": "https://localhost:8080/"
        },
        "id": "Ike-9A8f1PBn",
        "outputId": "161c70b3-fcd1-401f-8e9d-a68323f37176"
      },
      "execution_count": null,
      "outputs": [
        {
          "output_type": "stream",
          "name": "stdout",
          "text": [
            "'MyClass' object has no attribute 'attribute'\n"
          ]
        }
      ]
    },
    {
      "cell_type": "markdown",
      "source": [
        "**EOFError:**\n",
        "* Raised when the input() method hits an \"end of file\" condition (EOF)."
      ],
      "metadata": {
        "id": "gUCwbQIX2DtQ"
      }
    },
    {
      "cell_type": "code",
      "source": [
        "try:\n",
        "  user_input = input(\"enter something \")\n",
        "except EOFError as e:\n",
        "  print(e)"
      ],
      "metadata": {
        "colab": {
          "base_uri": "https://localhost:8080/"
        },
        "id": "kYE1FNlb2Hk4",
        "outputId": "27766f9a-e347-4d1e-ee76-39c9644a9f62"
      },
      "execution_count": null,
      "outputs": [
        {
          "name": "stdout",
          "output_type": "stream",
          "text": [
            "enter something dnmngdm\n"
          ]
        }
      ]
    },
    {
      "cell_type": "markdown",
      "source": [
        "**ZeroDivisionError:**\n",
        "* Raised when a zero-point calculation fails."
      ],
      "metadata": {
        "id": "JQI9cwxc2gby"
      }
    },
    {
      "cell_type": "code",
      "source": [
        "try:\n",
        "  a = 1.0 / 0.0\n",
        "  print(a)\n",
        "except ZeroDivisionError as e:\n",
        "  print(e)"
      ],
      "metadata": {
        "colab": {
          "base_uri": "https://localhost:8080/"
        },
        "id": "EEJkHEh-2mcn",
        "outputId": "dba0c7d0-dae0-4a25-d494-7d8b59a7be8e"
      },
      "execution_count": null,
      "outputs": [
        {
          "output_type": "stream",
          "name": "stdout",
          "text": [
            "float division by zero\n"
          ]
        }
      ]
    },
    {
      "cell_type": "markdown",
      "source": [
        "#**Try... Exception... finally**"
      ],
      "metadata": {
        "id": "83ULNGFX5-ED"
      }
    },
    {
      "cell_type": "code",
      "source": [
        "try:\n",
        "  print(\"in try block\")\n",
        "  raise TypeError\n",
        "except:\n",
        "  print(\"int exception block\")\n",
        "finally:\n",
        "  print(\"in finally block\")"
      ],
      "metadata": {
        "colab": {
          "base_uri": "https://localhost:8080/"
        },
        "id": "to-6uv116EtU",
        "outputId": "fcc9b9a5-c814-4a05-d837-93af874b7e0d"
      },
      "execution_count": null,
      "outputs": [
        {
          "output_type": "stream",
          "name": "stdout",
          "text": [
            "in try block\n",
            "int exception block\n",
            "in finally block\n"
          ]
        }
      ]
    },
    {
      "cell_type": "markdown",
      "source": [
        "##**User defined Exception**\n",
        "\n",
        "**Explanation:**\n",
        "* ***Create a Custom Exception Class:*** To define a user-defined exception, you typically create a new class that inherits from the built-in Exception class or one of its subclasses. This custom class can include additional attributes or methods to provide more context about the error.\n",
        "* ***Raise the Custom Exception:*** You can raise your custom exception using the raise keyword when a specific condition or error occurs in your code.\n",
        "* ***Catch the Custom Exception:*** Use a try-except block to catch and handle your custom exception or any other exceptions that may arise.\n",
        "\n",
        "```\n",
        "class CustomException(Exception):\n",
        "    def __init__(self, message):\n",
        "        super().__init__(message)\n",
        "\n",
        "# Example of using the custom exception:\n",
        "try:\n",
        "    raise CustomException(\"Custom error message\")\n",
        "except CustomException as e:\n",
        "    print(f\"Caught custom exception: {e}\")\n",
        "```"
      ],
      "metadata": {
        "id": "6dYiEZ9P8O4s"
      }
    },
    {
      "cell_type": "code",
      "source": [
        "class votersEligibility(Exception):\n",
        "  def __init__(self):\n",
        "    super()\n",
        "\n",
        "try:\n",
        "  age = 12\n",
        "\n",
        "  if age < 18:\n",
        "    raise votersEligibility\n",
        "except votersEligibility:\n",
        "  print(f\"error: age is less than 18\")"
      ],
      "metadata": {
        "colab": {
          "base_uri": "https://localhost:8080/"
        },
        "id": "r7_uW5kY8uGu",
        "outputId": "1d05a595-f642-4881-8c2f-123179ed6248"
      },
      "execution_count": null,
      "outputs": [
        {
          "output_type": "stream",
          "name": "stdout",
          "text": [
            "error: age is less than 18\n"
          ]
        }
      ]
    }
  ]
}