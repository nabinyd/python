{
  "nbformat": 4,
  "nbformat_minor": 0,
  "metadata": {
    "colab": {
      "provenance": [],
      "toc_visible": true,
      "authorship_tag": "ABX9TyMNrCQ5PYvyQFXje/7HZCHx",
      "include_colab_link": true
    },
    "kernelspec": {
      "name": "python3",
      "display_name": "Python 3"
    },
    "language_info": {
      "name": "python"
    }
  },
  "cells": [
    {
      "cell_type": "markdown",
      "metadata": {
        "id": "view-in-github",
        "colab_type": "text"
      },
      "source": [
        "<a href=\"https://colab.research.google.com/github/nabinyd/python/blob/main/python.ipynb\" target=\"_parent\"><img src=\"https://colab.research.google.com/assets/colab-badge.svg\" alt=\"Open In Colab\"/></a>"
      ]
    },
    {
      "cell_type": "markdown",
      "source": [
        "#**Python statement and comment**"
      ],
      "metadata": {
        "id": "cAm5Fp2RxTvj"
      }
    },
    {
      "cell_type": "markdown",
      "source": [
        "Instruction that a python interpretor can execute is called python statement\n",
        "\n",
        "**Multiline Statement** : In python end of a statement is marked by new line character. But we can make a statement extend over multiple line with the line continuation character **(/)**\n",
        "\n",
        "*for example:*"
      ],
      "metadata": {
        "id": "xRdCH9nzxsLs"
      }
    },
    {
      "cell_type": "code",
      "source": [
        "print('''welcome\n",
        " to programming''')"
      ],
      "metadata": {
        "colab": {
          "base_uri": "https://localhost:8080/"
        },
        "id": "XVzmA3h6y-qJ",
        "outputId": "5ece87a2-e8d4-4276-b50a-265c66408248"
      },
      "execution_count": null,
      "outputs": [
        {
          "output_type": "stream",
          "name": "stdout",
          "text": [
            "welcome \n",
            " to programming\n"
          ]
        }
      ]
    },
    {
      "cell_type": "code",
      "source": [
        "# Explicit line continuation statement\n",
        "b=1+2+3+4 \\\n",
        "+5+6\n",
        "print(b)\n",
        "\n",
        "# Implicit line continuation statement\n",
        "\n",
        "c = (4+5+6\n",
        "     +2+5)\n",
        "print(c)"
      ],
      "metadata": {
        "colab": {
          "base_uri": "https://localhost:8080/"
        },
        "id": "Q6UWQKkM5_4r",
        "outputId": "6094640d-8fe5-4cdc-9d03-282ca629fea6"
      },
      "execution_count": null,
      "outputs": [
        {
          "output_type": "stream",
          "name": "stdout",
          "text": [
            "21\n",
            "22\n"
          ]
        }
      ]
    },
    {
      "cell_type": "markdown",
      "source": [
        "***Multiline statement using: \";\"***"
      ],
      "metadata": {
        "id": "cAj87zya6f1d"
      }
    },
    {
      "cell_type": "code",
      "source": [
        "d=1; c=3; f=\"ff\"\n",
        "print(d,c,f)"
      ],
      "metadata": {
        "colab": {
          "base_uri": "https://localhost:8080/"
        },
        "id": "moAre-qL6p4d",
        "outputId": "6f73f263-0083-4f61-9f01-2f8b17d5eab2"
      },
      "execution_count": null,
      "outputs": [
        {
          "output_type": "stream",
          "name": "stdout",
          "text": [
            "1 3 ff\n"
          ]
        }
      ]
    },
    {
      "cell_type": "markdown",
      "source": [
        "**Python Indentation:** Like other programming languages eg. c, c++ ,java uses {} to define a block of code. Pyhon uses indentation\n",
        "\n",
        "*As example:*\n",
        "\n",
        "```\n",
        "for i in range(1,6):\n",
        "  print(i)\n",
        "```"
      ],
      "metadata": {
        "id": "yM4MlryXxTq2"
      }
    },
    {
      "cell_type": "markdown",
      "source": [
        "**Python comments**\n",
        "\n",
        "\\# is used for line comment in python\n",
        "\n",
        "''' or \"\"\" this is used for multiline string or comment"
      ],
      "metadata": {
        "id": "NUGP8r0j2MeA"
      }
    },
    {
      "cell_type": "markdown",
      "source": [
        "####**Docstring**"
      ],
      "metadata": {
        "id": "soty76O63vmN"
      }
    },
    {
      "cell_type": "markdown",
      "source": [
        "\n",
        "\n",
        "*  Docstring is a short for documentation string\n",
        "*   It is a string that occurs as the first statement in the function, class, module or method definition. We must write what a function/ class does in the docstring.\n",
        "\n"
      ],
      "metadata": {
        "id": "Fx3pvHWx319M"
      }
    },
    {
      "cell_type": "code",
      "source": [
        "def square(num):\n",
        "    \"\"\"\n",
        "    Calculate the square of a number.\n",
        "\n",
        "    Args:\n",
        "    - num (int or float): The number to be squared.\n",
        "\n",
        "    Returns:\n",
        "    - int or float: The square of the input number.\n",
        "    \"\"\"\n",
        "    return num ** 2\n",
        "\n",
        "# Using the square function\n",
        "result = square(5)\n",
        "print(\"Square of 5 is:\", result)\n",
        "\n",
        "# Accessing the docstring\n",
        "print(\"\\nsquare function docstring:\")\n",
        "print(square.__doc__)\n"
      ],
      "metadata": {
        "colab": {
          "base_uri": "https://localhost:8080/"
        },
        "id": "clEGzzsH5POM",
        "outputId": "d0d8f27b-fad4-41fc-b093-f25e6f73deac"
      },
      "execution_count": null,
      "outputs": [
        {
          "output_type": "stream",
          "name": "stdout",
          "text": [
            "Square of 5 is: 25\n",
            "\n",
            "square function docstring:\n",
            "\n",
            "    Calculate the square of a number.\n",
            "\n",
            "    Args:\n",
            "    - num (int or float): The number to be squared.\n",
            "\n",
            "    Returns:\n",
            "    - int or float: The square of the input number.\n",
            "    \n"
          ]
        }
      ]
    },
    {
      "cell_type": "markdown",
      "source": [
        "#**Input**\n",
        "\n",
        "`input()` :    \n",
        "\n",
        "*  Function : The `input()` function allows the user to provide input to the program.\n",
        "\n",
        "*  Usage: It reads line from input (usually from the user via keyboard) and returns it as a string.\n",
        "\n",
        "Example:\n"
      ],
      "metadata": {
        "id": "z5Q0qygFCuUy"
      }
    },
    {
      "cell_type": "code",
      "source": [
        "name = input(\"enter Your name: \")\n",
        "\n",
        "print(\"hello \" + name + \"!\")"
      ],
      "metadata": {
        "colab": {
          "base_uri": "https://localhost:8080/"
        },
        "id": "x7XdDxtbDlHr",
        "outputId": "a67234bc-05d2-4786-86e7-890c2c19ce77"
      },
      "execution_count": null,
      "outputs": [
        {
          "output_type": "stream",
          "name": "stdout",
          "text": [
            "enter Your name: nabin\n",
            "hello nabin!\n"
          ]
        }
      ]
    },
    {
      "cell_type": "code",
      "source": [
        "y= int(input(\"Enter any number: \"))\n",
        "print(\"number : \", y)"
      ],
      "metadata": {
        "colab": {
          "base_uri": "https://localhost:8080/"
        },
        "id": "cqyQCaTlExLP",
        "outputId": "bfcb25f2-764a-4c38-c695-6652d8470072"
      },
      "execution_count": null,
      "outputs": [
        {
          "output_type": "stream",
          "name": "stdout",
          "text": [
            "Enter any number: 5\n",
            "number :  5\n"
          ]
        }
      ]
    },
    {
      "cell_type": "markdown",
      "source": [
        "#**Parameter in print() function**"
      ],
      "metadata": {
        "id": "Wf9wyHt8y9_t"
      }
    },
    {
      "cell_type": "markdown",
      "source": [
        "### `print` Function Syntax\n",
        "\n",
        "**Syntax**: `print(*objects, sep=' ', end='\\n', file=sys.stdout, flush=False)`\n",
        "\n",
        "- **`*objects`**: Any number of objects to be printed. Multiple objects are separated by `sep`.\n",
        "\n",
        "- **`sep`** (optional): Specifies the separator between the objects (default is a space).\n",
        "- **`end`** (optional): Specifies what to print at the end (default is a newline).\n",
        "- **`file`** (optional): Specifies the file to write to (default is `sys.stdout`).\n",
        "- **`flush`** (optional): Specifies whether to flush the output buffer (default is `False`).\n"
      ],
      "metadata": {
        "id": "aiCQy7-7EWht"
      }
    },
    {
      "cell_type": "markdown",
      "source": [],
      "metadata": {
        "id": "7l9PL0_2Et-0"
      }
    },
    {
      "cell_type": "markdown",
      "source": [
        "####**objects (positional argument):**\n",
        "* Represents the values or objects to be printed. You can pass multiple objects separated by commas, and print() will automatically insert spaces between them.\n",
        "```\n",
        "print(\"Hello\", \"world!\")  # Output: Hello world!\n",
        "```\n",
        "\n"
      ],
      "metadata": {
        "id": "tzo2yhwWzMC7"
      }
    },
    {
      "cell_type": "markdown",
      "source": [
        "####**sep (keyword argument, default is a single space ' '):**\n",
        "\n",
        "* Specifies the separator between the objects. You can change it to any string or character.\n",
        "```\n",
        "print(\"Hello\", \"world!\", sep=\", \")  # Output: Hello, world!\n",
        "```\n"
      ],
      "metadata": {
        "id": "VbD2FAMMzaTh"
      }
    },
    {
      "cell_type": "markdown",
      "source": [
        "####**end (keyword argument, default is a newline '\\n'):**\n",
        "* Specifies the string to be appended at the end of the printed output. By default, it adds a newline after printing.\n",
        "\n",
        "```\n",
        "print(\"Hello\", end=\" \")\n",
        "print(\"world!\")  # Output: Hello world! (without newline)\n",
        "```\n"
      ],
      "metadata": {
        "id": "cG2e3bUIzlpp"
      }
    },
    {
      "cell_type": "markdown",
      "source": [
        "####**file (keyword argument, default is sys.stdout):**\n",
        "* Specifies the file object where the output should be sent. By default, it prints to the standard output (console).\n",
        "\n",
        "```\n",
        "with open(\"output.txt\", \"w\") as f:\n",
        "    print(\"Hello world!\", file=f)  # Output: Writes to output.txt instead of console\n"
      ],
      "metadata": {
        "id": "xsYyovDTzymE"
      }
    },
    {
      "cell_type": "markdown",
      "source": [
        "####**flush (keyword argument, default is False):**\n",
        "* Specifies whether the output buffer should be flushed immediately. When flush=True, it forces the output to be written immediately.\n",
        "\n",
        "```\n",
        "print(\"Hello\", flush=True)  # Output: Prints \"Hello\" immediately without waiting\n",
        "```"
      ],
      "metadata": {
        "id": "wRNNisfK0LLN"
      }
    },
    {
      "cell_type": "markdown",
      "source": [
        "###**Example with All Parameters:**\n",
        "```\n",
        "print(\"Hello\", \"world\", sep=\", \", end=\"!\", file=sys.stdout, flush=False)\n",
        "```\n"
      ],
      "metadata": {
        "id": "TGwfo3Bx0any"
      }
    },
    {
      "cell_type": "code",
      "execution_count": null,
      "metadata": {
        "id": "w7W-yBDKMSrY",
        "colab": {
          "base_uri": "https://localhost:8080/"
        },
        "outputId": "071bb10b-d5a0-46fa-c755-8c1bf488017c"
      },
      "outputs": [
        {
          "output_type": "stream",
          "name": "stdout",
          "text": [
            "Hello, world!"
          ]
        }
      ],
      "source": [
        "print(\"Hello\", \"world\", sep=\", \", end=\"!\", flush=False)\n"
      ]
    },
    {
      "cell_type": "code",
      "source": [
        "str = \"Nabin Yadav\"\n",
        "print(str[1:-2])\n"
      ],
      "metadata": {
        "colab": {
          "base_uri": "https://localhost:8080/"
        },
        "id": "iIpx-F6yNWpL",
        "outputId": "8337b1cd-d59a-4b68-bc2b-3d48b224ed7c"
      },
      "execution_count": null,
      "outputs": [
        {
          "output_type": "stream",
          "name": "stdout",
          "text": [
            "abin Yad\n"
          ]
        }
      ]
    },
    {
      "cell_type": "markdown",
      "source": [
        "\n",
        "\n",
        "The syntax `str[1:3:4]` in Python is used for slicing strings. Let's break down each part:\n",
        "\n",
        "- `str`: This refers to the string you want to slice.\n",
        "- `[1:3:4]`: This is the slicing syntax.\n",
        "\n",
        "Here's what each part inside the square brackets means:\n",
        "\n",
        "1. **Start Index (1)**: This specifies the index from where the slicing will start. In Python, indexing starts from 0. So, `str[1]` refers to the second character of the string.\n",
        "\n",
        "\n",
        "2. **End Index (3)**: This specifies the index where the slicing will end. However, note that the slicing stops before the end index. So, `str[3]` is not included in the sliced string.\n",
        "\n",
        "\n",
        "3. **Step (4)**: This specifies the step size, which determines how many characters to skip between each character that is included in the sliced string.\n"
      ],
      "metadata": {
        "id": "12H16z63Ov3d"
      }
    },
    {
      "cell_type": "code",
      "source": [
        "print(str[1:3:4])"
      ],
      "metadata": {
        "colab": {
          "base_uri": "https://localhost:8080/"
        },
        "id": "GW4se3quOnG5",
        "outputId": "f6646bd8-c921-4a31-82a5-4b84b01f5806"
      },
      "execution_count": null,
      "outputs": [
        {
          "output_type": "stream",
          "name": "stdout",
          "text": [
            "a\n"
          ]
        }
      ]
    },
    {
      "cell_type": "code",
      "source": [
        "str1 = \"nabin\"\n",
        "str2 = \"yadav\"\n",
        "print(str1)\n",
        "print(str2)\n",
        "print(str1 +' '+ str2)\n",
        "print(str1*3)\n",
        "print(str1+ \" \" + str2 *3)"
      ],
      "metadata": {
        "colab": {
          "base_uri": "https://localhost:8080/"
        },
        "id": "r9lQCBuWPBGt",
        "outputId": "749217ee-0431-435b-8fca-34f4720160ed"
      },
      "execution_count": null,
      "outputs": [
        {
          "output_type": "stream",
          "name": "stdout",
          "text": [
            "nabin\n",
            "yadav\n",
            "nabin yadav\n",
            "nabinnabinnabin\n",
            "nabin yadavyadavyadav\n"
          ]
        }
      ]
    },
    {
      "cell_type": "code",
      "source": [
        "#Iteration through string\n",
        "letter_count =0\n",
        "for letters in str1:\n",
        "  print(letters)\n",
        "  letter_count +=1\n",
        "print(letter_count)"
      ],
      "metadata": {
        "colab": {
          "base_uri": "https://localhost:8080/"
        },
        "id": "doGj-sJRSTpw",
        "outputId": "f6cd0a04-d181-4087-b687-7733bfff0e25"
      },
      "execution_count": null,
      "outputs": [
        {
          "output_type": "stream",
          "name": "stdout",
          "text": [
            "n\n",
            "a\n",
            "b\n",
            "i\n",
            "n\n",
            "5\n"
          ]
        }
      ]
    },
    {
      "cell_type": "code",
      "source": [
        "#string membership\n",
        "print('y' in str1)\n",
        "print('y' in str1+ str2)\n",
        "print('n'in str1)\n",
        "print('a' not in str1)"
      ],
      "metadata": {
        "colab": {
          "base_uri": "https://localhost:8080/"
        },
        "id": "YNgdV3oNTcEl",
        "outputId": "6990f90c-ed1c-4652-eb5d-8199b29b4885"
      },
      "execution_count": null,
      "outputs": [
        {
          "output_type": "stream",
          "name": "stdout",
          "text": [
            "False\n",
            "True\n",
            "True\n",
            "False\n"
          ]
        }
      ]
    },
    {
      "cell_type": "code",
      "source": [
        "# The code en = list(enumerate(str1)) creates a list of tuples where each tuple contains the index and character of each element in the string str1. Here's a breakdown:\n",
        "\n",
        "# enumerate(str1): This function pairs each element of str1 with its index, starting from 0. It returns an iterator of tuples, where each tuple contains an index and the corresponding character from str1.\n",
        "# list(...): Converts the iterator returned by enumerate into a list.\n",
        "\n",
        "en=list(enumerate(str1))\n",
        "print(en)\n"
      ],
      "metadata": {
        "colab": {
          "base_uri": "https://localhost:8080/"
        },
        "id": "DnCCPY6jUXBC",
        "outputId": "c2327e04-e2e0-40d4-c990-b490a51bb23d"
      },
      "execution_count": null,
      "outputs": [
        {
          "output_type": "stream",
          "name": "stdout",
          "text": [
            "[(0, 'n'), (1, 'a'), (2, 'b'), (3, 'i'), (4, 'n')]\n"
          ]
        }
      ]
    },
    {
      "cell_type": "code",
      "source": [
        "print(len(str1))"
      ],
      "metadata": {
        "colab": {
          "base_uri": "https://localhost:8080/"
        },
        "id": "_bIG1-xcVKsh",
        "outputId": "1bf225fb-603a-4bee-83e2-8cb67e7aa695"
      },
      "execution_count": null,
      "outputs": [
        {
          "output_type": "stream",
          "name": "stdout",
          "text": [
            "5\n"
          ]
        }
      ]
    },
    {
      "cell_type": "code",
      "source": [
        "print('''using triple quotes''')\n",
        "print('escaping single quote\\'s')\n",
        "print(\"tell me 'what\\'s your name?'\")"
      ],
      "metadata": {
        "colab": {
          "base_uri": "https://localhost:8080/"
        },
        "id": "uxpshVKKVZqH",
        "outputId": "c47e46a4-42eb-47ad-bb73-932f65d75526"
      },
      "execution_count": null,
      "outputs": [
        {
          "output_type": "stream",
          "name": "stdout",
          "text": [
            "using triple quotes\n",
            "escaping single quote's\n",
            "tell me 'what's your name?'\n"
          ]
        }
      ]
    },
    {
      "cell_type": "markdown",
      "source": [
        "#**Importing module**"
      ],
      "metadata": {
        "id": "ZSyqQFXfGG1r"
      }
    },
    {
      "cell_type": "markdown",
      "source": [
        "`import`    \n",
        "\n",
        "*   **function** : The `import` statement is used to include the definitions (functions, classes, variables) from a module into your current module into your current namespace.\n",
        "\n",
        "\n",
        "*   **Basic import :**\n",
        "   *   **Syntax :**  `import module_name`\n",
        "\n",
        "   *   **Example:**  \n"
      ],
      "metadata": {
        "id": "W8-Do46UGGxJ"
      }
    },
    {
      "cell_type": "code",
      "source": [
        "import math\n",
        "print(math.sqrt(16))"
      ],
      "metadata": {
        "colab": {
          "base_uri": "https://localhost:8080/"
        },
        "id": "BookSE7uHayV",
        "outputId": "3236abab-ff44-4163-86dc-f1bf9a920d8f"
      },
      "execution_count": null,
      "outputs": [
        {
          "output_type": "stream",
          "name": "stdout",
          "text": [
            "4.0\n"
          ]
        }
      ]
    },
    {
      "cell_type": "markdown",
      "source": [
        "####**Import Specific name**\n",
        "\n",
        " *   **Syntax :** `from module_name import name1 , name2`\n",
        "  "
      ],
      "metadata": {
        "id": "geiej4nNHgsN"
      }
    },
    {
      "cell_type": "code",
      "source": [
        "from math import sqrt, pi\n",
        "print(sqrt(16))  # Output: 4.0\n",
        "print(pi)  # Output: 3.141592653589793\n"
      ],
      "metadata": {
        "colab": {
          "base_uri": "https://localhost:8080/"
        },
        "id": "p0oq6caSH-Pj",
        "outputId": "a934bd34-7054-49fc-a203-d9d20bbeb182"
      },
      "execution_count": null,
      "outputs": [
        {
          "output_type": "stream",
          "name": "stdout",
          "text": [
            "4.0\n",
            "3.141592653589793\n"
          ]
        }
      ]
    },
    {
      "cell_type": "markdown",
      "source": [
        "####**Import with Alias:**\n",
        "\n",
        "\n",
        "**Syntax:** `import module_name as alias`\n"
      ],
      "metadata": {
        "id": "4wnXDI1TIBZM"
      }
    },
    {
      "cell_type": "code",
      "source": [
        "import numpy as np\n",
        "arr = np.array([1, 2, 3])\n",
        "print(arr)  # Output: [1 2 3]\n"
      ],
      "metadata": {
        "colab": {
          "base_uri": "https://localhost:8080/"
        },
        "id": "tPpcXoWxIL0h",
        "outputId": "bf28401b-7dce-4e2e-e9b4-39c20ce82226"
      },
      "execution_count": null,
      "outputs": [
        {
          "output_type": "stream",
          "name": "stdout",
          "text": [
            "[1 2 3]\n"
          ]
        }
      ]
    },
    {
      "cell_type": "markdown",
      "source": [
        "#**Python List comprehension**"
      ],
      "metadata": {
        "id": "7Vz7jHywLxKL"
      }
    },
    {
      "cell_type": "code",
      "source": [
        "h_letters = []\n",
        "\n",
        "for letters in 'human':\n",
        "  h_letters.append(letters)\n",
        "\n",
        "print(h_letters)"
      ],
      "metadata": {
        "colab": {
          "base_uri": "https://localhost:8080/"
        },
        "id": "cF1lcgUHMCpu",
        "outputId": "f4d3cd39-1dc9-4b63-e88e-ea984e7b94db"
      },
      "execution_count": null,
      "outputs": [
        {
          "output_type": "stream",
          "name": "stdout",
          "text": [
            "['h', 'u', 'm', 'a', 'n']\n"
          ]
        }
      ]
    },
    {
      "cell_type": "markdown",
      "source": [
        "**using compresension**"
      ],
      "metadata": {
        "id": "6z6u07Y8MUbr"
      }
    },
    {
      "cell_type": "code",
      "source": [
        "h_letters = [letter for letter in 'human']\n",
        "\n",
        "print(h_letters)"
      ],
      "metadata": {
        "colab": {
          "base_uri": "https://localhost:8080/"
        },
        "id": "ixqtgK5ZMY7X",
        "outputId": "2800547f-f280-475c-c001-850775a320b1"
      },
      "execution_count": null,
      "outputs": [
        {
          "output_type": "stream",
          "name": "stdout",
          "text": [
            "['h', 'u', 'm', 'a', 'n']\n"
          ]
        }
      ]
    },
    {
      "cell_type": "markdown",
      "source": [
        "**List comprehension vs Lambda function**\n"
      ],
      "metadata": {
        "id": "HXPC-YDCNE3l"
      }
    },
    {
      "cell_type": "code",
      "source": [
        "h_letters = list(map(lambda x:x, \"human\"))\n",
        "\n",
        "print(h_letters)"
      ],
      "metadata": {
        "colab": {
          "base_uri": "https://localhost:8080/"
        },
        "id": "s0IWmOtANKMq",
        "outputId": "b4f9264c-4557-4e6f-8b5b-c5223be28492"
      },
      "execution_count": null,
      "outputs": [
        {
          "output_type": "stream",
          "name": "stdout",
          "text": [
            "['h', 'u', 'm', 'a', 'n']\n"
          ]
        }
      ]
    },
    {
      "cell_type": "markdown",
      "source": [
        "**If with list comprehension**\n"
      ],
      "metadata": {
        "id": "7rLMMVcXNjKo"
      }
    },
    {
      "cell_type": "code",
      "source": [
        "number_list = [x for x in range(20) if x % 2 == 0 ]\n",
        "print(number_list)"
      ],
      "metadata": {
        "colab": {
          "base_uri": "https://localhost:8080/"
        },
        "id": "_RqqrmdINqol",
        "outputId": "ab46062a-ceb5-4411-dc99-ea2ceb55110f"
      },
      "execution_count": null,
      "outputs": [
        {
          "output_type": "stream",
          "name": "stdout",
          "text": [
            "[0, 2, 4, 6, 8, 10, 12, 14, 16, 18]\n"
          ]
        }
      ]
    },
    {
      "cell_type": "markdown",
      "source": [
        "**Nested If with list comprehension**\n",
        "\n"
      ],
      "metadata": {
        "id": "pGQ0nVAJVHOK"
      }
    },
    {
      "cell_type": "code",
      "source": [
        "num_list = [ y for y in range(100) if y % 2 == 0 if y % 5 ==0]\n",
        "print(num_list)"
      ],
      "metadata": {
        "colab": {
          "base_uri": "https://localhost:8080/"
        },
        "id": "sOH-XZSoVN4I",
        "outputId": "7074a670-3f19-4353-fb6b-9dd6a9f6c056"
      },
      "execution_count": null,
      "outputs": [
        {
          "output_type": "stream",
          "name": "stdout",
          "text": [
            "[0, 10, 20, 30, 40, 50, 60, 70, 80, 90]\n"
          ]
        }
      ]
    },
    {
      "cell_type": "markdown",
      "source": [
        "**If .. else with list compresension**"
      ],
      "metadata": {
        "id": "C8-4XtfPVz_S"
      }
    },
    {
      "cell_type": "code",
      "source": [
        "obj = [\"even\" if i%2==0 else \"odd\" for i in range(10)]\n",
        "print(obj)"
      ],
      "metadata": {
        "colab": {
          "base_uri": "https://localhost:8080/"
        },
        "id": "U6TSj7V1V7_c",
        "outputId": "b256792e-45a4-4dbf-e1d7-1f4ccbf45f20"
      },
      "execution_count": null,
      "outputs": [
        {
          "output_type": "stream",
          "name": "stdout",
          "text": [
            "['even', 'odd', 'even', 'odd', 'even', 'odd', 'even', 'odd', 'even', 'odd']\n"
          ]
        }
      ]
    },
    {
      "cell_type": "markdown",
      "source": [
        "**Transposing a matrix using list comprehension**"
      ],
      "metadata": {
        "id": "_8xm3EVLXGMB"
      }
    },
    {
      "cell_type": "code",
      "source": [
        "matrix = [[1,2],[3,4],[5,6],[7,8]]\n",
        "transpose = [[row[i] for row in matrix]  for i in range(2)]\n",
        "print(transpose)"
      ],
      "metadata": {
        "colab": {
          "base_uri": "https://localhost:8080/"
        },
        "id": "YML3IwviXOC7",
        "outputId": "e825340c-022a-4b00-e4d0-5cc23ff325dc"
      },
      "execution_count": null,
      "outputs": [
        {
          "output_type": "stream",
          "name": "stdout",
          "text": [
            "[[1, 3, 5, 7], [2, 4, 6, 8]]\n"
          ]
        }
      ]
    },
    {
      "cell_type": "markdown",
      "source": [
        "####**Advance example**\n",
        "\n",
        "**Flattening a List of list**\n",
        "\n"
      ],
      "metadata": {
        "id": "74fWJwdxV7HP"
      }
    },
    {
      "cell_type": "code",
      "source": [
        "nested_list = [[1,2,3],[4,5,6],[7,8,9]]\n",
        "\n",
        "flattened = [item for sublist in nested_list for item in  sublist]\n",
        "print(flattened)"
      ],
      "metadata": {
        "colab": {
          "base_uri": "https://localhost:8080/"
        },
        "id": "Vgk1bQk6YIPH",
        "outputId": "bbef8456-fc23-4b71-82f9-3276e3b1d8fd"
      },
      "execution_count": null,
      "outputs": [
        {
          "output_type": "stream",
          "name": "stdout",
          "text": [
            "[1, 2, 3, 4, 5, 6, 7, 8, 9]\n"
          ]
        }
      ]
    },
    {
      "cell_type": "markdown",
      "source": [
        "## How It Works\n",
        "\n",
        "### Outer Loop (`for sublist in nested_list`):\n",
        "- This loop iterates over each sublist in `nested_list`.\n",
        "- `sublist` takes the value of each inner list in `nested_list` one by one.\n",
        "\n",
        "  - Iteration 1: `sublist = [1, 2, 3]`\n",
        "  - Iteration 2: `sublist = [4, 5, 6]`\n",
        "  - Iteration 3: `sublist = [7, 8, 9]`\n",
        "\n",
        "### Inner Loop (`for item in sublist`):\n",
        "- For each `sublist`, this inner loop iterates over each `item` in the `sublist`.\n",
        "- During each iteration of the outer loop, the inner loop will iterate over the elements of the current `sublist`.\n",
        "\n",
        "  - For `sublist = [1, 2, 3]`:\n",
        "    - Iteration 1: `item = 1`\n",
        "    - Iteration 2: `item = 2`\n",
        "    - Iteration 3: `item = 3`\n",
        "\n",
        "  - For `sublist = [4, 5, 6]`:\n",
        "    - Iteration 1: `item = 4`\n",
        "    - Iteration 2: `item = 5`\n",
        "    - Iteration 3: `item = 6`\n",
        "\n",
        "  - For `sublist = [7, 8, 9]`:\n",
        "    - Iteration 1: `item = 7`\n",
        "    - Iteration 2: `item = 8`\n",
        "    - Iteration 3: `item = 9`\n",
        "\n",
        "### Expression (`item`):\n",
        "- The expression `item` specifies what to include in the new list.\n",
        "- For each `item` obtained from the inner loop, it is included in the `flattened` list.\n"
      ],
      "metadata": {
        "id": "3UPweDEHZEZB"
      }
    },
    {
      "cell_type": "markdown",
      "source": [
        "**Using function**\n",
        "\n",
        "Apply a function to each element"
      ],
      "metadata": {
        "id": "AYpsNCI7ZNrB"
      }
    },
    {
      "cell_type": "code",
      "source": [
        "def square(x):\n",
        "  return x**2\n",
        "\n",
        "\n",
        "squares = [square(x) for x in range(10)]\n",
        "print(squares)"
      ],
      "metadata": {
        "colab": {
          "base_uri": "https://localhost:8080/"
        },
        "id": "2lzRw8qcZUv8",
        "outputId": "da46b3b8-f1b1-4c79-809d-5c7ffe7ecbef"
      },
      "execution_count": null,
      "outputs": [
        {
          "output_type": "stream",
          "name": "stdout",
          "text": [
            "[0, 1, 4, 9, 16, 25, 36, 49, 64, 81]\n"
          ]
        }
      ]
    },
    {
      "cell_type": "markdown",
      "source": [
        "**Creating a dictionary**\n",
        "\n",
        "\n",
        "Creating a dictionary from list of tuples:"
      ],
      "metadata": {
        "id": "e7nJ96sGZqCW"
      }
    },
    {
      "cell_type": "code",
      "source": [
        "tuples = [(1,'one'),(2,'two'),(3,'three')]\n",
        "\n",
        "num_dict = {k:v for k,v in tuples}\n",
        "print(num_dict)"
      ],
      "metadata": {
        "colab": {
          "base_uri": "https://localhost:8080/"
        },
        "id": "T9g0tAQJZyWY",
        "outputId": "32005e32-0b31-413b-d8a1-1c19408b26e9"
      },
      "execution_count": null,
      "outputs": [
        {
          "output_type": "stream",
          "name": "stdout",
          "text": [
            "{1: 'one', 2: 'two', 3: 'three'}\n"
          ]
        }
      ]
    },
    {
      "cell_type": "markdown",
      "source": [
        "#**Format method in string**"
      ],
      "metadata": {
        "id": "P7ElkmlpZEt4"
      }
    },
    {
      "cell_type": "code",
      "source": [
        "default_order = \"{} {} {}\".format(\"name\",\"age\",\"roll\")\n",
        "print(default_order)\n",
        "\n",
        "#positional argiments\n",
        "name = \"nabin\"\n",
        "lastname = \"yadav\"\n",
        "positional_argument = \"My name is {} {}\".format(name,lastname)\n",
        "print(positional_argument)"
      ],
      "metadata": {
        "colab": {
          "base_uri": "https://localhost:8080/"
        },
        "id": "HJYtH9RtZFuc",
        "outputId": "d718e2d2-c281-4e9a-b1e3-b10e45606825"
      },
      "execution_count": null,
      "outputs": [
        {
          "output_type": "stream",
          "name": "stdout",
          "text": [
            "name age roll\n",
            "My name is nabin yadav\n"
          ]
        }
      ]
    },
    {
      "cell_type": "markdown",
      "source": [
        "**Named argument**"
      ],
      "metadata": {
        "id": "wmms98JfbZN9"
      }
    },
    {
      "cell_type": "code",
      "source": [
        "named_argument = \"My name is {firstname} {lastname}\".format(firstname='nabin',lastname = \"yadav\")\n",
        "print(named_argument)"
      ],
      "metadata": {
        "colab": {
          "base_uri": "https://localhost:8080/"
        },
        "id": "i4L9D9WAWeG-",
        "outputId": "faf75e4f-637c-4b57-9673-1189cd2f5548"
      },
      "execution_count": null,
      "outputs": [
        {
          "output_type": "stream",
          "name": "stdout",
          "text": [
            "My name is nabin yadav\n"
          ]
        }
      ]
    },
    {
      "cell_type": "markdown",
      "source": [],
      "metadata": {
        "id": "k1lsg6bFLxGR"
      }
    },
    {
      "cell_type": "markdown",
      "source": [],
      "metadata": {
        "id": "LksSMj46LxCH"
      }
    },
    {
      "cell_type": "markdown",
      "source": [],
      "metadata": {
        "id": "z0ACsJJsLwfe"
      }
    },
    {
      "cell_type": "markdown",
      "source": [
        "###**Format Specifiers:**\n",
        "###You can apply formatting options to the placeholders to control how the values are displayed:\n",
        "\n",
        "* {:.2f}: Format as a floating-point number with 2 decimal places.\n",
        "* {:<10}: Left-align text within a 10-character space.\n",
        "* {:^10}: Center-align text within a 10-character space.\n",
        "* {:>10}: Right-align text within a 10-character space."
      ],
      "metadata": {
        "id": "NgyMPbiAcsBy"
      }
    },
    {
      "cell_type": "markdown",
      "source": [
        "**{:.2f}: Format as a floating-point number with 2 decimal places.**"
      ],
      "metadata": {
        "id": "Cym8VIv-eQjO"
      }
    },
    {
      "cell_type": "code",
      "source": [
        "pi = 3.14159\n",
        "formatted_pi = \"Pi value: {:.2f}\".format(pi)\n",
        "print(formatted_pi)\n"
      ],
      "metadata": {
        "colab": {
          "base_uri": "https://localhost:8080/"
        },
        "id": "jEuYsOBkcLFA",
        "outputId": "ecae749d-7d22-42bc-8223-8b2646d41782"
      },
      "execution_count": null,
      "outputs": [
        {
          "output_type": "stream",
          "name": "stdout",
          "text": [
            "Pi value: 3.14\n"
          ]
        }
      ]
    },
    {
      "cell_type": "markdown",
      "source": [
        "**{:<20}: Left-align text within a 10-character space**"
      ],
      "metadata": {
        "id": "VQfcPBEyfV8k"
      }
    },
    {
      "cell_type": "code",
      "source": [
        "text = \"left-aligned\"\n",
        "print(text)\n",
        "formatted_text = \"{:<20}\".format(text)\n",
        "print('|'+formatted_text+'|')"
      ],
      "metadata": {
        "colab": {
          "base_uri": "https://localhost:8080/"
        },
        "id": "bcCMyDs1eVnT",
        "outputId": "8ed87a30-3f06-4832-beb9-27bad3214494"
      },
      "execution_count": null,
      "outputs": [
        {
          "output_type": "stream",
          "name": "stdout",
          "text": [
            "left-aligned\n",
            "|left-aligned        |\n"
          ]
        }
      ]
    },
    {
      "cell_type": "markdown",
      "source": [
        "**{:^20}: centered-align text within a 10-character space**"
      ],
      "metadata": {
        "id": "yW8_MBgPfZmf"
      }
    },
    {
      "cell_type": "code",
      "source": [
        "text = \"centered-aligned\"\n",
        "print(text)\n",
        "formatted_text = \"{:^20}\".format(text)\n",
        "print('|'+formatted_text+'|')"
      ],
      "metadata": {
        "colab": {
          "base_uri": "https://localhost:8080/"
        },
        "id": "Z5sw1vhSermE",
        "outputId": "fb4a8303-b2ed-4ae9-8556-cf61107e600a"
      },
      "execution_count": null,
      "outputs": [
        {
          "output_type": "stream",
          "name": "stdout",
          "text": [
            "centered-aligned\n",
            "|  centered-aligned  |\n"
          ]
        }
      ]
    },
    {
      "cell_type": "markdown",
      "source": [
        "**{:>20}: Right-align text within a 10-character space.**"
      ],
      "metadata": {
        "id": "lKj9KivtfxAU"
      }
    },
    {
      "cell_type": "code",
      "source": [
        "text = \"right-aligned\"\n",
        "print(text)\n",
        "formatted_text = \"{:>20}\".format(text)\n",
        "print('|'+formatted_text+'|')"
      ],
      "metadata": {
        "colab": {
          "base_uri": "https://localhost:8080/"
        },
        "id": "41ghXVqUfNmb",
        "outputId": "db2ba505-b876-4625-d3ad-26b8e2be597c"
      },
      "execution_count": null,
      "outputs": [
        {
          "output_type": "stream",
          "name": "stdout",
          "text": [
            "right-aligned\n",
            "|       right-aligned|\n"
          ]
        }
      ]
    },
    {
      "cell_type": "markdown",
      "source": [
        "##**Binary Integer Formatting:**\n",
        "To format an integer into its binary representation, you can use the b format specifier. For example:\n",
        "\n"
      ],
      "metadata": {
        "id": "ZUDCX7UyfwOa"
      }
    },
    {
      "cell_type": "code",
      "source": [
        "num = 10\n",
        "binary_num = \"{:b}\".format(num)\n",
        "print(binary_num)\n"
      ],
      "metadata": {
        "colab": {
          "base_uri": "https://localhost:8080/"
        },
        "id": "x-biPKqZgiKy",
        "outputId": "e9e4a4a3-ed61-4e53-c68b-864e88fe6010"
      },
      "execution_count": null,
      "outputs": [
        {
          "output_type": "stream",
          "name": "stdout",
          "text": [
            "1010\n"
          ]
        }
      ]
    },
    {
      "cell_type": "markdown",
      "source": [
        "##**Exponential representation**"
      ],
      "metadata": {
        "id": "WL1JPqdHjLfc"
      }
    },
    {
      "cell_type": "code",
      "source": [
        "print(\"{0:e}\".format(1.52354))"
      ],
      "metadata": {
        "colab": {
          "base_uri": "https://localhost:8080/"
        },
        "id": "40rrqRX1jQL6",
        "outputId": "e497d84a-0a60-42fe-d047-df936f77731b"
      },
      "execution_count": null,
      "outputs": [
        {
          "output_type": "stream",
          "name": "stdout",
          "text": [
            "1.523540e+00\n"
          ]
        }
      ]
    },
    {
      "cell_type": "markdown",
      "source": [
        "##**Binary Floating-Point Formatting:**"
      ],
      "metadata": {
        "id": "KTfUBJuqgylv"
      }
    },
    {
      "cell_type": "code",
      "source": [
        "num = 3.5\n",
        "binary_num = \"{:b}\".format(int(num))  # Convert to integer first\n",
        "print(binary_num)\n"
      ],
      "metadata": {
        "colab": {
          "base_uri": "https://localhost:8080/"
        },
        "id": "oX56CA3vg76v",
        "outputId": "8fce7b6a-316a-4530-fccf-eb40364751e3"
      },
      "execution_count": null,
      "outputs": [
        {
          "output_type": "stream",
          "name": "stdout",
          "text": [
            "11\n"
          ]
        }
      ]
    },
    {
      "cell_type": "markdown",
      "source": [
        "##**Binary Prefixes and Padding:**\n",
        "* In this case, # adds the prefix 0b to indicate a binary number, and 010 specifies padding the binary representation with zeros to a total width of 10 characters."
      ],
      "metadata": {
        "id": "LpLTpOEyhdJ9"
      }
    },
    {
      "cell_type": "code",
      "source": [
        "num = 10\n",
        "binary_num = \"{:#010b}\".format(num)  # Pad with zeros and add '0b' prefix\n",
        "print(binary_num)  # Output: '0b00001010'\n"
      ],
      "metadata": {
        "colab": {
          "base_uri": "https://localhost:8080/"
        },
        "id": "lIfZPuAuhl8n",
        "outputId": "2dc63017-dfb2-4b69-d1e2-aaa45dd571b8"
      },
      "execution_count": null,
      "outputs": [
        {
          "output_type": "stream",
          "name": "stdout",
          "text": [
            "0b00001010\n"
          ]
        }
      ]
    },
    {
      "cell_type": "markdown",
      "source": [
        "##**Using f-Strings for Binary Formatting (Python 3.6+):**\n"
      ],
      "metadata": {
        "id": "1FwaJgSSh-3b"
      }
    },
    {
      "cell_type": "code",
      "source": [
        "num = 10\n",
        "binary_num = f\"{num:#010b}\"  # Using f-string with padding and prefix\n",
        "print(binary_num)\n"
      ],
      "metadata": {
        "colab": {
          "base_uri": "https://localhost:8080/"
        },
        "id": "vEvZAd9oiET1",
        "outputId": "66586cf0-b5ad-4b17-e7df-14c1d07af276"
      },
      "execution_count": null,
      "outputs": [
        {
          "output_type": "stream",
          "name": "stdout",
          "text": [
            "0b00001010\n"
          ]
        }
      ]
    },
    {
      "cell_type": "markdown",
      "source": [
        "##**Binary Representation of Other Data Types:**\n",
        "You can apply binary formatting to other data types as well, such as bytes and bytearray objects:"
      ],
      "metadata": {
        "id": "LY8QVXuEiM7k"
      }
    },
    {
      "cell_type": "code",
      "source": [
        "data = b'Hello'\n",
        "binary_data = \"{:08b}\".format(int.from_bytes(data, byteorder='big'))\n",
        "print(\"Output = \" + binary_data)"
      ],
      "metadata": {
        "colab": {
          "base_uri": "https://localhost:8080/"
        },
        "id": "Wu95-fkIiQtU",
        "outputId": "8f9e6be0-3019-411d-bc75-0488f277ae53"
      },
      "execution_count": null,
      "outputs": [
        {
          "output_type": "stream",
          "name": "stdout",
          "text": [
            "Output = 100100001100101011011000110110001101111\n"
          ]
        }
      ]
    },
    {
      "cell_type": "markdown",
      "source": [
        "#**String Method in Python**\n",
        "\n",
        "---\n",
        "Here's a list of commonly used string methods in Python:\n",
        "\n",
        "##Conversion Methods:\n",
        "* upper(): Converts a string to uppercase.\n",
        "* lower(): Converts a string to lowercase.\n",
        "* capitalize(): Capitalizes the first character of a string.\n",
        "* title(): Converts the first character of each word to uppercase.\n",
        "\n",
        "\n",
        "##Trimming and Padding:\n",
        "* strip(): Removes leading and trailing whitespace.\n",
        "* lstrip(): Removes leading whitespace.\n",
        "* rstrip(): Removes trailing whitespace.\n",
        "* center(width, fillchar): Centers the string in a specified width with optional padding characters.\n",
        "* ljust(width, fillchar): Left-justifies the string in a specified width with optional padding characters.\n",
        "* rjust(width, fillchar): Right-justifies the string in a specified width with optional padding characters.\n",
        "\n",
        "##Search and Replace:\n",
        "* find(substring, start, end): Searches for a substring and returns its first * occurrence index (or -1 if not found).\n",
        "* rfind(substring, start, end): Searches for a substring from the end of the\n",
        " string and returns its index.\n",
        "* index(substring, start, end): Similar to find() but raises an error if the\n",
        " substring is not found.\n",
        "* replace(old, new, count): Replaces occurrences of a substring with another\n",
        " substring.\n",
        "\n",
        "##Splitting and Joining:\n",
        "* split(sep, maxsplit): Splits a string into a list of substrings based on a separator.\n",
        "* rsplit(sep, maxsplit): Splits a string from the right.\n",
        "* join(iterable): Concatenates elements of an iterable (like a list) into a\n",
        "  string using the string as a separator.\n",
        "\n",
        "##Checking and Validation:\n",
        "* startswith(prefix, start, end): Checks if a string starts with a specified prefix.\n",
        "*endswith(suffix, start, end): Checks if a string ends with a specified suffix.\n",
        "*isalnum(): Checks if all characters are alphanumeric.\n",
        "*isalpha(): Checks if all characters are alphabetic.\n",
        "*isdigit(): Checks if all characters are digits.\n",
        "*islower(): Checks if all characters are lowercase.\n",
        "*isupper(): Checks if all characters are uppercase.\n",
        "*isspace(): Checks if all characters are whitespace.\n",
        "\n",
        "##Formatting:\n",
        "* format(*args, **kwargs): Formats a string with positional and keyword arguments.\n",
        "*format_map(mapping): Formats a string using a mapping (like a dictionary).\n",
        "\n",
        "##Encoding and Decoding:\n",
        "* encode(encoding, errors): Encodes the string into bytes using a specified encoding.\n",
        "* decode(encoding, errors): Decodes bytes into a string using a specified encoding.\n",
        "\n",
        "##Miscellaneous:\n",
        "* len(): Returns the length of the string.\n",
        "* count(substring, start, end): Counts occurrences of a substring.\n",
        "* expandtabs(tabsize): Expands tabs to spaces.\n",
        "* swapcase(): Swaps case of characters (lowercase to uppercase and vice versa).\n",
        "* partition(separator): Splits the string into three parts based on a separator.\n",
        "\n"
      ],
      "metadata": {
        "id": "VxAsnh7_jt3N"
      }
    },
    {
      "cell_type": "markdown",
      "source": [
        "##**upper() and lower():**"
      ],
      "metadata": {
        "id": "59GbN0CNmKNm"
      }
    },
    {
      "cell_type": "code",
      "source": [
        "text = \"Hello World\"\n",
        "upper_text = text.upper()\n",
        "lower_text = text.lower()\n",
        "\n",
        "print(upper_text)\n",
        "print(lower_text)\n"
      ],
      "metadata": {
        "colab": {
          "base_uri": "https://localhost:8080/"
        },
        "id": "hg-Bq8sej1Fr",
        "outputId": "57dc002d-b7a4-4a4b-d07e-9b5b78f06ca5"
      },
      "execution_count": null,
      "outputs": [
        {
          "output_type": "stream",
          "name": "stdout",
          "text": [
            "HELLO WORLD\n",
            "hello world\n"
          ]
        }
      ]
    },
    {
      "cell_type": "markdown",
      "source": [
        "##**capitalize() and title():**"
      ],
      "metadata": {
        "id": "13ez-kiFmjB2"
      }
    },
    {
      "cell_type": "code",
      "source": [
        "text = \"hello world\"\n",
        "capitalized_text = text.capitalize()\n",
        "title_text = text.title()\n",
        "\n",
        "print(capitalized_text)\n",
        "print(title_text)"
      ],
      "metadata": {
        "colab": {
          "base_uri": "https://localhost:8080/"
        },
        "id": "luPMmfNrmt7R",
        "outputId": "ec66cc73-e9cc-4691-a712-20f7e749818d"
      },
      "execution_count": null,
      "outputs": [
        {
          "output_type": "stream",
          "name": "stdout",
          "text": [
            "Hello world\n",
            "Hello World\n"
          ]
        }
      ]
    },
    {
      "cell_type": "markdown",
      "source": [
        "##**strip(), lstrip(), and rstrip():**"
      ],
      "metadata": {
        "id": "4WfHAdu9nS4s"
      }
    },
    {
      "cell_type": "code",
      "source": [
        "text = \"   Hello World   \"\n",
        "stripped_text = text.strip()\n",
        "left_stripped_text = text.lstrip()\n",
        "right_stripped_text = text.rstrip()\n",
        "\n",
        "print(stripped_text)\n",
        "print(left_stripped_text)\n",
        "print(right_stripped_text)\n"
      ],
      "metadata": {
        "colab": {
          "base_uri": "https://localhost:8080/"
        },
        "id": "MyQHKHienNmB",
        "outputId": "3b67fa6d-17fb-4217-db76-c5e928998ece"
      },
      "execution_count": null,
      "outputs": [
        {
          "output_type": "stream",
          "name": "stdout",
          "text": [
            "Hello World\n",
            "Hello World   \n",
            "   Hello World\n"
          ]
        }
      ]
    },
    {
      "cell_type": "markdown",
      "source": [
        "##**center(width, fillchar), ljust(width, fillchar), and rjust(width, fillchar):**"
      ],
      "metadata": {
        "id": "NNMWrEP_npA7"
      }
    },
    {
      "cell_type": "code",
      "source": [
        "text = \"Python\"\n",
        "centered_text = text.center(10, '*')\n",
        "left_justified_text = text.ljust(10, '-')\n",
        "right_justified_text = text.rjust(10, '+')\n",
        "\n",
        "print(centered_text)         # Output: \"**Python**\"\n",
        "print(left_justified_text)    # Output: \"Python----\"\n",
        "print(right_justified_text)   # Output: \"++++Python\"\n"
      ],
      "metadata": {
        "colab": {
          "base_uri": "https://localhost:8080/"
        },
        "id": "UHBBMNYPnszl",
        "outputId": "ab338e84-29c3-48ef-9d69-ebaef614e044"
      },
      "execution_count": null,
      "outputs": [
        {
          "output_type": "stream",
          "name": "stdout",
          "text": [
            "**Python**\n",
            "Python----\n",
            "++++Python\n"
          ]
        }
      ]
    },
    {
      "cell_type": "markdown",
      "source": [
        "##**find(substring, start, end) and index(substring, start, end):**"
      ],
      "metadata": {
        "id": "QU7x9tIGoG7O"
      }
    },
    {
      "cell_type": "code",
      "source": [
        "text = \"Hello World\"\n",
        "index_of_o = text.find(\"o\")\n",
        "index_of_z = text.find(\"z\")  # Not found, returns -1\n",
        "\n",
        "print(index_of_o)  # Output: 4\n",
        "print(index_of_z)  # Output: -1\n",
        "\n",
        "try:\n",
        "    index_of_z_error = text.index(\"z\")\n",
        "except ValueError as e:\n",
        "    print(\"Error:\", e)  # Output: Error: substring not found\n"
      ],
      "metadata": {
        "colab": {
          "base_uri": "https://localhost:8080/"
        },
        "id": "SvpPLgoxoPeo",
        "outputId": "e8aaa313-d395-4ab6-cb9d-20d9bdbd55bc"
      },
      "execution_count": null,
      "outputs": [
        {
          "output_type": "stream",
          "name": "stdout",
          "text": [
            "4\n",
            "-1\n",
            "Error: substring not found\n"
          ]
        }
      ]
    },
    {
      "cell_type": "markdown",
      "source": [
        "##**replace(old, new, count):**"
      ],
      "metadata": {
        "id": "hQVmYLHNou7h"
      }
    },
    {
      "cell_type": "code",
      "source": [
        "text = \"Hello World\"\n",
        "print(text)\n",
        "new_text = text.replace(\"World\", \"Python\")\n",
        "\n",
        "print(new_text)  # Output: \"Hello Python\"\n"
      ],
      "metadata": {
        "colab": {
          "base_uri": "https://localhost:8080/"
        },
        "id": "Qlj7KkzcoxrO",
        "outputId": "3e465654-3d9f-4fde-de62-7a20ecfd8684"
      },
      "execution_count": null,
      "outputs": [
        {
          "output_type": "stream",
          "name": "stdout",
          "text": [
            "Hello World\n",
            "Hello Python\n"
          ]
        }
      ]
    },
    {
      "cell_type": "markdown",
      "source": [
        "##**split(sep, maxsplit):**"
      ],
      "metadata": {
        "id": "UfAKrALfq_k9"
      }
    },
    {
      "cell_type": "code",
      "source": [
        "text = \"apple,banana,orange\"\n",
        "fruits_list = text.split(\",\")\n",
        "\n",
        "print(fruits_list)  # Output: ['apple', 'banana', 'orange']\n"
      ],
      "metadata": {
        "colab": {
          "base_uri": "https://localhost:8080/"
        },
        "id": "uLNGSCMUqkNE",
        "outputId": "96b639e2-e647-40b0-ca1a-362766f256a0"
      },
      "execution_count": null,
      "outputs": [
        {
          "output_type": "stream",
          "name": "stdout",
          "text": [
            "['apple', 'banana', 'orange']\n"
          ]
        }
      ]
    },
    {
      "cell_type": "markdown",
      "source": [],
      "metadata": {
        "id": "zgZtBTHIrFNb"
      }
    },
    {
      "cell_type": "code",
      "source": [
        "text = \"apple,banana,orange,grapes\"\n",
        "fruits_list = text.split(\",\", maxsplit=2)\n",
        "\n",
        "print(fruits_list)  # Output: ['apple', 'banana', 'orange,grapes']\n"
      ],
      "metadata": {
        "colab": {
          "base_uri": "https://localhost:8080/"
        },
        "id": "8XQQMzyXrERB",
        "outputId": "b918401b-5837-49d1-f2c8-3f8fcc613196"
      },
      "execution_count": null,
      "outputs": [
        {
          "output_type": "stream",
          "name": "stdout",
          "text": [
            "['apple', 'banana', 'orange,grapes']\n"
          ]
        }
      ]
    },
    {
      "cell_type": "markdown",
      "source": [
        "##**join(iterable):**"
      ],
      "metadata": {
        "id": "zqdyyxM_rT3P"
      }
    },
    {
      "cell_type": "code",
      "source": [
        "fruits_list = ['apple', 'banana', 'orange']\n",
        "text = \", \".join(fruits_list)\n",
        "\n",
        "print(text)  # Output: \"apple, banana, orange\"\n"
      ],
      "metadata": {
        "colab": {
          "base_uri": "https://localhost:8080/"
        },
        "id": "zeSyrTiSrVCx",
        "outputId": "ca7e5840-7f26-4001-8833-8cf27939e8d1"
      },
      "execution_count": null,
      "outputs": [
        {
          "output_type": "stream",
          "name": "stdout",
          "text": [
            "apple, banana, orange\n"
          ]
        }
      ]
    },
    {
      "cell_type": "markdown",
      "source": [
        "You can use join() to concatenate elements with a custom separator:"
      ],
      "metadata": {
        "id": "HUR1eoeMrffO"
      }
    },
    {
      "cell_type": "code",
      "source": [
        "fruits_list = ['apple', 'banana', 'orange']\n",
        "text = \" - \".join(fruits_list)\n",
        "\n",
        "print(text)  # Output: \"apple - banana - orange\"\n"
      ],
      "metadata": {
        "colab": {
          "base_uri": "https://localhost:8080/"
        },
        "id": "X8aczNSvrcv5",
        "outputId": "2c9e5bdd-227b-4647-b6fd-cd1fc24bbcf0"
      },
      "execution_count": null,
      "outputs": [
        {
          "output_type": "stream",
          "name": "stdout",
          "text": [
            "apple - banana - orange\n"
          ]
        }
      ]
    },
    {
      "cell_type": "markdown",
      "source": [
        "#DataType conversion"
      ],
      "metadata": {
        "id": "7ZQBUXoxsbg0"
      }
    },
    {
      "cell_type": "markdown",
      "source": [
        "###**Implicit type conversion**"
      ],
      "metadata": {
        "id": "VXs-19y6stEO"
      }
    },
    {
      "cell_type": "code",
      "source": [
        "num_int = 10\n",
        "num_float = 5.2356\n",
        "\n",
        "num_new = num_int + num_float\n",
        "\n",
        "print(\"num_int\",type(num_int))\n",
        "print(\"num_float\",type(num_float))\n",
        "\n",
        "print(\"new_num = \",  num_new)\n",
        "print(\"num_new_type\",type(num_new))"
      ],
      "metadata": {
        "colab": {
          "base_uri": "https://localhost:8080/"
        },
        "id": "ViLTlmDEshez",
        "outputId": "5937141f-3c3f-40a8-9c75-d8a61c7a2391"
      },
      "execution_count": null,
      "outputs": [
        {
          "output_type": "stream",
          "name": "stdout",
          "text": [
            "num_int <class 'int'>\n",
            "num_float <class 'float'>\n",
            "new_num =  15.2356\n",
            "num_new_type <class 'float'>\n"
          ]
        }
      ]
    },
    {
      "cell_type": "markdown",
      "source": [
        "###**Explicit Type Connversion**\n",
        "\n",
        "\n",
        "\n",
        "1. int(), float(), str(), bool():\n",
        "* int(x): Converts x to an integer.\n",
        "* float(x): Converts x to a floating-point number.\n",
        "* str(x): Converts x to a string.\n",
        "* bool(x): Converts x to a boolean value (True or False).\n",
        "```\n",
        "num_str = \"123\"\n",
        "num_int = int(num_str)  # Convert string to integer\n",
        "print(num_int)  # Output: 123\n",
        "```\n",
        "\n",
        "2. Type-specific constructors:\n",
        "* list(iterable): Converts an iterable (like a tuple or string) to a list.\n",
        "```\n",
        "my_tuple = (1, 2, 3)\n",
        "my_list = list(my_tuple)\n",
        "print(my_list)  # Output: [1, 2, 3]\n",
        "```\n",
        "* tuple(iterable): Converts an iterable to a tuple.\n",
        "```\n",
        "my_list = [1, 2, 3]\n",
        "my_tuple = tuple(my_list)\n",
        "print(my_tuple)  # Output: (1, 2, 3)\n",
        "```\n",
        "* set(iterable): Converts an iterable to a set.\n",
        "```\n",
        "my_list = [1, 2, 2, 3]\n",
        "my_set = set(my_list)\n",
        "print(my_set)  # Output: {1, 2, 3}\n",
        "```\n",
        "\n",
        "* dict(iterable): Converts an iterable of key-value pairs to a dictionary.\n",
        "```\n",
        "key_value_pairs = [(\"a\", 1), (\"b\", 2)]\n",
        "my_dict = dict(key_value_pairs)\n",
        "print(my_dict)  # Output: {'a': 1, 'b': 2}\n",
        "```\n",
        "\n",
        "\n",
        "\n",
        "3. Custom functions or methods:\n",
        "* You can also define custom functions or methods to perform more complex type conversions based on your specific needs.\n",
        "\n"
      ],
      "metadata": {
        "id": "_OvheOhYuWfR"
      }
    },
    {
      "cell_type": "code",
      "source": [
        "def string_to_int(s):\n",
        "    try:\n",
        "        return int(s)\n",
        "    except ValueError:\n",
        "        return None\n",
        "\n",
        "#num_str = \"abc\"  output: none\n",
        "num_str = \"122\"\n",
        "num_int = string_to_int(num_str)\n",
        "\n",
        "print(num_int)  # Output: 123\n"
      ],
      "metadata": {
        "colab": {
          "base_uri": "https://localhost:8080/"
        },
        "id": "UsWazrInv-lR",
        "outputId": "af005ada-7288-4511-80e1-9e5d493925d9"
      },
      "execution_count": null,
      "outputs": [
        {
          "output_type": "stream",
          "name": "stdout",
          "text": [
            "122\n"
          ]
        }
      ]
    },
    {
      "cell_type": "markdown",
      "source": [
        "#**Python Numbers**\n",
        "\n",
        "\n",
        "*   isinstance()\n",
        "*   type()\n",
        "*   issubclass()\n",
        "\n"
      ],
      "metadata": {
        "id": "eDZ2bDUkO8uv"
      }
    },
    {
      "cell_type": "markdown",
      "source": [
        "The isinstance() function in Python is used to check if an object belongs to a specified class or type. It helps in determining the type of an object and can be used to perform type checking within functions or code blocks.\n",
        "\n",
        "**Syntax:**\n",
        "```\n",
        "isinstance(object, classinfo)\n",
        "```\n",
        "\n",
        "\n",
        "*   object: The object whose type is to be checked.\n",
        "* classinfo: A class, type, or tuple of classes and types to check against.\n",
        "\n"
      ],
      "metadata": {
        "id": "Rc4k8jpbOmfO"
      }
    },
    {
      "cell_type": "code",
      "source": [
        "value1 =100\n",
        "print(isinstance(value1,int))\n",
        "print(isinstance(value1,float))"
      ],
      "metadata": {
        "colab": {
          "base_uri": "https://localhost:8080/"
        },
        "id": "c_MbATGwNadn",
        "outputId": "86703f5f-0162-4ee0-fb59-16ff6384df17"
      },
      "execution_count": null,
      "outputs": [
        {
          "output_type": "stream",
          "name": "stdout",
          "text": [
            "True\n",
            "False\n"
          ]
        }
      ]
    },
    {
      "cell_type": "markdown",
      "source": [
        "**Representing binary, hexadecimal and octal**"
      ],
      "metadata": {
        "id": "vtG4SjjfhEAW"
      }
    },
    {
      "cell_type": "code",
      "source": [
        "print(0b110)\n",
        "print(0x510)\n",
        "print(0o23)"
      ],
      "metadata": {
        "colab": {
          "base_uri": "https://localhost:8080/"
        },
        "id": "CUtADeD-V8wj",
        "outputId": "87f7198e-9e2f-446d-d97f-8b87d2ad03a6"
      },
      "execution_count": null,
      "outputs": [
        {
          "output_type": "stream",
          "name": "stdout",
          "text": [
            "6\n",
            "1296\n",
            "19\n"
          ]
        }
      ]
    },
    {
      "cell_type": "markdown",
      "source": [
        "**Python decimal**"
      ],
      "metadata": {
        "id": "pGrrr9XoilkW"
      }
    },
    {
      "cell_type": "code",
      "source": [
        "data1 = 0.1 + 0.2\n",
        "print(data1)\n",
        "data2 = 0.1 * 0.2\n",
        "print(data2)\n",
        "from decimal import Decimal as D\n",
        "print(D('0.1')+D('0.2'))\n",
        "print(D('0.1')*D('0.2'))"
      ],
      "metadata": {
        "colab": {
          "base_uri": "https://localhost:8080/"
        },
        "id": "8C-Ak-GFiApQ",
        "outputId": "005172e0-1abf-4a87-ef44-5874727ee218"
      },
      "execution_count": null,
      "outputs": [
        {
          "output_type": "stream",
          "name": "stdout",
          "text": [
            "0.30000000000000004\n",
            "0.020000000000000004\n",
            "0.3\n",
            "0.02\n"
          ]
        }
      ]
    },
    {
      "cell_type": "code",
      "source": [
        "from fractions import Fraction as F\n",
        "print(F(0.5))\n",
        "print(F(5))\n",
        "print(F(1,5))"
      ],
      "metadata": {
        "colab": {
          "base_uri": "https://localhost:8080/"
        },
        "id": "2I8kNYqQjIx6",
        "outputId": "57c09599-0387-43f2-d725-b17a49f2448a"
      },
      "execution_count": null,
      "outputs": [
        {
          "output_type": "stream",
          "name": "stdout",
          "text": [
            "1/2\n",
            "5\n",
            "1/5\n"
          ]
        }
      ]
    },
    {
      "cell_type": "markdown",
      "source": [
        "###**Using isinstance() in Functions:**\n"
      ],
      "metadata": {
        "id": "S3jSq0QsPnpR"
      }
    },
    {
      "cell_type": "code",
      "source": [
        "def calculate(value):\n",
        "    if isinstance(value, int):\n",
        "        return value * 2\n",
        "    elif isinstance(value, float):\n",
        "        return value * 1.5\n",
        "    else:\n",
        "        return \"Invalid input type\"\n",
        "\n",
        "print(calculate(10))  # Output: 20\n",
        "print(calculate(3.5))  # Output: 5.25\n",
        "print(calculate(\"abc\"))  # Output: \"Invalid input type\"\n"
      ],
      "metadata": {
        "colab": {
          "base_uri": "https://localhost:8080/"
        },
        "id": "RYw5rfzLP8sy",
        "outputId": "662d73ff-d669-41c1-8b1c-718ab9f3158f"
      },
      "execution_count": null,
      "outputs": [
        {
          "output_type": "stream",
          "name": "stdout",
          "text": [
            "20\n",
            "5.25\n",
            "Invalid input type\n"
          ]
        }
      ]
    },
    {
      "cell_type": "markdown",
      "source": [
        "###**type() Function:**\n",
        "* The type() function returns the type of an object."
      ],
      "metadata": {
        "id": "a0JeyA3fQUI-"
      }
    },
    {
      "cell_type": "code",
      "source": [
        "x = 5\n",
        "print(type(x) == int)  # Output: True\n",
        "print(type(x) == float)  # Output: False\n"
      ],
      "metadata": {
        "colab": {
          "base_uri": "https://localhost:8080/"
        },
        "id": "vVcIRxW5QZyx",
        "outputId": "91f79bc2-b4e8-4d8a-c8a1-78b0c62e353b"
      },
      "execution_count": null,
      "outputs": [
        {
          "output_type": "stream",
          "name": "stdout",
          "text": [
            "True\n",
            "False\n"
          ]
        }
      ]
    },
    {
      "cell_type": "markdown",
      "source": [
        "###**issubclass() Function:**\n",
        "* The issubclass() function checks if a class is a subclass of another class."
      ],
      "metadata": {
        "id": "mOkTvyUZQh_W"
      }
    },
    {
      "cell_type": "code",
      "source": [
        "class A:\n",
        "    pass\n",
        "\n",
        "class B(A):\n",
        "    pass\n",
        "\n",
        "print(issubclass(B, A))  # Output: True\n",
        "print(issubclass(A, B))  # Output: False\n"
      ],
      "metadata": {
        "colab": {
          "base_uri": "https://localhost:8080/"
        },
        "id": "LfGHvN_yQt6r",
        "outputId": "57e11622-6f43-4407-8613-eee5828de4c1"
      },
      "execution_count": null,
      "outputs": [
        {
          "output_type": "stream",
          "name": "stdout",
          "text": [
            "True\n",
            "False\n"
          ]
        }
      ]
    },
    {
      "cell_type": "markdown",
      "source": [
        "##**Python Math Module**"
      ],
      "metadata": {
        "id": "eQOJqUiakHcL"
      }
    },
    {
      "cell_type": "markdown",
      "source": [
        "**Constants:**\n",
        "* math.pi:\n",
        "Represents the mathematical constant π (pi), approximately equal to 3.14159.\n",
        "\n",
        "* math.e:\n",
        "Represents the mathematical constant e, the base of natural logarithms, approximately equal to 2.71828.\n",
        "\n",
        "* math.inf:\n",
        "Represents positive infinity.\n",
        "\n",
        "* math.nan:\n",
        "Represents \"Not a Number\" (NaN), used to represent undefined or unrepresentable results.\n",
        "\n"
      ],
      "metadata": {
        "id": "qMSwo2I9kQn9"
      }
    },
    {
      "cell_type": "code",
      "source": [
        "import math"
      ],
      "metadata": {
        "id": "k9SUYBgOljis"
      },
      "execution_count": null,
      "outputs": []
    },
    {
      "cell_type": "code",
      "source": [
        "print(\"Value of π (pi):\", math.pi)\n",
        "print(\"Value of e:\", math.e)\n",
        "print(\"Positive infinity:\", math.inf)\n",
        "print(\"NaN (Not a Number):\", math.nan)"
      ],
      "metadata": {
        "colab": {
          "base_uri": "https://localhost:8080/"
        },
        "id": "ceAcj-bFlgMY",
        "outputId": "83e55ffa-2758-45f7-a515-f0aa92f26ed3"
      },
      "execution_count": null,
      "outputs": [
        {
          "output_type": "stream",
          "name": "stdout",
          "text": [
            "Value of π (pi): 3.141592653589793\n",
            "Value of e: 2.718281828459045\n",
            "Positive infinity: inf\n",
            "NaN (Not a Number): nan\n"
          ]
        }
      ]
    },
    {
      "cell_type": "markdown",
      "source": [
        "**Trigonometric Functions:**\n",
        "* math.sin(x), math.cos(x), math.tan(x):\n",
        "Calculate the sine, cosine, and tangent of angle x (in radians).\n",
        "\n",
        "* math.asin(x), math.acos(x), math.atan(x):\n",
        "Calculate the arcsine, arccosine, and arctangent of x, returning the angle in radians.\n",
        "\n",
        "* math.radians(degrees):\n",
        "Converts angle degrees from degrees to radians.\n",
        "\n",
        "* math.degrees(radians):\n",
        "Converts angle radians from radians to degrees."
      ],
      "metadata": {
        "id": "TQRzdaaYkxUc"
      }
    },
    {
      "cell_type": "markdown",
      "source": [],
      "metadata": {
        "id": "hwZAV8E1kOUD"
      }
    },
    {
      "cell_type": "code",
      "source": [
        "\n",
        "\n",
        "# Trigonometric Functions\n",
        "angle_degrees = 45\n",
        "angle_radians = math.radians(angle_degrees)\n",
        "print(\"Sine of\", angle_degrees, \"degrees:\", math.sin(angle_radians))\n",
        "print(\"Cosine of\", angle_degrees, \"degrees:\", math.cos(angle_radians))\n",
        "print(\"Tangent of\", angle_degrees, \"degrees:\", math.tan(angle_radians))\n",
        "\n"
      ],
      "metadata": {
        "colab": {
          "base_uri": "https://localhost:8080/"
        },
        "id": "xzv7BILDlWYu",
        "outputId": "89b1ee0d-c7bb-4f48-af46-de3a82d0693b"
      },
      "execution_count": null,
      "outputs": [
        {
          "output_type": "stream",
          "name": "stdout",
          "text": [
            "Sine of 45 degrees: 0.7071067811865475\n",
            "Cosine of 45 degrees: 0.7071067811865476\n",
            "Tangent of 45 degrees: 0.9999999999999999\n"
          ]
        }
      ]
    },
    {
      "cell_type": "markdown",
      "source": [
        "**Exponential and Logarithmic Functions:**\n",
        "* math.exp(x):\n",
        "Returns e raised to the power x.\n",
        "\n",
        "* math.log(x[, base]):\n",
        "Returns the natural logarithm of x (base e). Optionally, you can specify a base for the logarithm.\n",
        "\n",
        "* math.log10(x):\n",
        "Returns the base-10 logarithm of x."
      ],
      "metadata": {
        "id": "1oWr-p5ol0Ml"
      }
    },
    {
      "cell_type": "code",
      "source": [
        "x = 2\n",
        "print(\"e raised to the power\", x, \"=\", math.exp(x))\n",
        "print(\"Natural logarithm of\", x, \"=\", math.log(x))\n",
        "print(\"Base-10 logarithm of\", x, \"=\", math.log10(x))"
      ],
      "metadata": {
        "colab": {
          "base_uri": "https://localhost:8080/"
        },
        "id": "ENwmwEJUl8Jm",
        "outputId": "4136cd51-311e-421b-8920-635f05fff7c9"
      },
      "execution_count": null,
      "outputs": [
        {
          "output_type": "stream",
          "name": "stdout",
          "text": [
            "e raised to the power 2 = 7.38905609893065\n",
            "Natural logarithm of 2 = 0.6931471805599453\n",
            "Base-10 logarithm of 2 = 0.3010299956639812\n"
          ]
        }
      ]
    },
    {
      "cell_type": "markdown",
      "source": [
        "**Power and Square Root Functions:**\n",
        "* math.pow(x, y):\n",
        "Returns x raised to the power y.\n",
        "\n",
        "* math.sqrt(x):\n",
        "Returns the square root of x."
      ],
      "metadata": {
        "id": "atEzxTuimP9o"
      }
    },
    {
      "cell_type": "code",
      "source": [
        "base = 2\n",
        "power = 3\n",
        "print(base, \"raised to the power\", power, \"=\", math.pow(base, power))\n",
        "print(\"Square root of\", x, \"=\", math.sqrt(x))"
      ],
      "metadata": {
        "colab": {
          "base_uri": "https://localhost:8080/"
        },
        "id": "2Gs1RFEemUzB",
        "outputId": "37f0b624-aaea-4371-d7d1-5930c6fb92cf"
      },
      "execution_count": null,
      "outputs": [
        {
          "output_type": "stream",
          "name": "stdout",
          "text": [
            "2 raised to the power 3 = 8.0\n",
            "Square root of 2 = 1.4142135623730951\n"
          ]
        }
      ]
    },
    {
      "cell_type": "markdown",
      "source": [
        "**Miscellaneous Functions:**\n",
        "* math.ceil(x):\n",
        "Returns the smallest integer greater than or equal to x.\n",
        "\n",
        "* math.floor(x):\n",
        "Returns the largest integer less than or equal to x.\n",
        "\n",
        "* math.fabs(x):\n",
        "Returns the absolute value of x.\n",
        "\n",
        "* math.factorial(x):\n",
        "Returns the factorial of x.\n",
        "\n",
        "* math.gcd(a, b):\n",
        "Returns the greatest common divisor of integers a and b.\n",
        "\n",
        "* math.isfinite(x), math.isinf(x), math.isnan(x):\n",
        "Check if x is finite, infinity, or NaN, respectively.\n",
        "\n",
        "* math.trunc(x):\n",
        "Truncates x to an integer (removes the decimal part without rounding)."
      ],
      "metadata": {
        "id": "i8ZyBjKumeCp"
      }
    },
    {
      "cell_type": "code",
      "source": [
        "\n",
        "number = 3.7\n",
        "\n",
        "print(\"Ceiling value of\", number, \":\", math.ceil(number))\n",
        "print(\"Floor value of\", number, \":\", math.floor(number))\n",
        "print(\"Absolute value of\", number, \":\", math.fabs(number))\n",
        "print(\"Factorial of\", power, \":\", math.factorial(power))\n",
        "print(\"Greatest common divisor of 12 and 18:\", math.gcd(12, 18))\n",
        "print(\"Is\", number, \"finite?\", math.isfinite(number))\n",
        "print(\"Is\", math.inf, \"infinity?\", math.isinf(math.inf))\n",
        "print(\"Is\", math.nan, \"NaN?\", math.isnan(math.nan))\n",
        "print(\"Truncated value of\", number, \":\", math.trunc(number))"
      ],
      "metadata": {
        "colab": {
          "base_uri": "https://localhost:8080/"
        },
        "id": "VHK9LpkDmrym",
        "outputId": "396ec9db-f4c4-46d5-9170-44fca13a9137"
      },
      "execution_count": null,
      "outputs": [
        {
          "output_type": "stream",
          "name": "stdout",
          "text": [
            "Ceiling value of 3.7 : 4\n",
            "Floor value of 3.7 : 3\n",
            "Absolute value of 3.7 : 3.7\n",
            "Factorial of 3 : 6\n",
            "Greatest common divisor of 12 and 18: 6\n",
            "Is 3.7 finite? True\n",
            "Is inf infinity? True\n",
            "Is nan NaN? True\n",
            "Truncated value of 3.7 : 3\n"
          ]
        }
      ]
    },
    {
      "cell_type": "markdown",
      "source": [
        "##**Python Random Module**\n",
        "\n"
      ],
      "metadata": {
        "id": "dUiaHeX1obNQ"
      }
    },
    {
      "cell_type": "markdown",
      "source": [
        "\n",
        "\n",
        "1.   **Random Number Generators:**\n",
        "\n"
      ],
      "metadata": {
        "id": "SugBmuazok5E"
      }
    },
    {
      "cell_type": "markdown",
      "source": [
        "random(): Returns a random floating-point number in the range [0.0, 1.0]"
      ],
      "metadata": {
        "id": "NQ3lrorLozQ0"
      }
    },
    {
      "cell_type": "code",
      "source": [
        "import random\n",
        "print(random.random())  # Output: a random number between 0.0 and 1.0\n"
      ],
      "metadata": {
        "colab": {
          "base_uri": "https://localhost:8080/"
        },
        "id": "5qj-8NxSo8KR",
        "outputId": "a88779e0-e17a-413f-bb15-b4e8266e9b4d"
      },
      "execution_count": null,
      "outputs": [
        {
          "output_type": "stream",
          "name": "stdout",
          "text": [
            "0.39645105536631575\n"
          ]
        }
      ]
    },
    {
      "cell_type": "markdown",
      "source": [
        "randint(a, b): Returns a random integer between a and b (inclusive)"
      ],
      "metadata": {
        "id": "PMmlAT-1pBIS"
      }
    },
    {
      "cell_type": "code",
      "source": [
        "print(random.randint(2,10))"
      ],
      "metadata": {
        "colab": {
          "base_uri": "https://localhost:8080/"
        },
        "id": "v6MpkZD3pCi8",
        "outputId": "bdd68ac5-4ad3-4e98-eca6-377afca47ba5"
      },
      "execution_count": null,
      "outputs": [
        {
          "output_type": "stream",
          "name": "stdout",
          "text": [
            "2\n"
          ]
        }
      ]
    },
    {
      "cell_type": "markdown",
      "source": [
        "randrange(start, stop, step): Returns a randomly selected element from the range created by the arguments."
      ],
      "metadata": {
        "id": "m-3ZmwNypPgi"
      }
    },
    {
      "cell_type": "code",
      "source": [
        "random.randrange(1,50,2)"
      ],
      "metadata": {
        "colab": {
          "base_uri": "https://localhost:8080/"
        },
        "id": "0beY_cU2pQSd",
        "outputId": "a422621f-d935-4a3c-e088-74cc95df8a0b"
      },
      "execution_count": null,
      "outputs": [
        {
          "output_type": "execute_result",
          "data": {
            "text/plain": [
              "33"
            ]
          },
          "metadata": {},
          "execution_count": 49
        }
      ]
    },
    {
      "cell_type": "markdown",
      "source": [
        "choice(sequence): Returns a randomly selected element from a non-empty sequence"
      ],
      "metadata": {
        "id": "dmhunZC1pdfk"
      }
    },
    {
      "cell_type": "code",
      "source": [
        "num=['a','b','c','d']\n",
        "\n",
        "print(random.choice(num))\n"
      ],
      "metadata": {
        "colab": {
          "base_uri": "https://localhost:8080/"
        },
        "id": "ytzwaOrapekS",
        "outputId": "1eef39fc-b1be-40f9-966f-9b7680d83529"
      },
      "execution_count": null,
      "outputs": [
        {
          "output_type": "stream",
          "name": "stdout",
          "text": [
            "d\n"
          ]
        }
      ]
    },
    {
      "cell_type": "markdown",
      "source": [
        "shuffle(sequence): Shuffles the elements of a sequence in place (modifies the original sequence)."
      ],
      "metadata": {
        "id": "aVCHfwuUpzWj"
      }
    },
    {
      "cell_type": "code",
      "source": [
        "deck = ['Ace', '2', '3', '4', '5', '6', '7', '8', '9', '10', 'Jack', 'Queen', 'King']\n",
        "random.shuffle(deck)\n",
        "print(deck)\n"
      ],
      "metadata": {
        "colab": {
          "base_uri": "https://localhost:8080/"
        },
        "id": "TDyRM1PVp0kM",
        "outputId": "41ef7934-ea1a-4760-bcfc-befdbcb9e93c"
      },
      "execution_count": null,
      "outputs": [
        {
          "output_type": "stream",
          "name": "stdout",
          "text": [
            "['6', 'Jack', '7', '3', '4', 'King', '2', 'Queen', '8', 'Ace', '5', '9', '10']\n"
          ]
        }
      ]
    },
    {
      "cell_type": "markdown",
      "source": [
        "**2. Seed Functions:**\n",
        "* seed(a=None): Initializes the random number generator with a given seed or the current system time if no seed is provided."
      ],
      "metadata": {
        "id": "IGAbGIb3rZCj"
      }
    },
    {
      "cell_type": "code",
      "source": [
        "random.seed(42)  # Initialize with seed 42\n",
        "print(random.random())  # Output: deterministic random number based on seed 42\n"
      ],
      "metadata": {
        "colab": {
          "base_uri": "https://localhost:8080/"
        },
        "id": "hbDNL8Lyrd2e",
        "outputId": "30c2accf-72cd-45dd-f60f-241499ca50cf"
      },
      "execution_count": null,
      "outputs": [
        {
          "output_type": "stream",
          "name": "stdout",
          "text": [
            "0.6394267984578837\n"
          ]
        }
      ]
    },
    {
      "cell_type": "markdown",
      "source": [
        "**3. Random Sampling:**\n",
        "* sample(population, k): Returns a list of k unique elements randomly sampled from the population."
      ],
      "metadata": {
        "id": "DcPoRiCRrqjK"
      }
    },
    {
      "cell_type": "code",
      "source": [
        "population = ['A', 'B', 'C', 'D', 'E']\n",
        "sample = random.sample(population, 3)\n",
        "print(sample)  # Output: random sample of 3 elements from the population\n"
      ],
      "metadata": {
        "colab": {
          "base_uri": "https://localhost:8080/"
        },
        "id": "V0K28MelrufW",
        "outputId": "5f1f267f-86e2-43d9-f783-e951bc430ed8"
      },
      "execution_count": null,
      "outputs": [
        {
          "output_type": "stream",
          "name": "stdout",
          "text": [
            "['A', 'C', 'E']\n"
          ]
        }
      ]
    },
    {
      "cell_type": "markdown",
      "source": [
        "**choices(population, weights=None, k=1):**\n",
        "*  Returns a list of k elements randomly sampled from the population with replacement (can select the same element multiple times). The weights argument allows you to specify the probability of selecting each element."
      ],
      "metadata": {
        "id": "fRIQkh3Cr1Rs"
      }
    },
    {
      "cell_type": "code",
      "source": [
        "population = ['A', 'B', 'C', 'D', 'E']\n",
        "weights = [0.2, 0.3, 0.1, 0.2, 0.2]\n",
        "choices = random.choices(population, weights=weights, k=5)\n",
        "print(choices)  # Output: list of 5 elements randomly chosen with specified weights\n"
      ],
      "metadata": {
        "id": "hjiqUn2Ir8XL",
        "outputId": "aa8c9666-bbda-4738-e152-a6ba791867e7",
        "colab": {
          "base_uri": "https://localhost:8080/"
        }
      },
      "execution_count": null,
      "outputs": [
        {
          "output_type": "stream",
          "name": "stdout",
          "text": [
            "['B', 'D', 'D', 'E', 'A']\n"
          ]
        }
      ]
    },
    {
      "cell_type": "markdown",
      "source": [
        "#**Namespace and scope**\n",
        "\n",
        "##LEGB Rule:\n",
        "Python follows the LEGB (Local, Enclosing, Global, Built-in) rule to determine the order of searching for names:\n",
        "\n",
        "* Local: Search in the local namespace (inside the function).\n",
        "* Enclosing: Search in the enclosing function's namespace (if any).\n",
        "* Global: Search in the global namespace (top-level of the module or script).\n",
        "* Built-in: Search in the built-in namespace (Python's built-in names).\n",
        "If a name is not found in one scope, Python looks for it in the next scope according to the LEGB rule until it either finds the name or reaches the built-in scope."
      ],
      "metadata": {
        "id": "W1IqeI4CRhAs"
      }
    },
    {
      "cell_type": "markdown",
      "source": [
        "##Namespace:\n",
        "A namespace in Python is a mapping from names (identifiers) to objects. It serves as a container for organizing and managing the names of variables, functions, classes, and other objects. Each namespace is unique and isolated from other namespaces, which helps avoid naming conflicts and provides a way to organize code logically.\n",
        "\n",
        "**Types of Namespaces:**\n",
        "* Built-in Namespace: Contains built-in functions, exceptions, and objects provided by Python (e.g., print(), len(), TypeError).\n",
        "* Global Namespace: Contains names defined at the top level of a module or script. Variables and functions defined here are accessible throughout the module or script.\n",
        "* Local Namespace: Created when a function is called and contains names defined within that function. The local namespace is temporary and exists only during the function's execution"
      ],
      "metadata": {
        "id": "-L0EYoU8R79E"
      }
    },
    {
      "cell_type": "markdown",
      "source": [
        "##Scope:\n",
        "Scope defines the visibility and accessibility of names (variables, functions, etc.) within a program. It determines where names can be accessed and modified.\n",
        "\n",
        "**Types of scope:**\n"
      ],
      "metadata": {
        "id": "VhtFyV8kSRjC"
      }
    },
    {
      "cell_type": "markdown",
      "source": [],
      "metadata": {
        "id": "-kLYK6p0NaK6"
      }
    },
    {
      "cell_type": "markdown",
      "source": [
        "###Local Scope: Names defined within a function are in the local scope and are accessible only within that function."
      ],
      "metadata": {
        "id": "59ls_9asTMtP"
      }
    },
    {
      "cell_type": "code",
      "source": [
        "def myfun():\n",
        "  local_variable = 10\n",
        "  print(local_variable)\n",
        "\n",
        "myfun()\n",
        "#print(local_variable)    # Raises NameError: name 'local_variable' is not defined"
      ],
      "metadata": {
        "colab": {
          "base_uri": "https://localhost:8080/"
        },
        "id": "mKDW_QxKSHhc",
        "outputId": "5c7dcd5e-60bd-4e9a-91f2-de32ad7ff306"
      },
      "execution_count": null,
      "outputs": [
        {
          "output_type": "stream",
          "name": "stdout",
          "text": [
            "10\n"
          ]
        }
      ]
    },
    {
      "cell_type": "markdown",
      "source": [
        "###Enclosing (Non-local) Scope: If a function is defined inside another function, it has access to names in the enclosing function's scope."
      ],
      "metadata": {
        "id": "ndBIXClhUkcj"
      }
    },
    {
      "cell_type": "code",
      "source": [
        "def outer_function():\n",
        "    outer_variable = 20\n",
        "\n",
        "    def inner_function():\n",
        "        print(outer_variable)\n",
        "\n",
        "    inner_function()  # Output: 20\n",
        "\n",
        "outer_function()\n",
        "\n"
      ],
      "metadata": {
        "colab": {
          "base_uri": "https://localhost:8080/"
        },
        "id": "oHKnX_cRUpMO",
        "outputId": "02d73f08-f5d0-481a-a784-61385607a5cd"
      },
      "execution_count": null,
      "outputs": [
        {
          "output_type": "stream",
          "name": "stdout",
          "text": [
            "20\n"
          ]
        }
      ]
    },
    {
      "cell_type": "code",
      "source": [
        "def outer():\n",
        "  x= \"local\"\n",
        "  def inner():\n",
        "    nonlocal x\n",
        "    x= \"nonlocal\"\n",
        "    print(\"inner\",x)\n",
        "  inner()\n",
        "  print(\"outer\",x)\n",
        "\n",
        "outer()"
      ],
      "metadata": {
        "colab": {
          "base_uri": "https://localhost:8080/"
        },
        "id": "vNHNDlX7gOuR",
        "outputId": "bf9c165b-8091-4376-fa72-5e855fc13a71"
      },
      "execution_count": null,
      "outputs": [
        {
          "output_type": "stream",
          "name": "stdout",
          "text": [
            "inner nonlocal\n",
            "outer nonlocal\n"
          ]
        }
      ]
    },
    {
      "cell_type": "markdown",
      "source": [
        "###Global Scope: Names defined at the top level of a module or script are in the global scope and are accessible throughout the module or script"
      ],
      "metadata": {
        "id": "lOeBRS-FVAir"
      }
    },
    {
      "cell_type": "code",
      "source": [
        "global_variable = 30\n",
        "\n",
        "def my_function():\n",
        "    print(global_variable)\n",
        "\n",
        "my_function()  # Output: 30\n"
      ],
      "metadata": {
        "colab": {
          "base_uri": "https://localhost:8080/"
        },
        "id": "1qDz8s--VGiS",
        "outputId": "8efaaf99-c301-4e4b-9414-b53c93bdbe03"
      },
      "execution_count": null,
      "outputs": [
        {
          "output_type": "stream",
          "name": "stdout",
          "text": [
            "30\n"
          ]
        }
      ]
    },
    {
      "cell_type": "code",
      "source": [
        "x = \"global\"\n",
        "\n",
        "def fun():\n",
        "  global x\n",
        "  y= \"local\"\n",
        "  x=x*2\n",
        "\n",
        "  print(x)\n",
        "  print(y)\n",
        "\n",
        "print(x)\n",
        "fun()\n",
        "print(x)"
      ],
      "metadata": {
        "colab": {
          "base_uri": "https://localhost:8080/"
        },
        "id": "4ufi54g_fShg",
        "outputId": "7d0d58f9-cc2b-4eff-aa09-c38b9f9e8c4b"
      },
      "execution_count": null,
      "outputs": [
        {
          "output_type": "stream",
          "name": "stdout",
          "text": [
            "global\n",
            "globalglobal\n",
            "local\n",
            "globalglobal\n"
          ]
        }
      ]
    },
    {
      "cell_type": "markdown",
      "source": [
        "###Built-in Scope: Contains built-in names provided by Python and is accessible from anywhere in the program."
      ],
      "metadata": {
        "id": "tW6C6uFoVQvA"
      }
    },
    {
      "cell_type": "code",
      "source": [
        "print(len([1, 2, 3]))  # Output: 3"
      ],
      "metadata": {
        "colab": {
          "base_uri": "https://localhost:8080/"
        },
        "id": "o3t-9sDaVSAB",
        "outputId": "da48afda-a059-4b96-e2d4-8078544ed1c2"
      },
      "execution_count": null,
      "outputs": [
        {
          "output_type": "stream",
          "name": "stdout",
          "text": [
            "3\n"
          ]
        }
      ]
    },
    {
      "cell_type": "markdown",
      "source": [
        "#Python Global keyword\n",
        "\n",
        "global keyword allows us to modify the variable outside of the current scope. It is used to create a global variable and make changes to the variable in local context.\n",
        "\n",
        "**Syntax**\n",
        "\n",
        "```\n",
        "global variable_name\n",
        "```\n",
        "\n",
        "##**How to use global keyword**\n",
        "\n",
        "\n",
        "*   When we create a variable inside a function, its local by default context\n",
        "\n",
        "*   When we define a variable outside a function,It's global by default. You dont have to use global keyword.\n",
        "* We use global keyword to read and write a global variable inside a function.\n",
        "* Use of global keyword outside a function has no effect\n"
      ],
      "metadata": {
        "id": "3MKysruUiYhO"
      }
    },
    {
      "cell_type": "code",
      "source": [
        "x = 10\n",
        "\n",
        "def my_function():\n",
        "    global x\n",
        "    x = 20  # This modifies the global variable x\n",
        "    print(\"Inside function:\", x)\n",
        "\n",
        "my_function()\n",
        "print(\"Outside function:\", x)  # Output: \"Outside function: 20\"\n"
      ],
      "metadata": {
        "colab": {
          "base_uri": "https://localhost:8080/"
        },
        "id": "mroC5eo_kxi2",
        "outputId": "34851d44-4193-4489-d665-218906b02e04"
      },
      "execution_count": null,
      "outputs": [
        {
          "output_type": "stream",
          "name": "stdout",
          "text": [
            "Inside function: 20\n",
            "Outside function: 20\n"
          ]
        }
      ]
    },
    {
      "cell_type": "markdown",
      "source": [
        "**Using global with Mutable Objects:**"
      ],
      "metadata": {
        "id": "A5AGNhXUkzxf"
      }
    },
    {
      "cell_type": "code",
      "source": [
        "my_list = [1, 2, 3]\n",
        "\n",
        "def modify_list():\n",
        "    my_list.append(4)  # Modifies the global list without using global keyword\n",
        "    print(\"Inside function:\", my_list)\n",
        "\n",
        "modify_list()\n",
        "print(\"Outside function:\", my_list)  # Output: [1, 2, 3, 4]\n"
      ],
      "metadata": {
        "colab": {
          "base_uri": "https://localhost:8080/"
        },
        "id": "J-zfbOZEk8FQ",
        "outputId": "723a4539-30dd-4b3f-d056-015cf7c8432f"
      },
      "execution_count": null,
      "outputs": [
        {
          "output_type": "stream",
          "name": "stdout",
          "text": [
            "Inside function: [1, 2, 3, 4]\n",
            "Outside function: [1, 2, 3, 4]\n"
          ]
        }
      ]
    },
    {
      "cell_type": "markdown",
      "source": [
        "#**Iterator in python**"
      ],
      "metadata": {
        "id": "i9d9QDMpnhPr"
      }
    },
    {
      "cell_type": "markdown",
      "source": [
        "**Iterable vs. Iterator:**\n",
        "\n",
        "* Iterable: Any object that can be iterated over is considered iterable. Examples include lists, tuples, strings, dictionaries, sets, file objects, and more. Iterables have an __iter__() method that returns an iterator.\n",
        "\n",
        "* Iterator: An iterator is an object returned by the __iter__() method of an iterable. It implements the __next__() method, which returns the next element in the sequence or raises a StopIteration exception when there are no more elements."
      ],
      "metadata": {
        "id": "Dl83Ei3cnqs8"
      }
    },
    {
      "cell_type": "code",
      "source": [
        "our_list = [1,2,3,4,5]\n",
        "our_iter = iter(our_list)\n",
        "\n",
        "print(our_iter)\n",
        "\n",
        "print(next(our_iter))\n",
        "print(next(our_iter))\n",
        "\n",
        "print(our_iter.__next__())"
      ],
      "metadata": {
        "colab": {
          "base_uri": "https://localhost:8080/"
        },
        "id": "0zHfAoP3n5WC",
        "outputId": "58f0ffc7-5c0c-444a-b08f-00b8fc066109"
      },
      "execution_count": null,
      "outputs": [
        {
          "output_type": "stream",
          "name": "stdout",
          "text": [
            "<list_iterator object at 0x79e1aaf53100>\n",
            "1\n",
            "2\n",
            "3\n"
          ]
        }
      ]
    },
    {
      "cell_type": "markdown",
      "source": [
        "**Creating Custom Iterators:**\n",
        "* You can create custom iterators by implementing the __iter__() and __next__() methods in a class."
      ],
      "metadata": {
        "id": "foCsabBHqg3J"
      }
    },
    {
      "cell_type": "code",
      "source": [
        "class pow_of_two:\n",
        "  '''Class to represent an iterator of power of two'''\n",
        "  def __init__(self,max = 0):\n",
        "    self.max = max\n",
        "\n",
        "  def __iter__(self):\n",
        "    self.n = 0\n",
        "    return self\n",
        "\n",
        "  def __next__(self):\n",
        "    if self.n <= self.max:\n",
        "        result = 2**self.n\n",
        "        self.n +=1\n",
        "        return result\n",
        "    else:\n",
        "        raise StopIteration\n",
        "\n",
        "print(pow_of_two.__doc__)\n",
        "a= pow_of_two(4)\n",
        "i = iter(a)\n",
        "print(next(i))\n",
        "print(i.__next__())\n",
        "print(next(i))\n",
        "print(next(i))"
      ],
      "metadata": {
        "colab": {
          "base_uri": "https://localhost:8080/"
        },
        "id": "WujE1YlpqgVa",
        "outputId": "8f6caf9f-90f4-43d6-f90c-3f94a598ee19"
      },
      "execution_count": null,
      "outputs": [
        {
          "output_type": "stream",
          "name": "stdout",
          "text": [
            "Class to represent an iterator of power of two\n",
            "1\n",
            "2\n",
            "4\n",
            "8\n"
          ]
        }
      ]
    },
    {
      "cell_type": "markdown",
      "source": [
        "##**Iteration using For**"
      ],
      "metadata": {
        "id": "SI4HLtchw1dR"
      }
    },
    {
      "cell_type": "code",
      "source": [
        "#printing all the elements from list\n",
        "\n",
        "a = [1,2,3,4,5]\n",
        "for i in a:\n",
        "  print(i)"
      ],
      "metadata": {
        "colab": {
          "base_uri": "https://localhost:8080/"
        },
        "id": "d6XA04aow_0-",
        "outputId": "d7acc7de-1219-4fb5-afcd-190648cf7aed"
      },
      "execution_count": null,
      "outputs": [
        {
          "output_type": "stream",
          "name": "stdout",
          "text": [
            "1\n",
            "2\n",
            "3\n",
            "4\n",
            "5\n"
          ]
        }
      ]
    },
    {
      "cell_type": "code",
      "source": [
        "a = [1,2,3,4,5]\n",
        "for i in a:\n",
        "  print(i,end=\"\")\n"
      ],
      "metadata": {
        "colab": {
          "base_uri": "https://localhost:8080/"
        },
        "id": "4VosFYqcyODO",
        "outputId": "403642d5-d91e-462b-be4b-5ad7b65e40ca"
      },
      "execution_count": null,
      "outputs": [
        {
          "output_type": "stream",
          "name": "stdout",
          "text": [
            "12345"
          ]
        }
      ]
    },
    {
      "cell_type": "code",
      "source": [
        "#Printing all element in range function\n",
        "\n",
        "for i in range(2,10,2):\n",
        "  print(i)"
      ],
      "metadata": {
        "colab": {
          "base_uri": "https://localhost:8080/"
        },
        "id": "Sd39gU0pxHQj",
        "outputId": "d7a8c0fb-5268-4991-ec62-4131d034780c"
      },
      "execution_count": null,
      "outputs": [
        {
          "output_type": "stream",
          "name": "stdout",
          "text": [
            "2\n",
            "4\n",
            "6\n",
            "8\n"
          ]
        }
      ]
    },
    {
      "cell_type": "markdown",
      "source": [
        "**Using for loop with else block**"
      ],
      "metadata": {
        "id": "1bOiQ_iaxjbc"
      }
    },
    {
      "cell_type": "code",
      "source": [
        "b= (1,2,3,4,5)\n",
        "for i in b:\n",
        "  print(i)\n",
        "else:\n",
        "  print(\"Printing completed\")"
      ],
      "metadata": {
        "colab": {
          "base_uri": "https://localhost:8080/"
        },
        "id": "GRT7PL6bxp7w",
        "outputId": "61d47c4c-0e59-4213-a6f4-0c0eb3ca25f9"
      },
      "execution_count": null,
      "outputs": [
        {
          "output_type": "stream",
          "name": "stdout",
          "text": [
            "1\n",
            "2\n",
            "3\n",
            "4\n",
            "5\n",
            "invalid\n"
          ]
        }
      ]
    },
    {
      "cell_type": "markdown",
      "source": [
        "---"
      ],
      "metadata": {
        "id": "lhXhLrPPmzUQ"
      }
    },
    {
      "cell_type": "markdown",
      "source": [
        "#Inheritance in Python"
      ],
      "metadata": {
        "id": "ZxQR_yHKw70o"
      }
    },
    {
      "cell_type": "markdown",
      "source": [
        "**Base Class (Animal):**\n",
        "* The Animal class has an __init__ method to initialize the species attribute and a speak method that raises a NotImplementedError. It serves as the base class for all animals.\n",
        "\n",
        "**Derived Class (Dog):**\n",
        "* The Dog class inherits from Animal using class Dog(Animal):. It has its own __init__ method to initialize name and breed attributes, and it overrides the speak method inherited from Animal with its own implementation.\n",
        "\n",
        "**super() Function:**\n",
        "\n",
        "* In the Dog class, super().__init__(\"Dog\") calls the __init__ method of the parent class (Animal) to initialize the species attribute.\n",
        "\n",
        "**Method Overriding:**\n",
        "* The speak method in Dog overrides the speak method in Animal, providing a specific implementation for dogs.\n",
        "\n",
        "**Creating an Instance (my_dog):**\n",
        "* We create an instance of Dog with the name \"Buddy\" and breed \"Labrador\".\n",
        "\n",
        "**Accessing Attributes and Methods:**\n",
        "* We access attributes (species, name, breed) and call the overridden speak method on the my_dog instance, demonstrating the inheritance and overriding behavior."
      ],
      "metadata": {
        "id": "djZrB1lB3e1a"
      }
    },
    {
      "cell_type": "code",
      "source": [
        "class Animal:\n",
        "    def __init__(self, species):\n",
        "        self.species = species\n",
        "\n",
        "    def speak(self):\n",
        "        raise NotImplementedError(\"Subclass must implement this method\")\n",
        "\n",
        "class Dog(Animal):\n",
        "    def __init__(self, name, breed):\n",
        "        super().__init__(\"Dog\")\n",
        "        self.name = name\n",
        "        self.breed = breed\n",
        "\n",
        "    def speak(self):\n",
        "        return \"Woof!\"\n",
        "\n",
        "# Creating an instance of Dog\n",
        "my_dog = Dog(\"Buddy\", \"Labrador\")\n",
        "\n",
        "# Accessing attributes and methods\n",
        "print(my_dog.species)  # Output: Dog (inherited from Animal)\n",
        "print(my_dog.name)     # Output: Buddy\n",
        "print(my_dog.breed)    # Output: Labrador\n",
        "print(my_dog.speak())  # Output: Woof! (overrides speak method from Animal)\n"
      ],
      "metadata": {
        "colab": {
          "base_uri": "https://localhost:8080/"
        },
        "id": "vEx0KZWe3W0p",
        "outputId": "0a06966f-c840-42af-ea0a-992beae975d1"
      },
      "execution_count": null,
      "outputs": [
        {
          "output_type": "stream",
          "name": "stdout",
          "text": [
            "Dog\n",
            "Buddy\n",
            "Labrador\n",
            "Woof!\n"
          ]
        }
      ]
    },
    {
      "cell_type": "markdown",
      "source": [
        "**Multiple Inheritance**"
      ],
      "metadata": {
        "id": "YonAVY2Kkygl"
      }
    },
    {
      "cell_type": "code",
      "source": [
        "class base1:\n",
        "  def fun1(self):\n",
        "    print(\"function 1 from class base1\")\n",
        "\n",
        "class base2:\n",
        "  def fun2(self):\n",
        "    print(\"function 2 from class base2\")\n",
        "\n",
        "class base3:\n",
        "  def fun3(self):\n",
        "    print(\"function 3 form class base3\")\n",
        "\n",
        "class multiderived(base1,base2,base3):\n",
        "  def multifun(self):\n",
        "    print(\" multi function from multiderived class\")\n",
        "\n",
        "obj = multiderived()\n",
        "obj.fun1()\n",
        "obj.fun2()\n",
        "obj.fun3()\n",
        "obj.multifun()"
      ],
      "metadata": {
        "colab": {
          "base_uri": "https://localhost:8080/"
        },
        "id": "gnvj5lNnk27t",
        "outputId": "d9d296e7-154b-4125-fc9b-1c122a549d0e"
      },
      "execution_count": null,
      "outputs": [
        {
          "output_type": "stream",
          "name": "stdout",
          "text": [
            "function 1 from class base1\n",
            "function 2 from class base2\n",
            "function 3 form class base3\n",
            " multi function from multiderived class\n"
          ]
        }
      ]
    },
    {
      "cell_type": "markdown",
      "source": [
        "**Here's an example to illustrate the usage of the superclass's __init__ method in a subclass:**"
      ],
      "metadata": {
        "id": "suEZIfhRA9SA"
      }
    },
    {
      "cell_type": "code",
      "source": [
        "class Animal:\n",
        "    def __init__(self, species):\n",
        "        self.species = species\n",
        "        print(f\"Initialized {self.species} animal\")\n",
        "\n",
        "class Dog(Animal):\n",
        "    def __init__(self, name, breed):\n",
        "        super().__init__(\"Dog\")  # Call superclass's __init__ to initialize species\n",
        "        self.name = name\n",
        "        self.breed = breed\n",
        "        print(f\"{self.name} is a {self.breed} dog\")\n",
        "\n",
        "# Example usage:\n",
        "my_dog = Dog(\"Buddy\", \"Labrador\")\n"
      ],
      "metadata": {
        "colab": {
          "base_uri": "https://localhost:8080/"
        },
        "id": "WajV6qXuA_dx",
        "outputId": "c8e0bee1-4f2f-47f2-ddf6-56b6398db0ec"
      },
      "execution_count": null,
      "outputs": [
        {
          "output_type": "stream",
          "name": "stdout",
          "text": [
            "Initialized Dog animal\n",
            "Buddy is a Labrador dog\n"
          ]
        }
      ]
    },
    {
      "cell_type": "markdown",
      "source": [
        "*In Python, when a class inherits from multiple base classes (multiple inheritance), you can use the super() function to call the __init__ method of a specific superclass. This allows you to control which superclass's __init__ method is called during object initialization. Here's how you can achieve that:*"
      ],
      "metadata": {
        "id": "u5WZWd1_BGKT"
      }
    },
    {
      "cell_type": "code",
      "source": [
        "class Animal:\n",
        "    def __init__(self, species):\n",
        "        self.species = species\n",
        "        print(f\"Initialized {self.species} animal\")\n",
        "\n",
        "class Toy:\n",
        "    def __init__(self, toy_type):\n",
        "        self.toy_type = toy_type\n",
        "        print(f\"Initialized {self.toy_type} toy\")\n",
        "\n",
        "class Dog(Animal, Toy):\n",
        "    def __init__(self, name, breed):\n",
        "        super(Animal, self).__init__(\"Dog\")  # Call Animal's __init__ method\n",
        "        self.name = name\n",
        "        self.breed = breed\n",
        "        print(f\"{self.name} is a {self.breed} dog\")\n",
        "\n",
        "# Example usage:\n",
        "my_dog = Dog(\"Buddy\", \"Labrador\")\n"
      ],
      "metadata": {
        "colab": {
          "base_uri": "https://localhost:8080/"
        },
        "id": "gKQH7TPFBIjJ",
        "outputId": "a5994de9-6fde-4fcd-e696-de12cf40a898"
      },
      "execution_count": null,
      "outputs": [
        {
          "output_type": "stream",
          "name": "stdout",
          "text": [
            "Initialized Dog toy\n",
            "Buddy is a Labrador dog\n"
          ]
        }
      ]
    },
    {
      "cell_type": "markdown",
      "source": [
        "##**Accessing class attribute**\n"
      ],
      "metadata": {
        "id": "39B-I8LABunj"
      }
    },
    {
      "cell_type": "code",
      "source": [
        "class Car:\n",
        "    # Class attribute\n",
        "    num_wheels = 4\n",
        "\n",
        "    def __init__(self, make, model):\n",
        "        self.make = make\n",
        "        self.model = model\n",
        "\n",
        "# Accessing class attribute\n",
        "print(Car.num_wheels)  # Output: 4\n",
        "\n",
        "# Creating instances of Car class\n",
        "car1 = Car(\"Toyota\", \"Camry\")\n",
        "car2 = Car(\"Honda\", \"Civic\")\n",
        "\n",
        "# Accessing class attribute through instances\n",
        "print(car1.num_wheels)  # Output: 4\n",
        "print(car2.num_wheels)  # Output: 4\n",
        "\n",
        "# Modifying class attribute\n",
        "Car.num_wheels = 6\n",
        "print(Car.num_wheels)  # Output: 6\n",
        "print(car1.num_wheels)  # Output: 6 (modified for all instances)\n",
        "print(car2.num_wheels)  # Output: 6 (modified for all instances)\n"
      ],
      "metadata": {
        "colab": {
          "base_uri": "https://localhost:8080/"
        },
        "id": "gZ8LV_K3B1k2",
        "outputId": "a8a4edb9-ad03-47f6-fba5-ee1237d004f7"
      },
      "execution_count": null,
      "outputs": [
        {
          "output_type": "stream",
          "name": "stdout",
          "text": [
            "4\n",
            "4\n",
            "4\n",
            "6\n",
            "6\n",
            "6\n"
          ]
        }
      ]
    },
    {
      "cell_type": "markdown",
      "source": [
        "***You can access class attributes using the __class__ attribute within class methods or instance methods. Here's an example:***"
      ],
      "metadata": {
        "id": "SuZpttYjCIWs"
      }
    },
    {
      "cell_type": "code",
      "source": [
        "class Car:\n",
        "    num_wheels = 4  # Class attribute\n",
        "\n",
        "    def __init__(self, make, model):\n",
        "        self.make = make\n",
        "        self.model = model\n",
        "\n",
        "    def display_info(self):\n",
        "        print(f\"Make: {self.make}, Model: {self.model}\")\n",
        "\n",
        "    def display_num_wheels(self):\n",
        "        # Accessing class attribute using __class__.attribute\n",
        "        print(f\"Number of wheels: {self.__class__.num_wheels}\")\n",
        "\n",
        "# Creating instances of Car class\n",
        "car1 = Car(\"Toyota\", \"Camry\")\n",
        "car2 = Car(\"Honda\", \"Civic\")\n",
        "\n",
        "# Accessing class attribute using __class__.attribute\n",
        "print(car1.__class__.num_wheels)  # Output: 4\n",
        "print(car2.__class__.num_wheels)  # Output: 4\n",
        "\n",
        "# Calling instance method to display class attribute\n",
        "car1.display_num_wheels()  # Output: Number of wheels: 4\n",
        "car2.display_num_wheels()  # Output: Number of wheels: 4\n"
      ],
      "metadata": {
        "id": "lP3wRYqgCLhd",
        "outputId": "ac83e07a-d0d4-42c4-c168-83a14acc7f4a",
        "colab": {
          "base_uri": "https://localhost:8080/"
        }
      },
      "execution_count": null,
      "outputs": [
        {
          "output_type": "stream",
          "name": "stdout",
          "text": [
            "4\n",
            "4\n",
            "Number of wheels: 4\n",
            "Number of wheels: 4\n"
          ]
        }
      ]
    },
    {
      "cell_type": "markdown",
      "source": [
        "-----"
      ],
      "metadata": {
        "id": "CYvgLSmvm4Z2"
      }
    },
    {
      "cell_type": "markdown",
      "source": [
        "#Python Function\n",
        "\n",
        "* Function is a group of related statement that perform specific task in our program\n",
        "\n",
        "* Function implementation breaks our program into smaller and modular chunks.\n",
        "\n",
        "* Reusability feature helps us to avoid repetition of our program codes"
      ],
      "metadata": {
        "id": "YdqCpioDt03P"
      }
    },
    {
      "cell_type": "markdown",
      "source": [
        "###**Syntax of function**\n",
        "```\n",
        "def fun_name(parameter):\n",
        "  '''Docstring'''\n",
        "  statements()\n",
        "  return return_value   #optional\n",
        "```"
      ],
      "metadata": {
        "id": "mUlL6XZyvQF0"
      }
    },
    {
      "cell_type": "code",
      "source": [],
      "metadata": {
        "id": "Rr9UAvvZt0jo"
      },
      "execution_count": null,
      "outputs": []
    },
    {
      "cell_type": "markdown",
      "source": [
        "#**Python Function Arguments**"
      ],
      "metadata": {
        "id": "U7RCOG57oT3D"
      }
    },
    {
      "cell_type": "markdown",
      "source": [
        "\n",
        "\n",
        "1.    **Positional Arguments:**\n",
        "\n",
        "\n"
      ],
      "metadata": {
        "id": "ISWOQwXmodu9"
      }
    },
    {
      "cell_type": "code",
      "source": [
        "def greet(name,message):\n",
        "  print(f\"hello {name} {message}\")\n",
        "\n",
        "greet(\"nabin\",\"How are you?\")\n"
      ],
      "metadata": {
        "colab": {
          "base_uri": "https://localhost:8080/"
        },
        "id": "NX7q8ac2m61H",
        "outputId": "7589f670-34a4-41dd-b3f9-45c2d48e6cf1"
      },
      "execution_count": null,
      "outputs": [
        {
          "output_type": "stream",
          "name": "stdout",
          "text": [
            "hello nabin How are you?\n"
          ]
        }
      ]
    },
    {
      "cell_type": "markdown",
      "source": [
        "**2 .Keyword Arguments:**\n",
        "* Keyword arguments are specified with their corresponding parameter names in the function call."
      ],
      "metadata": {
        "id": "rVMzr9TUqAki"
      }
    },
    {
      "cell_type": "code",
      "source": [
        "def greet(name,message):\n",
        "  print(f\"hello {name} {message}\")\n",
        "\n",
        "greet(message=\"how are you?\", name = \"Nabin\")"
      ],
      "metadata": {
        "colab": {
          "base_uri": "https://localhost:8080/"
        },
        "id": "F76L4QSWot_q",
        "outputId": "9796e63d-cf48-444f-b090-2c942ef0d8fc"
      },
      "execution_count": null,
      "outputs": [
        {
          "output_type": "stream",
          "name": "stdout",
          "text": [
            "hello Nabin how are you?\n"
          ]
        }
      ]
    },
    {
      "cell_type": "markdown",
      "source": [
        "**3. Default Arguments:**\n",
        "* Default arguments have predefined values and are used when a value is not provided in the function call."
      ],
      "metadata": {
        "id": "YEzr8Ifzqj6A"
      }
    },
    {
      "cell_type": "code",
      "source": [
        "def greet(name, message=\"are you ok?\"):\n",
        "  print(f\"hello {name}, {message}\")\n",
        "\n",
        "greet(\"nabin\")\n",
        "greet(\"nabin\",\"how are you?\")"
      ],
      "metadata": {
        "colab": {
          "base_uri": "https://localhost:8080/"
        },
        "id": "NSAG-af6qn_J",
        "outputId": "14379f05-c4a4-4c1f-f25d-ccf7628226f1"
      },
      "execution_count": null,
      "outputs": [
        {
          "output_type": "stream",
          "name": "stdout",
          "text": [
            "hello nabin, are you ok?\n",
            "hello nabin, how are you?\n"
          ]
        }
      ]
    },
    {
      "cell_type": "markdown",
      "source": [
        "**4. Variable-Length Arguments (*args):**\n",
        "* The *args parameter allows a function to accept an arbitrary number of positional arguments as a *tuple*.\n",
        "* arbirary arguments"
      ],
      "metadata": {
        "id": "ofUhwlkWrkFM"
      }
    },
    {
      "cell_type": "code",
      "source": [
        "def fun(*args):\n",
        "  s = sum(args)\n",
        "  print(s)\n",
        "\n",
        "\n",
        "fun(1,2,3,4,5)"
      ],
      "metadata": {
        "colab": {
          "base_uri": "https://localhost:8080/"
        },
        "id": "DZIultVqsFxo",
        "outputId": "f7b18233-df74-4cd8-c545-77d6b897d399"
      },
      "execution_count": null,
      "outputs": [
        {
          "output_type": "stream",
          "name": "stdout",
          "text": [
            "15\n"
          ]
        }
      ]
    },
    {
      "cell_type": "markdown",
      "source": [
        "**Variable-Length Keyword Arguments (**kwargs):"
      ],
      "metadata": {
        "id": "DB6279dSxChG"
      }
    },
    {
      "cell_type": "code",
      "source": [
        "def my_function(**kwargs):\n",
        "    for key, value in kwargs.items():\n",
        "        print(f\"{key}: {value}\")\n",
        "\n",
        "my_function(name=\"Alice\", age=30, city=\"New York\")\n"
      ],
      "metadata": {
        "colab": {
          "base_uri": "https://localhost:8080/"
        },
        "id": "ueuwuv7cxI9e",
        "outputId": "0454ba51-b6de-4f24-c17d-49eaa1e7741e"
      },
      "execution_count": null,
      "outputs": [
        {
          "output_type": "stream",
          "name": "stdout",
          "text": [
            "name: Alice\n",
            "age: 30\n",
            "city: New York\n"
          ]
        }
      ]
    },
    {
      "cell_type": "markdown",
      "source": [
        "#Python error and exception\n",
        "| Exception              | Description                                                                                     |\n",
        "|------------------------|-------------------------------------------------------------------------------------------------|\n",
        "| ArithmeticError        | Raised when an error occurs in numeric calculations.                                             |\n",
        "| AssertionError        | Raised when an assert statement fails.                                                           |\n",
        "| AttributeError        | Raised when attribute reference or assignment fails.                                              |\n",
        "| Exception              | Base class for all exceptions.                                                                  |\n",
        "| EOFError               | Raised when the input() method hits an \"end of file\" condition (EOF).                            |\n",
        "| FloatingPointError     | Raised when a floating point calculation fails.                                                   |\n",
        "| GeneratorExit          | Raised when a generator is closed (with the close() method).                                     |\n",
        "| ImportError           | Raised when an imported module does not exist.                                                    |\n",
        "| IndentationError       | Raised when indentation is not correct.                                                          |\n",
        "| IndexError             | Raised when an index of a sequence does not exist.                                                |\n",
        "| KeyError              | Raised when a key does not exist in a dictionary.                                                |\n",
        "| KeyboardInterrupt     | Raised when the user presses Ctrl+C, Ctrl+Z, or Delete.                                          |\n",
        "| LookupError            | Raised when errors raised can't be found.                                                         |\n",
        "| MemoryError            | Raised when a program runs out of memory.                                                         |\n",
        "| NameError             | Raised when a variable does not exist.                                                           |\n",
        "| NotImplementedError | Raised when an abstract method requires an inherited class to override the method.               |\n",
        "| OSError                | Raised when a system-related operation causes an error.                                           |\n",
        "| OverflowError         | Raised when the result of a numeric calculation is too large.                                    |\n",
        "| ReferenceError        | Raised when a weak reference object does not exist.                                               |\n",
        "| RuntimeError           | Raised when an error occurs that does not belong to any specific exceptions.                     |\n",
        "| StopIteration         | Raised when the next() method of an iterator has no further values.                               |\n",
        "| SyntaxError            | Raised when a syntax error occurs.                                                               |\n",
        "| TabError               | Raised when indentation consists of tabs or spaces.                                               |\n",
        "| SystemError            | Raised when a system error occurs.                                                               |\n",
        "| SystemExit             | Raised when the sys.exit() function is called.                                                    |\n",
        "| TypeError              | Raised when two different types are combined.                                                     |\n",
        "| UnboundLocalError      | Raised when a local variable is referenced before assignment.                                     |\n",
        "| UnicodeError          | Raised when a Unicode problem occurs.                                                             |\n",
        "| UnicodeEncodeError  | Raised when a Unicode encoding problem occurs.                                                     |\n",
        "| UnicodeDecodeError | Raised when a Unicode decoding problem occurs.                                                     |\n",
        "| UnicodeTranslateError | Raised when a Unicode translation problem occurs.                                                 |\n",
        "| ValueError            | Raised when there is a wrong value in a specified data type.                                      |\n",
        "| ZeroDivisionError   | Raised when the second operator in a division is zero.                                            |\n"
      ],
      "metadata": {
        "id": "-4ifFCplyf38"
      }
    },
    {
      "cell_type": "markdown",
      "source": [
        "**ArithmeticError:**\n",
        "* Raised when an error occurs in numeric calculations."
      ],
      "metadata": {
        "id": "T5y5PQE00U__"
      }
    },
    {
      "cell_type": "code",
      "source": [
        "try:\n",
        "    result = 10 / 0  # Division by zero raises ArithmeticError\n",
        "except ArithmeticError as e:\n",
        "    print(f\"ArithmeticError: {e}\")\n"
      ],
      "metadata": {
        "colab": {
          "base_uri": "https://localhost:8080/"
        },
        "id": "Rs4eLlRI0pYo",
        "outputId": "d6c03f82-cf16-410e-bad9-04fb8579f233"
      },
      "execution_count": null,
      "outputs": [
        {
          "output_type": "stream",
          "name": "stdout",
          "text": [
            "ArithmeticError: division by zero\n"
          ]
        }
      ]
    },
    {
      "cell_type": "markdown",
      "source": [
        "**AssertionError:**\n",
        "* Raised when an assert statement fails."
      ],
      "metadata": {
        "id": "9M37OJuK0wCs"
      }
    },
    {
      "cell_type": "code",
      "source": [
        "try:\n",
        "\n",
        "   assert 2 + 2 == 5, \"Assertion failed: 2 + 2 is not equal to 5\"\n",
        "\n",
        "except AssertionError as e:\n",
        "  print(e)\n"
      ],
      "metadata": {
        "colab": {
          "base_uri": "https://localhost:8080/"
        },
        "id": "0fK1o3SV01rP",
        "outputId": "5e3878c9-2b43-46b7-e1d3-f022cfd21316"
      },
      "execution_count": null,
      "outputs": [
        {
          "output_type": "stream",
          "name": "stdout",
          "text": [
            "Assertion failed: 2 + 2 is not equal to 5\n"
          ]
        }
      ]
    },
    {
      "cell_type": "markdown",
      "source": [
        "**AttributeError:**\n",
        "* Raised when attribute reference or assignment fails."
      ],
      "metadata": {
        "id": "VKkYaQvq1L6s"
      }
    },
    {
      "cell_type": "code",
      "source": [
        "try:\n",
        "   class MyClass:\n",
        "    pass\n",
        "\n",
        "   obj = MyClass()\n",
        "   print(obj.attribute)  # Raises AttributeError because 'attribute' does not exist\n",
        "\n",
        "except AttributeError as e:\n",
        "  print(e)"
      ],
      "metadata": {
        "colab": {
          "base_uri": "https://localhost:8080/"
        },
        "id": "Ike-9A8f1PBn",
        "outputId": "161c70b3-fcd1-401f-8e9d-a68323f37176"
      },
      "execution_count": null,
      "outputs": [
        {
          "output_type": "stream",
          "name": "stdout",
          "text": [
            "'MyClass' object has no attribute 'attribute'\n"
          ]
        }
      ]
    },
    {
      "cell_type": "markdown",
      "source": [
        "**EOFError:**\n",
        "* Raised when the input() method hits an \"end of file\" condition (EOF)."
      ],
      "metadata": {
        "id": "gUCwbQIX2DtQ"
      }
    },
    {
      "cell_type": "code",
      "source": [
        "try:\n",
        "  user_input = input(\"enter something \")\n",
        "except EOFError as e:\n",
        "  print(e)"
      ],
      "metadata": {
        "colab": {
          "base_uri": "https://localhost:8080/"
        },
        "id": "kYE1FNlb2Hk4",
        "outputId": "27766f9a-e347-4d1e-ee76-39c9644a9f62"
      },
      "execution_count": null,
      "outputs": [
        {
          "name": "stdout",
          "output_type": "stream",
          "text": [
            "enter something dnmngdm\n"
          ]
        }
      ]
    },
    {
      "cell_type": "markdown",
      "source": [
        "**ZeroDivisionError:**\n",
        "* Raised when a zero-point calculation fails."
      ],
      "metadata": {
        "id": "JQI9cwxc2gby"
      }
    },
    {
      "cell_type": "code",
      "source": [
        "try:\n",
        "  a = 1.0 / 0.0\n",
        "  print(a)\n",
        "except ZeroDivisionError as e:\n",
        "  print(e)"
      ],
      "metadata": {
        "colab": {
          "base_uri": "https://localhost:8080/"
        },
        "id": "EEJkHEh-2mcn",
        "outputId": "dba0c7d0-dae0-4a25-d494-7d8b59a7be8e"
      },
      "execution_count": null,
      "outputs": [
        {
          "output_type": "stream",
          "name": "stdout",
          "text": [
            "float division by zero\n"
          ]
        }
      ]
    },
    {
      "cell_type": "markdown",
      "source": [
        "#**Try... Exception... finally**"
      ],
      "metadata": {
        "id": "83ULNGFX5-ED"
      }
    },
    {
      "cell_type": "code",
      "source": [
        "try:\n",
        "  print(\"in try block\")\n",
        "  raise TypeError\n",
        "except:\n",
        "  print(\"int exception block\")\n",
        "finally:\n",
        "  print(\"in finally block\")"
      ],
      "metadata": {
        "colab": {
          "base_uri": "https://localhost:8080/"
        },
        "id": "to-6uv116EtU",
        "outputId": "fcc9b9a5-c814-4a05-d837-93af874b7e0d"
      },
      "execution_count": null,
      "outputs": [
        {
          "output_type": "stream",
          "name": "stdout",
          "text": [
            "in try block\n",
            "int exception block\n",
            "in finally block\n"
          ]
        }
      ]
    },
    {
      "cell_type": "markdown",
      "source": [
        "##**User defined Exception**\n",
        "\n",
        "**Explanation:**\n",
        "* ***Create a Custom Exception Class:*** To define a user-defined exception, you typically create a new class that inherits from the built-in Exception class or one of its subclasses. This custom class can include additional attributes or methods to provide more context about the error.\n",
        "* ***Raise the Custom Exception:*** You can raise your custom exception using the raise keyword when a specific condition or error occurs in your code.\n",
        "* ***Catch the Custom Exception:*** Use a try-except block to catch and handle your custom exception or any other exceptions that may arise.\n",
        "\n",
        "```\n",
        "class CustomException(Exception):\n",
        "    def __init__(self, message):\n",
        "        super().__init__(message)\n",
        "\n",
        "# Example of using the custom exception:\n",
        "try:\n",
        "    raise CustomException(\"Custom error message\")\n",
        "except CustomException as e:\n",
        "    print(f\"Caught custom exception: {e}\")\n",
        "```"
      ],
      "metadata": {
        "id": "6dYiEZ9P8O4s"
      }
    },
    {
      "cell_type": "code",
      "source": [
        "class votersEligibility(Exception):\n",
        "  def __init__(self):\n",
        "    super()\n",
        "\n",
        "try:\n",
        "  age = 12\n",
        "\n",
        "  if age < 18:\n",
        "    raise votersEligibility\n",
        "except votersEligibility:\n",
        "  print(f\"error: age is less than 18\")"
      ],
      "metadata": {
        "colab": {
          "base_uri": "https://localhost:8080/"
        },
        "id": "r7_uW5kY8uGu",
        "outputId": "1d05a595-f642-4881-8c2f-123179ed6248"
      },
      "execution_count": null,
      "outputs": [
        {
          "output_type": "stream",
          "name": "stdout",
          "text": [
            "error: age is less than 18\n"
          ]
        }
      ]
    },
    {
      "cell_type": "markdown",
      "source": [
        "#pyhton OOP approach"
      ],
      "metadata": {
        "id": "EtFDubvAIkAt"
      }
    },
    {
      "cell_type": "code",
      "source": [
        "class personalComputer:\n",
        "  def __init__(self):\n",
        "    self.maxComputerprice = 20000\n",
        "\n",
        "  def mysell(self):\n",
        "    print(\"the price of computer is: {}\".format(self.maxComputerprice))\n",
        "\n",
        "  def setMaxPrice(self,price):\n",
        "    self.maxComputerprice = price\n",
        "\n",
        "  pc = personalComputer()\n",
        "  pc.mysell()\n",
        "\n",
        "  pc.maxComputerprice = 30000\n",
        "  pc.mysell()\n",
        "\n",
        "  # Using setter function\n",
        "  pc.setMaxPrice(50000)\n",
        "  pc.mysell()"
      ],
      "metadata": {
        "colab": {
          "base_uri": "https://localhost:8080/"
        },
        "id": "Q8Z-6CC4IqZ8",
        "outputId": "9d1cb849-5a67-4c07-afe0-cf67b0e04a38"
      },
      "execution_count": null,
      "outputs": [
        {
          "output_type": "stream",
          "name": "stdout",
          "text": [
            "the price of computer is: 20000\n",
            "the price of computer is: 30000\n",
            "the price of computer is: 50000\n"
          ]
        }
      ]
    },
    {
      "cell_type": "markdown",
      "source": [
        "#**Nested dictionary implementation**"
      ],
      "metadata": {
        "id": "CGIkS8DeLqYP"
      }
    },
    {
      "cell_type": "code",
      "source": [
        "people = {\n",
        "    1: {\n",
        "        'name':'nabin',\n",
        "        'age':20\n",
        "    },\n",
        "    2: {'name':'roshan',\n",
        "        'age':23\n",
        "    }\n",
        "}\n",
        "\n",
        "print(people)\n"
      ],
      "metadata": {
        "id": "5SbEXpaeL0Gq",
        "colab": {
          "base_uri": "https://localhost:8080/"
        },
        "outputId": "42b11402-ace8-4805-e5a6-86859e7d59d2"
      },
      "execution_count": null,
      "outputs": [
        {
          "output_type": "stream",
          "name": "stdout",
          "text": [
            "{1: {'name': 'nabin', 'age': 20}, 2: {'name': 'roshan', 'age': 23}}\n"
          ]
        }
      ]
    },
    {
      "cell_type": "code",
      "source": [
        "# Accessing\n",
        "print(people[1])\n",
        "print(people[1]['name'])\n",
        "print(people[1]['age'])\n",
        "print(\"\\n\")\n",
        "\n"
      ],
      "metadata": {
        "colab": {
          "base_uri": "https://localhost:8080/"
        },
        "id": "oktyLiJZiMve",
        "outputId": "bbc3e501-fb54-4c4e-9c3c-8ffd639b6751"
      },
      "execution_count": null,
      "outputs": [
        {
          "output_type": "stream",
          "name": "stdout",
          "text": [
            "{'name': 'nabin', 'age': 20}\n",
            "nabin\n",
            "20\n",
            "\n",
            "\n"
          ]
        }
      ]
    },
    {
      "cell_type": "code",
      "source": [
        "print(people[2])\n",
        "print(people[2]['name'])\n",
        "print(people[2]['age'])"
      ],
      "metadata": {
        "colab": {
          "base_uri": "https://localhost:8080/"
        },
        "id": "LeCXHpJjiyyw",
        "outputId": "30a4d1b0-bc88-4315-c116-25ff45ade911"
      },
      "execution_count": null,
      "outputs": [
        {
          "output_type": "stream",
          "name": "stdout",
          "text": [
            "{'name': 'roshan', 'age': 23}\n",
            "roshan\n",
            "23\n"
          ]
        }
      ]
    },
    {
      "cell_type": "markdown",
      "source": [
        "####**Adding elements to dictionary**"
      ],
      "metadata": {
        "id": "Za92jYCTjO_r"
      }
    },
    {
      "cell_type": "code",
      "source": [
        "people[3]={}\n",
        "\n",
        "print(people)\n",
        "\n",
        "people[3] = {'name':'santosh',\n",
        "        'age':25\n",
        "    }\n",
        "print(people)"
      ],
      "metadata": {
        "colab": {
          "base_uri": "https://localhost:8080/"
        },
        "id": "8XI2QKG8jUai",
        "outputId": "e69f9b5d-afe6-4fde-91da-3b6a157a7913"
      },
      "execution_count": null,
      "outputs": [
        {
          "output_type": "stream",
          "name": "stdout",
          "text": [
            "{1: {'name': 'nabin', 'age': 20}, 2: {'name': 'roshan', 'age': 23}, 3: {}}\n",
            "{1: {'name': 'nabin', 'age': 20}, 2: {'name': 'roshan', 'age': 23}, 3: {'name': 'santosh', 'age': 25}}\n"
          ]
        }
      ]
    },
    {
      "cell_type": "markdown",
      "source": [
        "####**Deleting Elemet from nested dictionary**"
      ],
      "metadata": {
        "id": "QnguYpnqkUkb"
      }
    },
    {
      "cell_type": "code",
      "source": [
        "print(people)\n",
        "del people[3]['age']\n",
        "print(people)"
      ],
      "metadata": {
        "colab": {
          "base_uri": "https://localhost:8080/"
        },
        "id": "SCXJ3SUSkckI",
        "outputId": "f49972b8-6095-431f-ac92-f0e01df84868"
      },
      "execution_count": null,
      "outputs": [
        {
          "output_type": "stream",
          "name": "stdout",
          "text": [
            "{1: {'name': 'nabin', 'age': 20}, 2: {'name': 'roshan', 'age': 23}, 3: {'name': 'santosh', 'age': 25}}\n",
            "{1: {'name': 'nabin', 'age': 20}, 2: {'name': 'roshan', 'age': 23}, 3: {'name': 'santosh'}}\n"
          ]
        }
      ]
    },
    {
      "cell_type": "markdown",
      "source": [
        "####**Iteration through items**"
      ],
      "metadata": {
        "id": "XYQElN1ul47N"
      }
    },
    {
      "cell_type": "code",
      "source": [
        "print(people.items())\n",
        "\n",
        "print(\"\\n\")\n",
        "for i,j in people.items():\n",
        "  print(i)\n",
        "  print(j)\n",
        "  print(\".............................\")\n",
        "  for key in j:\n",
        "    print(key + ':', j[key])"
      ],
      "metadata": {
        "colab": {
          "base_uri": "https://localhost:8080/"
        },
        "id": "pjmQr5C0lSzP",
        "outputId": "a2312b29-8184-4d6c-87d9-685c6a8dc492"
      },
      "execution_count": null,
      "outputs": [
        {
          "output_type": "stream",
          "name": "stdout",
          "text": [
            "dict_items([(1, {'name': 'nabin', 'age': 20}), (2, {'name': 'roshan', 'age': 23}), (3, {'name': 'santosh'})])\n",
            "\n",
            "\n",
            "1\n",
            "{'name': 'nabin', 'age': 20}\n",
            ".............................\n",
            "name: nabin\n",
            "age: 20\n",
            "2\n",
            "{'name': 'roshan', 'age': 23}\n",
            ".............................\n",
            "name: roshan\n",
            "age: 23\n",
            "3\n",
            "{'name': 'santosh'}\n",
            ".............................\n",
            "name: santosh\n"
          ]
        }
      ]
    },
    {
      "cell_type": "markdown",
      "source": [
        "#**Python operator overloading**"
      ],
      "metadata": {
        "id": "OfCbTBkGl3sy"
      }
    },
    {
      "cell_type": "code",
      "source": [
        "class myPoint:\n",
        "  def __init__(self,x=0,y=0):\n",
        "    self.x = x\n",
        "    self.y = y\n",
        "\n",
        "  def __str__(self):\n",
        "    return \"({0},{1})\".format(self.x,self.y)\n",
        "\n",
        "  def __add__(self,other):\n",
        "    x= self.x + other.x\n",
        "    y= self.y + other.y\n",
        "    return myPoint(x,y)\n",
        "\n",
        "  def __lt__(self,other):\n",
        "    self_mag = (self.x ** 2) + (self.y ** 2)\n",
        "    other_mag = (other.x **2) + (other.y ** 2)\n",
        "    return self_mag< other_mag\n",
        "\n",
        "\n",
        "p1 = myPoint(2,3)\n",
        "p2 = myPoint(5,6)\n",
        "print()\n",
        "print(p1)\n",
        "print(p2)\n",
        "print()\n",
        "print(p1.__add__(p2))\n",
        "print(p1.__lt__(p2))"
      ],
      "metadata": {
        "colab": {
          "base_uri": "https://localhost:8080/"
        },
        "id": "f2yux0uYoZMb",
        "outputId": "1342de99-ccf5-4e86-a7bc-d8b196e557c0"
      },
      "execution_count": null,
      "outputs": [
        {
          "output_type": "stream",
          "name": "stdout",
          "text": [
            "\n",
            "(2,3)\n",
            "(5,6)\n",
            "\n",
            "(7,9)\n",
            "True\n"
          ]
        }
      ]
    },
    {
      "cell_type": "markdown",
      "source": [
        "#Python Generator"
      ],
      "metadata": {
        "id": "r4avFsn871t4"
      }
    },
    {
      "cell_type": "markdown",
      "source": [
        "####**What is generator ?**\n",
        "A generator in Python is a special kind of function that returns an iterator object which we can iterate (one value at a time). It allows you to declare a function that behaves like an iterator, i.e., it can be used in a for loop.\n"
      ],
      "metadata": {
        "id": "q9A8jyXF9kmp"
      }
    },
    {
      "cell_type": "markdown",
      "source": [
        "####**How to create a generator ?**\n",
        "\n",
        "\n",
        "*   **Generator Function :** These are the function which uses *yield* keyword.\n",
        "*   **Generator Expression :** These are similar to list comprehension but uses *Parenthesis* instead of square brackets.\n"
      ],
      "metadata": {
        "id": "O0GlHIJ39vUr"
      }
    },
    {
      "cell_type": "markdown",
      "source": [
        "**Genreator functions**\n",
        "\n",
        "A generator function is defined like normal function but uses *yield* statement to return data.\n",
        "\n",
        "\n",
        "\n",
        "*   When the generator function is called, it returns a genrerator object wihtout even begining of the execution of the function.\n",
        "\n",
        "*   When next() is called on the generator, the function executes until it encounters the *Yield* statement, which returns the yielded value.\n",
        "\n",
        "* The function retains its state and will resume where it left off on the next call to next().\n",
        "\n",
        "***Note : while calling generator function in for loop, Don't use paranthesis ()***\n",
        "\n",
        "**Example :**\n",
        "\n"
      ],
      "metadata": {
        "id": "smD0dpb5AtwL"
      }
    },
    {
      "cell_type": "code",
      "source": [
        "def my_generator():\n",
        "  n= 1\n",
        "  print(\"this is first statement.\")\n",
        "  yield n\n",
        "\n",
        "  n+=1\n",
        "  print(\"this is the second statement.\")\n",
        "  yield n\n",
        "\n",
        "  n+=1\n",
        "  print(\"this is the last\")\n",
        "  yield n\n",
        "\n",
        "a=  my_generator()\n",
        "\n",
        "next(a)\n",
        "next(a)\n",
        "next(a)\n",
        "print()\n",
        "for num in my_generator():\n",
        "  print(num)"
      ],
      "metadata": {
        "colab": {
          "base_uri": "https://localhost:8080/"
        },
        "id": "5ANMCOAL71MC",
        "outputId": "0da0f57b-a6da-4613-9d7e-282927920d8c"
      },
      "execution_count": null,
      "outputs": [
        {
          "output_type": "stream",
          "name": "stdout",
          "text": [
            "this is first statement.\n",
            "this is the second statement.\n",
            "this is the last\n",
            "\n",
            "this is first statement.\n",
            "1\n",
            "this is the second statement.\n",
            "2\n",
            "this is the last\n",
            "3\n"
          ]
        }
      ]
    },
    {
      "cell_type": "markdown",
      "source": [
        "**Generator Expression :**\n",
        "\n",
        "Generator expressions are similar to list comprehensions but use parentheses instead of square brackets. They provide a compact way to create generators."
      ],
      "metadata": {
        "id": "KlJ8o6gIDdUc"
      }
    },
    {
      "cell_type": "code",
      "source": [
        "squares_list = [x**2 for x in range(10)]\n",
        "\n",
        "squares_gen = (x**2 for x in range(10))\n",
        "\n",
        "print(squares_list)\n",
        "print()\n",
        "\n",
        "for square in squares_gen:\n",
        "  print(square)\n"
      ],
      "metadata": {
        "colab": {
          "base_uri": "https://localhost:8080/"
        },
        "id": "Dvoiv07GD79O",
        "outputId": "51102b55-c39c-435c-c869-d46f36185ab7"
      },
      "execution_count": null,
      "outputs": [
        {
          "output_type": "stream",
          "name": "stdout",
          "text": [
            "[0, 1, 4, 9, 16, 25, 36, 49, 64, 81]\n",
            "\n",
            "0\n",
            "1\n",
            "4\n",
            "9\n",
            "16\n",
            "25\n",
            "36\n",
            "49\n",
            "64\n",
            "81\n"
          ]
        }
      ]
    },
    {
      "cell_type": "markdown",
      "source": [
        "####**Benefits of Generators**\n",
        "\n",
        "\n",
        "\n",
        "*   **Memory Efficiency :** Generators are more memory-efficient than lists, especially for large data sets, because they generate items on-the-fly and do not store the entire sequence in memory.\n",
        "*   **Lazy Evaluation :** Generators compute values only when needed. This is known as lazy evaluation.\n",
        "\n",
        "*  **Maintain State :** Generators can maintain state between yields , which can be useful for complex algorithms."
      ],
      "metadata": {
        "id": "8kzaTnQUG3y0"
      }
    },
    {
      "cell_type": "markdown",
      "source": [
        "###**Handling StopIteration**\n",
        "When the generator has no more values to yield, it raises a StopIteration exception. This is handled automatically in a for loop but can also be caught manually:"
      ],
      "metadata": {
        "id": "iOsGrlhHIGug"
      }
    },
    {
      "cell_type": "code",
      "source": [
        "def simple_generator():\n",
        "  yield 1\n",
        "  yield 2\n",
        "  yield 3\n",
        "\n",
        "gen = simple_generator()\n",
        "\n",
        "while True:\n",
        "  try:\n",
        "    value = next(gen)\n",
        "    print(value)\n",
        "  except StopIteration:\n",
        "    break"
      ],
      "metadata": {
        "colab": {
          "base_uri": "https://localhost:8080/"
        },
        "id": "hj2JqEdvGzfT",
        "outputId": "af36c939-0900-4103-8b9d-885c31f0cfdc"
      },
      "execution_count": null,
      "outputs": [
        {
          "output_type": "stream",
          "name": "stdout",
          "text": [
            "1\n",
            "2\n",
            "3\n"
          ]
        }
      ]
    },
    {
      "cell_type": "markdown",
      "source": [
        "#**Python Decorators**\n",
        "\n"
      ],
      "metadata": {
        "id": "QE6el0OSJXx4"
      }
    },
    {
      "cell_type": "markdown",
      "source": [
        "####**What is Decorators ?**\n",
        "\n",
        "A decorator is a function that takes another function as an argument and extends or alters its behaviour. Decorators are oftern used for logging, access control, instrumentation, caching, and other cross-cutting concerns.\n",
        "\n",
        "\n",
        "***Note : In Python, decorators are typically defined using the @ symbol above the function to be decorated.***"
      ],
      "metadata": {
        "id": "c06a5784LfWz"
      }
    },
    {
      "cell_type": "code",
      "source": [
        "def make_decorated(func):\n",
        "  def inner_func():\n",
        "    print(\"before decorated.\")\n",
        "    func()\n",
        "\n",
        "    print(\"after decorated.\")\n",
        "  return inner_func\n",
        "\n",
        "@make_decorated\n",
        "def simple_func():\n",
        "  print(\"message from decorated function.\")\n",
        "\n",
        "simple_func()"
      ],
      "metadata": {
        "colab": {
          "base_uri": "https://localhost:8080/"
        },
        "id": "Wr92SvJ2MRn_",
        "outputId": "f9756cce-243a-4f52-82c9-2c42bc8b0a1d"
      },
      "execution_count": null,
      "outputs": [
        {
          "output_type": "stream",
          "name": "stdout",
          "text": [
            "before decorated.\n",
            "message from decorated function.\n",
            "after decorated.\n"
          ]
        }
      ]
    },
    {
      "cell_type": "markdown",
      "source": [
        "####**Function wrapper and arguments :**"
      ],
      "metadata": {
        "id": "GvO9mVHHP3x9"
      }
    },
    {
      "cell_type": "code",
      "source": [
        "def my_smart_div(func):\n",
        "  def inner_funct(x,y):\n",
        "    print(\"i am dividing \",x,\" and \",y)\n",
        "    if y==0:\n",
        "      print(\"y cannot be zero.\")\n",
        "      return\n",
        "    return func(x,y)\n",
        "  return inner_funct\n",
        "\n",
        "\n",
        "@my_smart_div\n",
        "def simp_div(a,b):\n",
        "  return a/b\n",
        "\n",
        "print(simp_div(10,5))"
      ],
      "metadata": {
        "colab": {
          "base_uri": "https://localhost:8080/"
        },
        "id": "aHex6Q4CM5fH",
        "outputId": "faaa1f04-ecd4-433e-81db-f56ea0536dff"
      },
      "execution_count": null,
      "outputs": [
        {
          "output_type": "stream",
          "name": "stdout",
          "text": [
            "i am dividing  10  and  5\n",
            "2.0\n"
          ]
        }
      ]
    },
    {
      "cell_type": "markdown",
      "source": [
        "####**Using Mulltiple decorator**"
      ],
      "metadata": {
        "id": "88j6i-o_gFNo"
      }
    },
    {
      "cell_type": "code",
      "source": [
        "def decorator1(func):\n",
        "  def wrapper():\n",
        "    print(\"decorator 1\")\n",
        "    func()\n",
        "    print(\"decorator 1 end\")\n",
        "  return wrapper\n",
        "\n",
        "def decorator2(func):\n",
        "  def wrapper():\n",
        "    print(\"decorator 2\")\n",
        "    func()\n",
        "    print(\"decorator 2 end\")\n",
        "  return wrapper\n",
        "\n",
        "\n",
        "@decorator1\n",
        "@decorator2\n",
        "def say_hello():\n",
        "  print(\"hello world\")\n",
        "\n",
        "\n",
        "say_hello()"
      ],
      "metadata": {
        "id": "-9JEJhMCQ9M8",
        "colab": {
          "base_uri": "https://localhost:8080/"
        },
        "outputId": "7cb2693e-ba2c-4ca2-8313-8271a3f0f32c"
      },
      "execution_count": null,
      "outputs": [
        {
          "output_type": "stream",
          "name": "stdout",
          "text": [
            "decorator 1\n",
            "decorator 2\n",
            "hello world\n",
            "decorator 2 end\n",
            "decorator 1 end\n"
          ]
        }
      ]
    },
    {
      "cell_type": "markdown",
      "source": [
        "**Explanation :**\n",
        "\n",
        "When we have\n",
        "\n",
        "```\n",
        "@decorator1\n",
        "@decorator2\n",
        "def say_hello():\n",
        "  print(\"hello\")\n",
        "```\n",
        "\n",
        "It's equivalent to:\n",
        "\n",
        "```\n",
        "def say_hello():\n",
        "  print(\"hello\")\n",
        "\n",
        "say_hello = decorator1(decorator2(say_hello))\n",
        "```"
      ],
      "metadata": {
        "id": "RfHxu3cDjJW-"
      }
    },
    {
      "cell_type": "markdown",
      "source": [
        "**Execution Flow**\n",
        "\n",
        "\n",
        "*   say_hello( ) (which is wrapper from decorator1)\n",
        "  * prints \"decorator1\"\n",
        "  * Calls wrapper from decorator2\n",
        "     *  Prints \"Decorator 2\"\n",
        "     *  Calls original `say hello`\n",
        "       *  prints \"hello\"\n",
        "     *  Prints \"decorator2 end\"\n",
        "  *  Prints \"decorator 2 end\"  \n",
        "\n",
        "\n",
        "\n"
      ],
      "metadata": {
        "id": "a7_ZK4BKkBAu"
      }
    },
    {
      "cell_type": "markdown",
      "source": [
        "####**Decorators With Arguments**\n",
        "\n",
        "Sometimes you need to pass arguments to your decorator. TO do this, you need to create a *decorator factory function* that takes arguments and returns a decorator.\n",
        "\n"
      ],
      "metadata": {
        "id": "MyxWTM9JlX-N"
      }
    },
    {
      "cell_type": "code",
      "source": [
        "def repeat(num_times):\n",
        "  def decorator(func):\n",
        "    def wrapper(*args,**kwargs):\n",
        "      for _ in range(num_times):\n",
        "        func(*args, **kwargs)\n",
        "    return wrapper\n",
        "  return decorator\n",
        "\n",
        "@repeat(3)\n",
        "def say_hello():\n",
        "  print(\"hello!\")\n",
        "\n",
        "\n",
        "say_hello()"
      ],
      "metadata": {
        "colab": {
          "base_uri": "https://localhost:8080/"
        },
        "id": "G6F-74mbl13B",
        "outputId": "25b441c1-f784-4349-fd3b-169de6c27f50"
      },
      "execution_count": null,
      "outputs": [
        {
          "output_type": "stream",
          "name": "stdout",
          "text": [
            "hello!\n",
            "hello!\n",
            "hello!\n"
          ]
        }
      ]
    },
    {
      "cell_type": "markdown",
      "source": [
        "####**Real world example**\n",
        "\n"
      ],
      "metadata": {
        "id": "S72TPoC7rOlb"
      }
    },
    {
      "cell_type": "code",
      "source": [
        "import logging\n",
        "\n",
        "\n",
        "def log(func):\n",
        "  def wrapper(*args,**kwargs):\n",
        "    logging.info(f'Running {func.__name__} with args {args} and kwargs{kwargs}')\n",
        "    return func(*args, **kwargs)\n",
        "  return wrapper\n",
        "\n",
        "\n",
        "@log\n",
        "def add(x,y):\n",
        "  return x+y\n",
        "\n",
        "\n",
        "logging.basicConfig(level=logging.INFO)\n",
        "\n",
        "if __name__ == \"__main__\":\n",
        "  print(add(5,3))\n"
      ],
      "metadata": {
        "colab": {
          "base_uri": "https://localhost:8080/"
        },
        "id": "hfyVihO0mChk",
        "outputId": "63026218-3f42-4bcf-9614-4c7efeba0c22"
      },
      "execution_count": null,
      "outputs": [
        {
          "output_type": "stream",
          "name": "stdout",
          "text": [
            "8\n"
          ]
        }
      ]
    },
    {
      "cell_type": "markdown",
      "source": [
        "####**Preserving Function Metadata**\n",
        "\n",
        "Using functools.wraps ensures the decorated function retains its name, docstring, and other metadata.\n"
      ],
      "metadata": {
        "id": "YZUvn-SyuTq9"
      }
    },
    {
      "cell_type": "markdown",
      "source": [],
      "metadata": {
        "id": "kCYo6RDRuD28"
      }
    },
    {
      "cell_type": "code",
      "source": [
        "import functools\n",
        "\n",
        "def my_decorator(func):\n",
        "    @functools.wraps(func)\n",
        "    def wrapper(*args, **kwargs):\n",
        "        print(\"Something is happening before the function is called.\")\n",
        "        result = func(*args, **kwargs)\n",
        "        print(\"Something is happening after the function is called.\")\n",
        "        return result\n",
        "    return wrapper\n",
        "\n",
        "@my_decorator\n",
        "def say_hello():\n",
        "    \"\"\"This is a docstring for say_hello function.\"\"\"\n",
        "    print(\"Hello!\")\n",
        "\n",
        "say_hello()\n",
        "print(say_hello.__name__)\n",
        "print(say_hello.__doc__)\n"
      ],
      "metadata": {
        "colab": {
          "base_uri": "https://localhost:8080/"
        },
        "id": "bDD4fCXmuZKI",
        "outputId": "b77f21f7-f924-40ac-c464-a24b9204abd8"
      },
      "execution_count": null,
      "outputs": [
        {
          "output_type": "stream",
          "name": "stdout",
          "text": [
            "Something is happening before the function is called.\n",
            "Hello!\n",
            "Something is happening after the function is called.\n",
            "say_hello\n",
            "This is a docstring for say_hello function.\n"
          ]
        }
      ]
    },
    {
      "cell_type": "markdown",
      "source": [
        "#**Python matrix implementation**\n",
        "\n",
        "\n",
        "1.   Using Nested List\n",
        "2.   Using NumPy\n",
        "3.   Using the `matrix` class from NumPy\n",
        "\n"
      ],
      "metadata": {
        "id": "GQdMxepp8gsD"
      }
    },
    {
      "cell_type": "markdown",
      "source": [
        "####**Using Nested List :**\n"
      ],
      "metadata": {
        "id": "bt7AYJqc85r5"
      }
    },
    {
      "cell_type": "code",
      "source": [
        "matrix = [[1,2,3],[4,5,6],[7,8,9]]\n",
        "\n",
        "print(matrix)\n",
        "\n",
        "\n",
        "# This is invalid matrix because it has not equal number of element in list\n",
        "invalid_matrix = [[1,2,3],[4,5],[6,7,8]]\n",
        "print()\n",
        "\n",
        "print(invalid_matrix)"
      ],
      "metadata": {
        "colab": {
          "base_uri": "https://localhost:8080/"
        },
        "id": "jS0bla1x9J-6",
        "outputId": "76a355a4-8194-4b4c-ac2e-5c3d39813332"
      },
      "execution_count": null,
      "outputs": [
        {
          "output_type": "stream",
          "name": "stdout",
          "text": [
            "[[1, 2, 3], [4, 5, 6], [7, 8, 9]]\n",
            "\n",
            "[[1, 2, 3], [4, 5], [6, 7, 8]]\n"
          ]
        }
      ]
    },
    {
      "cell_type": "markdown",
      "source": [
        "###**Creating a Dynamic Matrix**\n",
        "\n",
        "\n"
      ],
      "metadata": {
        "id": "nL1Q4nqx-K5Q"
      }
    },
    {
      "cell_type": "markdown",
      "source": [
        "####**initializing empty matrix**"
      ],
      "metadata": {
        "id": "JZ319Xkx-z1a"
      }
    },
    {
      "cell_type": "code",
      "source": [
        "matrix = []\n",
        "print(matrix)\n",
        "\n",
        "# Adding rows dynamically\n",
        "matrix.append([1, 2, 3])\n",
        "matrix.append([4, 5, 6])\n",
        "matrix.append([7, 8, 9])\n",
        "\n",
        "print(matrix)"
      ],
      "metadata": {
        "colab": {
          "base_uri": "https://localhost:8080/"
        },
        "id": "FbodpdeO-gEN",
        "outputId": "e5f7bfd2-9c40-47da-eed6-c84c9c503e56"
      },
      "execution_count": null,
      "outputs": [
        {
          "output_type": "stream",
          "name": "stdout",
          "text": [
            "[]\n",
            "[[1, 2, 3], [4, 5, 6], [7, 8, 9]]\n"
          ]
        }
      ]
    },
    {
      "cell_type": "markdown",
      "source": [
        "####**Adding rows**"
      ],
      "metadata": {
        "id": "TXUdw3n--ksm"
      }
    },
    {
      "cell_type": "code",
      "source": [
        "new_row = [10,12,13]\n",
        "\n",
        "matrix.append(new_row)\n",
        "\n",
        "print(matrix)"
      ],
      "metadata": {
        "colab": {
          "base_uri": "https://localhost:8080/"
        },
        "id": "-u-JTagb_H0V",
        "outputId": "3fbacdbd-ce9d-4491-e9ce-a5ead9ac9c75"
      },
      "execution_count": null,
      "outputs": [
        {
          "output_type": "stream",
          "name": "stdout",
          "text": [
            "[[1, 2, 3], [4, 5, 6], [7, 8, 9], [10, 12, 13]]\n"
          ]
        }
      ]
    },
    {
      "cell_type": "markdown",
      "source": [
        "####**Adding a column**"
      ],
      "metadata": {
        "id": "frJp2xhF_YfX"
      }
    },
    {
      "cell_type": "code",
      "source": [
        "new_column = [14,15,16,17]\n",
        "\n",
        "for i in range(len(matrix)):\n",
        "  matrix[i].append(new_column[i])\n",
        "\n",
        "print(matrix)"
      ],
      "metadata": {
        "colab": {
          "base_uri": "https://localhost:8080/"
        },
        "id": "q48_7G2q_YJ_",
        "outputId": "58b64d4a-b284-4ad9-ed88-0b59e8121a8c"
      },
      "execution_count": null,
      "outputs": [
        {
          "output_type": "stream",
          "name": "stdout",
          "text": [
            "[[1, 2, 3, 14], [4, 5, 6, 15], [7, 8, 9, 16], [10, 12, 13, 17]]\n"
          ]
        }
      ]
    },
    {
      "cell_type": "markdown",
      "source": [
        "####**Removing Rows dynamically**"
      ],
      "metadata": {
        "id": "tMEuD6UjAL5h"
      }
    },
    {
      "cell_type": "code",
      "source": [
        "matrix.pop()\n",
        "print(matrix)"
      ],
      "metadata": {
        "colab": {
          "base_uri": "https://localhost:8080/"
        },
        "id": "rJqCC4jxAQ3Z",
        "outputId": "d7120f8e-dd5a-4d1f-94b9-8d91039ab670"
      },
      "execution_count": null,
      "outputs": [
        {
          "output_type": "stream",
          "name": "stdout",
          "text": [
            "[[1, 2, 3, 14], [4, 5, 6, 15], [7, 8, 9, 16]]\n"
          ]
        }
      ]
    },
    {
      "cell_type": "markdown",
      "source": [
        "####**Removing column dynamically**\n",
        "\n"
      ],
      "metadata": {
        "id": "oQVp3aXxAY-O"
      }
    },
    {
      "cell_type": "code",
      "source": [
        "for row in matrix:\n",
        "  row.pop()\n",
        "\n",
        "print(matrix)"
      ],
      "metadata": {
        "colab": {
          "base_uri": "https://localhost:8080/"
        },
        "id": "dCvlU5coAfvS",
        "outputId": "878af1bb-7a2f-4839-d4d2-07444635ec49"
      },
      "execution_count": null,
      "outputs": [
        {
          "output_type": "stream",
          "name": "stdout",
          "text": [
            "[[1, 2, 3], [4, 5, 6], [7, 8, 9]]\n"
          ]
        }
      ]
    },
    {
      "cell_type": "markdown",
      "source": [
        "####**Creating Dynamic matirx using for loop**\n"
      ],
      "metadata": {
        "id": "d2YVFxMXA1IE"
      }
    },
    {
      "cell_type": "code",
      "source": [
        "n=3\n",
        "m=4\n",
        "\n",
        "a= [0] * n\n",
        "print(a)\n",
        "\n",
        "for i in range(n):\n",
        "  a[i] = [0] * m\n",
        "\n",
        "print(a)"
      ],
      "metadata": {
        "colab": {
          "base_uri": "https://localhost:8080/"
        },
        "id": "Xx-bOs9uA6V3",
        "outputId": "118120ca-0998-4d6c-c314-999133ce7b61"
      },
      "execution_count": null,
      "outputs": [
        {
          "output_type": "stream",
          "name": "stdout",
          "text": [
            "[0, 0, 0]\n",
            "[[0, 0, 0, 0], [0, 0, 0, 0], [0, 0, 0, 0]]\n"
          ]
        }
      ]
    },
    {
      "cell_type": "markdown",
      "source": [
        "#**regExp in python**\n"
      ],
      "metadata": {
        "id": "R6HJpN6BD82X"
      }
    },
    {
      "cell_type": "markdown",
      "source": [
        "Regular expressions (regex or regexp) in python are very powerful tools for matching patterns in strings. They are used for searching, matching and manipulating text based on specific patterns."
      ],
      "metadata": {
        "id": "v6eGZyHHEC7Z"
      }
    },
    {
      "cell_type": "markdown",
      "source": [
        "###**Basic of Regular Expression**\n"
      ],
      "metadata": {
        "id": "jnv7lrnTEmGA"
      }
    },
    {
      "cell_type": "code",
      "source": [
        "import re"
      ],
      "metadata": {
        "id": "B1XoTs-TEwyT"
      },
      "execution_count": null,
      "outputs": []
    },
    {
      "cell_type": "code",
      "source": [
        "pattern = r'hello'\n",
        "text = 'hello world'\n",
        "\n",
        "match = re.search(pattern,text)\n",
        "\n",
        "if match:\n",
        "  print('match found: ', match.group())\n",
        "else:\n",
        "  print(\"no match found\")"
      ],
      "metadata": {
        "colab": {
          "base_uri": "https://localhost:8080/"
        },
        "id": "q6Vfh8s5EzBU",
        "outputId": "3a4233b0-5a69-4c43-f726-1c45ce5238c7"
      },
      "execution_count": null,
      "outputs": [
        {
          "output_type": "stream",
          "name": "stdout",
          "text": [
            "match found:  hello\n"
          ]
        }
      ]
    },
    {
      "cell_type": "markdown",
      "source": [
        "####**special Character in Regx**\n",
        "\n",
        "\n",
        "- `.`: Matches any single character except newline.\n",
        "- `^`: Matches the start of the string.\n",
        "- `$`: Matches the end of the string.\n",
        "- `*`: Matches 0 or more repetitions of the preceding element.\n",
        "- `+`: Matches 1 or more repetitions of the preceding element.\n",
        "- `?`: Matches 0 or 1 repetition of the preceding element.\n",
        "- `{n}`: Matches exactly n repetitions of the preceding element.\n",
        "- `{n,}`: Matches n or more repetitions of the preceding element.\n",
        "- `{n,m}`: Matches between n and m repetitions of the preceding element.\n",
        "- `[]`: Matches any one of the characters inside the brackets.\n",
        "- `\\`: Escapes special characters or signals a special sequence.\n"
      ],
      "metadata": {
        "id": "IZhhq-TsF9gj"
      }
    },
    {
      "cell_type": "markdown",
      "source": [
        "**`.` : Matches any single character except newline.**"
      ],
      "metadata": {
        "id": "E1m5SZDSMTtc"
      }
    },
    {
      "cell_type": "code",
      "source": [
        "import re\n",
        "\n",
        "pattern = r'a.c'\n",
        "text = 'abc, adc, a_c, axc'\n",
        "matches = re.findall(pattern, text)\n",
        "print(matches)  # Output: ['abc', 'adc', 'a_c', 'axc']\n"
      ],
      "metadata": {
        "colab": {
          "base_uri": "https://localhost:8080/"
        },
        "id": "KHxnXfmsMbRt",
        "outputId": "e6fb98d9-178d-41aa-c3dc-d939215bd192"
      },
      "execution_count": null,
      "outputs": [
        {
          "output_type": "stream",
          "name": "stdout",
          "text": [
            "['abc', 'adc', 'a_c', 'axc']\n"
          ]
        }
      ]
    },
    {
      "cell_type": "markdown",
      "source": [
        "**`^` : Matches the start of the string.**"
      ],
      "metadata": {
        "id": "ZTN0Fi3CMiUG"
      }
    },
    {
      "cell_type": "code",
      "source": [
        "import re\n",
        "\n",
        "pattern = r'^hello'\n",
        "text = 'hello world, hello there'\n",
        "matches = re.findall(pattern, text)\n",
        "print(matches)  # Output: ['hello']\n"
      ],
      "metadata": {
        "colab": {
          "base_uri": "https://localhost:8080/"
        },
        "id": "-66YOL74MrkE",
        "outputId": "54b8b929-5b0b-462c-a63d-d0ea8bdfed14"
      },
      "execution_count": null,
      "outputs": [
        {
          "output_type": "stream",
          "name": "stdout",
          "text": [
            "['hello']\n"
          ]
        }
      ]
    },
    {
      "cell_type": "markdown",
      "source": [
        "**`$` : Matches the end of the string.**\n"
      ],
      "metadata": {
        "id": "Yn1UwN68Mz5c"
      }
    },
    {
      "cell_type": "code",
      "source": [
        "import re\n",
        "\n",
        "pattern = r'world$'\n",
        "text = 'hello world, goodbye world'\n",
        "matches = re.findall(pattern, text)\n",
        "print(matches)  # Output: ['world']\n"
      ],
      "metadata": {
        "colab": {
          "base_uri": "https://localhost:8080/"
        },
        "id": "bBKcBSKYM61P",
        "outputId": "7893161a-a4f7-448d-f840-3a0070a515a2"
      },
      "execution_count": null,
      "outputs": [
        {
          "output_type": "stream",
          "name": "stdout",
          "text": [
            "['world']\n"
          ]
        }
      ]
    },
    {
      "cell_type": "markdown",
      "source": [
        "**`*` : Matches 0 or more repetitions of the preceding element.**"
      ],
      "metadata": {
        "id": "KG41BvZnM-jY"
      }
    },
    {
      "cell_type": "code",
      "source": [
        "import re\n",
        "\n",
        "pattern = r'go*d'\n",
        "text = 'good, god, gd, goood, gooood'\n",
        "matches = re.findall(pattern, text)\n",
        "print(matches)  # Output: ['god', 'goood', 'gooood']\n"
      ],
      "metadata": {
        "colab": {
          "base_uri": "https://localhost:8080/"
        },
        "id": "vD3paO1bNHkz",
        "outputId": "bbf6ed14-6768-4d27-f2e8-bd98460ebe2a"
      },
      "execution_count": null,
      "outputs": [
        {
          "output_type": "stream",
          "name": "stdout",
          "text": [
            "['good', 'god', 'gd', 'goood', 'gooood']\n"
          ]
        }
      ]
    },
    {
      "cell_type": "markdown",
      "source": [
        "**`+` : Matches 1 or more repetitions of the preceding element.\n"
      ],
      "metadata": {
        "id": "5vRXUDi8NLRQ"
      }
    },
    {
      "cell_type": "code",
      "source": [
        "import re\n",
        "\n",
        "pattern = r'go+d'\n",
        "text = 'god, good, gd, goood, gooood'\n",
        "matches = re.findall(pattern, text)\n",
        "print(matches)  # Output: ['good', 'goood', 'gooood']\n"
      ],
      "metadata": {
        "colab": {
          "base_uri": "https://localhost:8080/"
        },
        "id": "vvMBZ0RkNRaS",
        "outputId": "e775246d-7131-48cd-f041-caee4daad1c7"
      },
      "execution_count": null,
      "outputs": [
        {
          "output_type": "stream",
          "name": "stdout",
          "text": [
            "['god', 'good', 'goood', 'gooood']\n"
          ]
        }
      ]
    },
    {
      "cell_type": "markdown",
      "source": [
        "**`?` : Matches 0 or 1 repetition of the preceding element.**\n"
      ],
      "metadata": {
        "id": "sVVUN8sONUL6"
      }
    },
    {
      "cell_type": "code",
      "source": [
        "import re\n",
        "\n",
        "pattern = r'go?d'\n",
        "text = 'god, good, gd, goood, gooood'\n",
        "matches = re.findall(pattern, text)\n",
        "print(matches)  # Output: ['god', 'good', 'gd']\n"
      ],
      "metadata": {
        "id": "YfOh7eL0NK9u"
      },
      "execution_count": null,
      "outputs": []
    },
    {
      "cell_type": "markdown",
      "source": [
        "**`{n}` : Matches exactly n repetitions of the preceding element.**\n"
      ],
      "metadata": {
        "id": "HYR31DSlNcg_"
      }
    },
    {
      "cell_type": "code",
      "source": [
        "import re\n",
        "\n",
        "pattern = r'o{2}'\n",
        "text = 'good, god, gd, goood, gooood'\n",
        "matches = re.findall(pattern, text)\n",
        "print(matches)  # Output: ['oo', 'oo', 'oo']\n"
      ],
      "metadata": {
        "colab": {
          "base_uri": "https://localhost:8080/"
        },
        "id": "Z0Y7mkK7NkSQ",
        "outputId": "e0fb9707-dd5b-4303-83e8-afaca2e2a21f"
      },
      "execution_count": null,
      "outputs": [
        {
          "output_type": "stream",
          "name": "stdout",
          "text": [
            "['oo', 'oo', 'oo', 'oo']\n"
          ]
        }
      ]
    },
    {
      "cell_type": "markdown",
      "source": [
        "**`{n,}` : Matches n or more repetitions of the preceding element.**\n"
      ],
      "metadata": {
        "id": "TNGZ1-IHNnc9"
      }
    },
    {
      "cell_type": "code",
      "source": [
        "import re\n",
        "\n",
        "pattern = r'o{2,}'\n",
        "text = 'good, god, gd, goood, gooood'\n",
        "matches = re.findall(pattern, text)\n",
        "print(matches)  # Output: ['oo', 'oo', 'oo']\n"
      ],
      "metadata": {
        "colab": {
          "base_uri": "https://localhost:8080/"
        },
        "id": "IvbE05FbNr_I",
        "outputId": "6a65e418-1230-4159-ce54-570be160ccf5"
      },
      "execution_count": null,
      "outputs": [
        {
          "output_type": "stream",
          "name": "stdout",
          "text": [
            "['oo', 'ooo', 'oooo']\n"
          ]
        }
      ]
    },
    {
      "cell_type": "markdown",
      "source": [
        "**`{n,m}` : Matches between n and m repetitions of the preceding element.**"
      ],
      "metadata": {
        "id": "mnp8NWgKNxf8"
      }
    },
    {
      "cell_type": "code",
      "source": [
        "import re\n",
        "\n",
        "pattern = r'o{1,2}'\n",
        "text = 'good, god, gd, goood, gooood'\n",
        "matches = re.findall(pattern, text)\n",
        "print(matches)  # Output: ['o', 'oo', 'oo']\n"
      ],
      "metadata": {
        "colab": {
          "base_uri": "https://localhost:8080/"
        },
        "id": "XkzZMwAyN2Wo",
        "outputId": "d78ba9dc-1c62-446d-d54f-8db183002a03"
      },
      "execution_count": null,
      "outputs": [
        {
          "output_type": "stream",
          "name": "stdout",
          "text": [
            "['oo', 'o', 'oo', 'o', 'oo', 'oo']\n"
          ]
        }
      ]
    },
    {
      "cell_type": "markdown",
      "source": [
        "**`[]` : Matches any one of the characters inside the brackets.**\n"
      ],
      "metadata": {
        "id": "TIeK5BcKN6NU"
      }
    },
    {
      "cell_type": "code",
      "source": [
        "import re\n",
        "\n",
        "pattern = r'[aeiou]'\n",
        "text = 'apple, orange, banana'\n",
        "matches = re.findall(pattern, text)\n",
        "print(matches)  # Output: ['a', 'e', 'o', 'a', 'e', 'a', 'a']\n"
      ],
      "metadata": {
        "colab": {
          "base_uri": "https://localhost:8080/"
        },
        "id": "icmsocnbN_0D",
        "outputId": "40c9c9ce-d305-42c8-ec67-c5a2cd8c3c01"
      },
      "execution_count": null,
      "outputs": [
        {
          "output_type": "stream",
          "name": "stdout",
          "text": [
            "['a', 'e', 'o', 'a', 'e', 'a', 'a', 'a']\n"
          ]
        }
      ]
    },
    {
      "cell_type": "markdown",
      "source": [
        "#####Escape sequence characters:\n",
        "\n",
        "**`\\` : Escapes special characters or signals a special sequence.**\n",
        "\n",
        "### Escape Sequences in Regular Expressions\n",
        "\n",
        "- **`\\d`**: Matches any digit, equivalent to `[0-9]`.\n",
        "  - **Example**: `\\d` matches `1`, `2`, etc. in the string `a1b2c3`.\n",
        "\n",
        "- **`\\D`**: Matches any non-digit character, equivalent to `[^0-9]`.\n",
        "  - **Example**: `\\D` matches `a`, `b`, `c`, etc. in the string `a1b2c3`.\n",
        "\n",
        "- **`\\w`**: Matches any word character (alphanumeric character plus underscore), equivalent to `[a-zA-Z0-9_]`.\n",
        "  - **Example**: `\\w` matches `a`, `1`, `_`, etc. in the string `a_1b2`.\n",
        "\n",
        "- **`\\W`**: Matches any non-word character, equivalent to `[^a-zA-Z0-9_]`.\n",
        "  - **Example**: `\\W` matches `!`, `@`, `#`, etc. in the string `a!b@c#`.\n",
        "\n",
        "- **`\\s`**: Matches any whitespace character (spaces, tabs, newlines).\n",
        "  - **Example**: `\\s` matches space in the string `a b`.\n",
        "\n",
        "- **`\\S`**: Matches any non-whitespace character.\n",
        "  - **Example**: `\\S` matches `a`, `b`, `1`, etc. in the string `a b1`.\n",
        "\n",
        "- **`\\b`**: Matches a word boundary.\n",
        "  - **Example**: `\\bword\\b` matches `word` in the string `word.` but not `sword`.\n",
        "\n",
        "- **`\\B`**: Matches a non-word boundary.\n",
        "  - **Example**: `\\Bword` matches `word` in the string `sword`.\n",
        "\n",
        "- **`\\A`**: Matches the start of the string.\n",
        "  - **Example**: `\\AThe` matches `The` in the string `The quick brown fox`.\n",
        "\n",
        "- **`\\Z`**: Matches the end of the string.\n",
        "  - **Example**: `fox\\Z` matches `fox` in the string `The quick brown fox`.\n",
        "\n",
        "- **`\\G`**: Matches the position where the previous match ended.\n",
        "  - **Example**: `\\Gabc` after matching `abc` would match `abc` again in the string `abcabc`.\n",
        "\n",
        "- **`\\n`**: Matches a newline character.\n",
        "  - **Example**: `\\n` matches a newline in the string `a\\nb`.\n",
        "\n",
        "- **`\\r`**: Matches a carriage return character.\n",
        "  - **Example**: `\\r` matches a carriage return in the string `a\\rb`.\n",
        "\n",
        "- **`\\t`**: Matches a tab character.\n",
        "  - **Example**: `\\t` matches a tab in the string `a\\tb`.\n",
        "\n",
        "- **`\\v`**: Matches a vertical tab character.\n",
        "  - **Example**: `\\v` matches a vertical tab in the string `a\\vb`.\n",
        "\n",
        "- **`\\f`**: Matches a form feed character.\n",
        "  - **Example**: `\\f` matches a form feed in the string `a\\fb`.\n",
        "\n",
        "- **`\\xhh`**: Matches the character with the hex value `hh`.\n",
        "  - **Example**: `\\x41` matches `A` (ASCII value 65).\n",
        "\n",
        "- **`\\uhhhh`**: Matches the Unicode character with the hex value `hhhh`.\n",
        "  - **Example**: `\\u00A9` matches `©`.\n",
        "\n",
        "- **`\\Uhhhhhhhh`**: Matches the Unicode character with the 32-bit hex value `hhhhhhhh`.\n",
        "  - **Example**: `\\U0001F600` matches 😀 (Unicode U+1F600).\n",
        "\n",
        "- **`\\ooo`**: Matches the character with the octal value `ooo`.\n",
        "  - **Example**: `\\101` matches `A` (ASCII value 65).\n",
        "\n",
        "- **`\\0`**: Matches the null character.\n",
        "  - **Example**: `\\0` matches the null character in a string.\n"
      ],
      "metadata": {
        "id": "yJ129duLOCOl"
      }
    },
    {
      "cell_type": "code",
      "source": [
        "import re\n",
        "\n",
        "pattern = r'\\d+'\n",
        "text = '123, abc, 456, def'\n",
        "matches = re.findall(pattern, text)\n",
        "print(matches)  # Output: ['123', '456']\n"
      ],
      "metadata": {
        "colab": {
          "base_uri": "https://localhost:8080/"
        },
        "id": "EXpRQJInOMrv",
        "outputId": "78303a58-1bb8-4574-fd05-945e189f3439"
      },
      "execution_count": null,
      "outputs": [
        {
          "output_type": "stream",
          "name": "stdout",
          "text": [
            "['123', '456']\n"
          ]
        }
      ]
    },
    {
      "cell_type": "markdown",
      "source": [
        "###**Advance concepts**"
      ],
      "metadata": {
        "id": "afFm-X_MOYUX"
      }
    },
    {
      "cell_type": "markdown",
      "source": [
        "####Groups and Capturing"
      ],
      "metadata": {
        "id": "Qxy17BK6Oq-G"
      }
    },
    {
      "cell_type": "markdown",
      "source": [
        "Parentheses () are used to group parts of the pattern and capture the matched content."
      ],
      "metadata": {
        "id": "KwmGv--bOyFF"
      }
    },
    {
      "cell_type": "code",
      "source": [
        "pattern = r'(hello) (world)'\n",
        "\n",
        "text = \"hello world\"\n",
        "\n",
        "match = re.search(pattern,text)\n",
        "\n",
        "if match:\n",
        "  print(match.group(0))\n",
        "  print(match.group(1))\n",
        "  print(match.group(2))"
      ],
      "metadata": {
        "colab": {
          "base_uri": "https://localhost:8080/"
        },
        "id": "jwOjk7AcOLA_",
        "outputId": "6f84edf0-7631-4c38-9253-78e47575ddad"
      },
      "execution_count": null,
      "outputs": [
        {
          "output_type": "stream",
          "name": "stdout",
          "text": [
            "hello world\n",
            "hello\n",
            "world\n"
          ]
        }
      ]
    },
    {
      "cell_type": "markdown",
      "source": [
        "####Named groups\n",
        "\n",
        "Named groups allow you to assign a name to a group for easier access."
      ],
      "metadata": {
        "id": "TrzTiDzPPcEN"
      }
    },
    {
      "cell_type": "code",
      "source": [
        "pattern = r'(?P<greeting>hello) (?P<place>world)'\n",
        "\n",
        "text = 'hello world'\n",
        "\n",
        "match = re.search(pattern,text)\n",
        "\n",
        "if match:\n",
        "  print(\"Greeting: \", match.group('greeting'))\n",
        "  print(\"Place: \", match.group('place'))\n"
      ],
      "metadata": {
        "colab": {
          "base_uri": "https://localhost:8080/"
        },
        "id": "VfPxC1QZPfAJ",
        "outputId": "b1b97af0-0086-4fe9-955d-4706598b99bb"
      },
      "execution_count": null,
      "outputs": [
        {
          "output_type": "stream",
          "name": "stdout",
          "text": [
            "Greeting:  hello\n",
            "Place:  world\n"
          ]
        }
      ]
    },
    {
      "cell_type": "markdown",
      "source": [
        "####Non-capturing group\n",
        "\n",
        "Use `(?:...)` to create non-capturing groups."
      ],
      "metadata": {
        "id": "uVjfPdBJSMYU"
      }
    },
    {
      "cell_type": "code",
      "source": [
        "pattern = r'(?:hello) (world)'\n",
        "text = 'hello world'\n",
        "match = re.search(pattern, text)\n",
        "if match:\n",
        "    print('Match found:', match.group(0))\n",
        "    print('Group 1:', match.group(1))\n",
        "# Output:\n",
        "# Match found: hello world\n",
        "# Group 1: world\n"
      ],
      "metadata": {
        "colab": {
          "base_uri": "https://localhost:8080/"
        },
        "id": "nvdTIcrvSSgF",
        "outputId": "1958c0e3-a4e6-4990-d595-ed008d8e7a7c"
      },
      "execution_count": null,
      "outputs": [
        {
          "output_type": "stream",
          "name": "stdout",
          "text": [
            "Match found: hello world\n",
            "Group 1: world\n"
          ]
        }
      ]
    },
    {
      "cell_type": "markdown",
      "source": [
        "####Lookahead and Lookbehind"
      ],
      "metadata": {
        "id": "8EFFP3yQSbTq"
      }
    },
    {
      "cell_type": "markdown",
      "source": [
        "#####**Positive Lookahead**\n",
        "\n",
        " `(?=...)` :  Asserts that what follows the current position matches the pattern.**"
      ],
      "metadata": {
        "id": "924YOiksSfcD"
      }
    },
    {
      "cell_type": "code",
      "source": [
        "pattern = r'hello(?= world)'\n",
        "text = 'hello world'\n",
        "match = re.search(pattern, text)\n",
        "if match:\n",
        "    print('Match found:', match.group())\n",
        "# Output: Match found: hello\n"
      ],
      "metadata": {
        "id": "w85hTQWASuoO"
      },
      "execution_count": null,
      "outputs": []
    },
    {
      "cell_type": "markdown",
      "source": [
        "####**Negative Lookahead**\n",
        "\n",
        " `(?!...)` : Asserts that what follows the current position does not match the pattern."
      ],
      "metadata": {
        "id": "MGiCKJjpSyME"
      }
    },
    {
      "cell_type": "code",
      "source": [
        "pattern = r'hello(?! world)'\n",
        "text = 'hello there'\n",
        "match = re.search(pattern, text)\n",
        "if match:\n",
        "    print('Match found:', match.group())\n",
        "# Output: Match found: hello\n"
      ],
      "metadata": {
        "colab": {
          "base_uri": "https://localhost:8080/"
        },
        "id": "eOEHpapFTBXs",
        "outputId": "ac4af50e-23b2-4e8b-d6aa-18f2fec1d491"
      },
      "execution_count": null,
      "outputs": [
        {
          "output_type": "stream",
          "name": "stdout",
          "text": [
            "Match found: hello\n"
          ]
        }
      ]
    },
    {
      "cell_type": "markdown",
      "source": [
        "####**Positive Lookbehind**\n",
        " `(?<=...)` : Asserts that what precedes the current position matches the pattern."
      ],
      "metadata": {
        "id": "-i3fDCVPTGEv"
      }
    },
    {
      "cell_type": "code",
      "source": [
        "pattern = r'(?<=hello )world'\n",
        "text = 'hello world'\n",
        "match = re.search(pattern, text)\n",
        "if match:\n",
        "    print('Match found:', match.group())\n",
        "# Output: Match found: world\n"
      ],
      "metadata": {
        "colab": {
          "base_uri": "https://localhost:8080/"
        },
        "id": "7701_jYoTLRE",
        "outputId": "bba148ad-fd17-4ae2-825c-badd81508153"
      },
      "execution_count": null,
      "outputs": [
        {
          "output_type": "stream",
          "name": "stdout",
          "text": [
            "Match found: world\n"
          ]
        }
      ]
    },
    {
      "cell_type": "markdown",
      "source": [
        "####**Negative Lookbehind**\n",
        "\n",
        " `(?<!...)` : Asserts that what precedes the current position does not match the pattern."
      ],
      "metadata": {
        "id": "1Ip835ReTN8D"
      }
    },
    {
      "cell_type": "code",
      "source": [
        "pattern = r'(?<!hello )world'\n",
        "text = 'hi world'\n",
        "match = re.search(pattern, text)\n",
        "if match:\n",
        "    print('Match found:', match.group())\n",
        "# Output: Match found: world\n"
      ],
      "metadata": {
        "colab": {
          "base_uri": "https://localhost:8080/"
        },
        "id": "WZ-R61lUTWOn",
        "outputId": "eae4c874-d3f6-4f69-86b0-b7edf6200881"
      },
      "execution_count": null,
      "outputs": [
        {
          "output_type": "stream",
          "name": "stdout",
          "text": [
            "Match found: world\n"
          ]
        }
      ]
    },
    {
      "cell_type": "markdown",
      "source": [
        "###**Common `re` Module function**\n"
      ],
      "metadata": {
        "id": "wSaU9RGPTdjk"
      }
    },
    {
      "cell_type": "markdown",
      "source": [
        "`re.search()`"
      ],
      "metadata": {
        "id": "XMKcc3Fk6I-i"
      }
    },
    {
      "cell_type": "code",
      "source": [
        "import re\n",
        "\n",
        "match = re.search(r'world', 'hello world')\n",
        "\n",
        "if match:\n",
        "  print('Match found:', match.group())"
      ],
      "metadata": {
        "colab": {
          "base_uri": "https://localhost:8080/"
        },
        "id": "7fdB0jjf6Mhu",
        "outputId": "d4fae37e-666e-4b5b-85dd-95cbb44005e9"
      },
      "execution_count": null,
      "outputs": [
        {
          "output_type": "stream",
          "name": "stdout",
          "text": [
            "Match found: world\n"
          ]
        }
      ]
    },
    {
      "cell_type": "markdown",
      "source": [
        "`re.match()` : Matches the patterns only at the beginning of the string"
      ],
      "metadata": {
        "id": "blSjg-gL6n8U"
      }
    },
    {
      "cell_type": "code",
      "source": [
        "match = re.match(r'hello','hello world')\n",
        "\n",
        "if match:\n",
        "  print('Match found: ', match.group())"
      ],
      "metadata": {
        "colab": {
          "base_uri": "https://localhost:8080/"
        },
        "id": "RDdthVFt6nc9",
        "outputId": "df0943cf-9401-4c6f-b281-acd20d4b4d26"
      },
      "execution_count": null,
      "outputs": [
        {
          "output_type": "stream",
          "name": "stdout",
          "text": [
            "Match found:  hello\n"
          ]
        }
      ]
    },
    {
      "cell_type": "markdown",
      "source": [
        "`re.fullmatch()` : Matches the pattern to the entire string."
      ],
      "metadata": {
        "id": "LwYTGW4q8eGH"
      }
    },
    {
      "cell_type": "code",
      "source": [
        "match = re.fullmatch(r'hello world', 'hello world')\n",
        "print(match)\n",
        "\n",
        "if  match:\n",
        "  print('Match found: ', match.group())"
      ],
      "metadata": {
        "colab": {
          "base_uri": "https://localhost:8080/"
        },
        "id": "XG7DyrSH8tfV",
        "outputId": "b3774227-4e20-4e25-d7c8-40f6b7b3563b"
      },
      "execution_count": null,
      "outputs": [
        {
          "output_type": "stream",
          "name": "stdout",
          "text": [
            "<re.Match object; span=(0, 11), match='hello world'>\n",
            "Match found:  hello world\n"
          ]
        }
      ]
    },
    {
      "cell_type": "markdown",
      "source": [
        "`re.findall()` : Returns the list of all matches of the pattern in the string."
      ],
      "metadata": {
        "id": "Nb54GAWp9FVw"
      }
    },
    {
      "cell_type": "code",
      "source": [
        "matches = re.findall(r'\\d+', '123 abc 89d 456')\n",
        "print(matches)"
      ],
      "metadata": {
        "colab": {
          "base_uri": "https://localhost:8080/"
        },
        "id": "di6S-DXv9Pl6",
        "outputId": "f7466ef1-dbb1-4bb3-f6f6-18e4bc0bfff6"
      },
      "execution_count": null,
      "outputs": [
        {
          "output_type": "stream",
          "name": "stdout",
          "text": [
            "['123', '89', '456']\n"
          ]
        }
      ]
    },
    {
      "cell_type": "markdown",
      "source": [
        "`re.finditer()` : Returns an iterator yielding match objects for all matches of the patterns in the string"
      ],
      "metadata": {
        "id": "cCqItD639y4Z"
      }
    },
    {
      "cell_type": "code",
      "source": [
        "matches = re.finditer(r'\\d+', '123 abc 89d 456')\n",
        "\n",
        "for matchh in matches:\n",
        "\n",
        "   print(matchh.group())"
      ],
      "metadata": {
        "colab": {
          "base_uri": "https://localhost:8080/"
        },
        "id": "0Ev-Un0A-lQo",
        "outputId": "50c83b13-450b-4cab-d9c2-78a885284fc7"
      },
      "execution_count": null,
      "outputs": [
        {
          "output_type": "stream",
          "name": "stdout",
          "text": [
            "123\n",
            "89\n",
            "456\n"
          ]
        }
      ]
    },
    {
      "cell_type": "markdown",
      "source": [
        "`re.sub()` : Substitutes occurrences of the pattern with a replacement string\n",
        "\n",
        "*   `re.sub(pattern, replacement, string)` is used to replace occurrences of pattern in `string` with `replacement`.\n"
      ],
      "metadata": {
        "id": "5xsYfcnw_E4I"
      }
    },
    {
      "cell_type": "code",
      "source": [
        "result = re.sub(r'\\d+', '#', '123 abc 456 def 789')\n",
        "\n",
        "print(result)"
      ],
      "metadata": {
        "colab": {
          "base_uri": "https://localhost:8080/"
        },
        "id": "Lxq9s1BE_EjT",
        "outputId": "6af4ec1e-92a2-40dd-bb13-aa7860a1123b"
      },
      "execution_count": null,
      "outputs": [
        {
          "output_type": "stream",
          "name": "stdout",
          "text": [
            "# abc # def #\n"
          ]
        }
      ]
    },
    {
      "cell_type": "markdown",
      "source": [
        "`re.split()` : Splits the string by occurrences of the pattern"
      ],
      "metadata": {
        "id": "TiDU9b0TAWvk"
      }
    },
    {
      "cell_type": "code",
      "source": [
        "result = re.split(r'\\s+', 'Hello world! this is a test.')\n",
        "print(result)"
      ],
      "metadata": {
        "colab": {
          "base_uri": "https://localhost:8080/"
        },
        "id": "pWM5MERDCZsE",
        "outputId": "348c7347-850d-4577-b27e-de30d7d00c91"
      },
      "execution_count": null,
      "outputs": [
        {
          "output_type": "stream",
          "name": "stdout",
          "text": [
            "['Hello', 'world!', 'this', 'is', 'a', 'test.']\n"
          ]
        }
      ]
    },
    {
      "cell_type": "markdown",
      "source": [
        "####***flags***\n",
        "\n",
        "flags modify the behaviour of regex matching.\n",
        "\n",
        "*   `re.IGNORECASE` OR `re.I` : Ignore case.\n",
        "*   `re.MULTILINE` Or `re.M` : Treats `^` and `$` as the start and end of each line.\n",
        "*   `re.DOTALL` or `re.S` : Allows `.` to match newline characters.\n",
        "*   `re.VERBOSE` or `re.X` : Allows verbose regex with comments and spacing."
      ],
      "metadata": {
        "id": "FT4kV56DCVhf"
      }
    },
    {
      "cell_type": "code",
      "source": [
        "import re\n",
        "\n",
        "pattern = r'hello\\s+world'\n",
        "text = 'Hello   world'\n",
        "match = re.search(pattern, text, re.IGNORECASE | re.VERBOSE)\n",
        "if match:\n",
        "    print('Match found:', match.group())\n"
      ],
      "metadata": {
        "colab": {
          "base_uri": "https://localhost:8080/"
        },
        "id": "DmTz5q3kEJCG",
        "outputId": "5251836f-e85b-409b-c613-793ddd693dbe"
      },
      "execution_count": null,
      "outputs": [
        {
          "output_type": "stream",
          "name": "stdout",
          "text": [
            "Match found: Hello   world\n"
          ]
        }
      ]
    },
    {
      "cell_type": "markdown",
      "source": [
        "**Explanation**\n",
        "\n",
        "**Importing the `re` module**:\n",
        "\n",
        "- The `re` module provides support for regular expressions in Python.\n",
        "\n",
        "**Pattern `r'hello\\s+world'`**:\n",
        "\n",
        "- `hello`: Matches the literal string \"hello\".\n",
        "- `\\s+`: Matches one or more whitespace characters. This includes spaces, tabs, and newlines.\n",
        "- `world`: Matches the literal string \"world\".\n",
        "\n",
        "**String `text`**:\n",
        "\n",
        "- The string `'Hello   world'` is the text we are searching for the pattern in.\n",
        "\n",
        "**Using `re.search`**:\n",
        "\n",
        "- `re.search(pattern, string, flags)` searches for the pattern in the string. If a match is found, it returns a match object; otherwise, it returns `None`.\n",
        "- `flags`: Optional argument to modify the behavior of the pattern matching. Here, two flags are used:\n",
        "  - `re.IGNORECASE`: Makes the pattern matching case-insensitive.\n",
        "  - `re.VERBOSE`: Allows the pattern to be more readable by allowing whitespace and comments within the pattern.\n",
        "\n",
        "**Combining flags**:\n",
        "\n",
        "- Multiple flags can be combined using the bitwise OR operator (`|`).\n"
      ],
      "metadata": {
        "id": "a2RavHU4EH_U"
      }
    },
    {
      "cell_type": "markdown",
      "source": [
        "##Email address checking"
      ],
      "metadata": {
        "id": "eICeeOJ1Gxv_"
      }
    },
    {
      "cell_type": "code",
      "source": [
        "import re\n",
        "\n",
        "#-------------problem-------------\n",
        "# create a Regex that matches email address  from list\n",
        "# 1.  1 to 20 lowercase and uppercase letters, numbers, plus ._%+-\n",
        "# 2.  An @ symbol\n",
        "# 3.  2 to 20 Lowercase and uppercase Letters, numbers, plus .-\n",
        "# 4.  A period\n",
        "# 5. 2 to 3 lowercase and uppercase Letters\n",
        "\n",
        "\n",
        "emailList = \"db@aol.com m@.com @apple.com @sb@.com\"\n",
        "\n",
        "print(\"Email mathches: \",len(re.findall(\"[\\w._%+-]{1,20}@[\\w.-]{2,20}.[A-Za-z]{2,3}\",emailList)))\n",
        "\n",
        "print(\"Email Matches: \", re.findall(\"[\\w._%+-]{1,20}@[\\w.-]{2,20}.[A-Za-z]{2,3}\",emailList))"
      ],
      "metadata": {
        "colab": {
          "base_uri": "https://localhost:8080/"
        },
        "id": "6DXi6dopItgv",
        "outputId": "3fa41800-7c84-44b6-a981-a8f904ecfee4"
      },
      "execution_count": null,
      "outputs": [
        {
          "output_type": "stream",
          "name": "stdout",
          "text": [
            "Email mathches:  1\n",
            "Email Matches:  ['db@aol.com']\n"
          ]
        }
      ]
    },
    {
      "cell_type": "markdown",
      "source": [
        "#Python file handling\n"
      ],
      "metadata": {
        "id": "EuQTrsu5Jo4K"
      }
    },
    {
      "cell_type": "markdown",
      "source": [
        "| Mode  | Description                                                                                                         |\n",
        "|-------|---------------------------------------------------------------------------------------------------------------------|\n",
        "| 'r'   | Opens the file for reading.                                                                                         |\n",
        "| 'w'   | Opens the file for writing; truncates the file if it exists or creates a new file.                                 |\n",
        "| 'a'   | Opens the file for appending; creates a new file if it doesn't exist.                                              |\n",
        "| 'rb'  | Opens the file for reading in binary mode.                                                                          |\n",
        "| 'wb'  | Opens the file for writing in binary mode; truncates the file if it exists or creates a new file.                  |\n",
        "| 'ab'  | Opens the file for appending in binary mode; creates a new file if it doesn't exist.                               |\n",
        "| 'r+'  | Opens the file for reading and writing; file must exist.                                                            |\n",
        "| 'w+'  | Opens the file for reading and writing; truncates the file if it exists or creates a new file.                     |\n",
        "| 'a+'  | Opens the file for reading and appending; creates a new file if it doesn't exist.                                  |\n",
        "| 'x'   | Opens the file for exclusive creation; creates a new file and fails if the file already exists.                    |\n",
        "| 'xb'  | Opens the file for exclusive creation in binary mode; creates a new file and fails if it already exists.           |\n",
        "| 'x+'  | Opens the file for exclusive creation for reading and writing; creates a new file and fails if it already exists.  |\n",
        "| 'x+b' | Opens the file for exclusive creation for reading and writing in binary mode; creates a new file and fails if it already exists. |\n"
      ],
      "metadata": {
        "id": "q9g5swKVKj3G"
      }
    },
    {
      "cell_type": "markdown",
      "source": [
        "**Reading from a file**"
      ],
      "metadata": {
        "id": "9K9yFqVpLGCA"
      }
    },
    {
      "cell_type": "markdown",
      "source": [
        "\n",
        "\n",
        "*  **opening a file :**  Use the `open()` function to open a file in various modes like read mode ('r'), write mode ('w'), append mode ('a'), etc."
      ],
      "metadata": {
        "id": "w_BY2_HGKmzl"
      }
    },
    {
      "cell_type": "code",
      "source": [
        "file = open('example.txt', 'r')\n",
        "print(file)"
      ],
      "metadata": {
        "colab": {
          "base_uri": "https://localhost:8080/"
        },
        "id": "BoLtM3u8LHHD",
        "outputId": "5a03dd71-7692-47d0-8b3e-e573e20e45e4"
      },
      "execution_count": null,
      "outputs": [
        {
          "output_type": "stream",
          "name": "stdout",
          "text": [
            "<_io.TextIOWrapper name='example.txt' mode='r' encoding='UTF-8'>\n"
          ]
        }
      ]
    },
    {
      "cell_type": "markdown",
      "source": [
        "####**Reading Method :**"
      ],
      "metadata": {
        "id": "FbY09RVcLU3Z"
      }
    },
    {
      "cell_type": "markdown",
      "source": [
        "*  **`read( )`** : Reads the entire file content into a string."
      ],
      "metadata": {
        "id": "GxVB_J0lLcj2"
      }
    },
    {
      "cell_type": "code",
      "source": [
        "content = file.read()\n",
        "print(content)"
      ],
      "metadata": {
        "colab": {
          "base_uri": "https://localhost:8080/"
        },
        "id": "fn_f9zcTLqkK",
        "outputId": "1a9f0120-8a7d-4917-b28c-7c7bf6dba34d"
      },
      "execution_count": null,
      "outputs": [
        {
          "output_type": "stream",
          "name": "stdout",
          "text": [
            "Hello worldLine 1\n",
            "Line 2\n",
            "\n"
          ]
        }
      ]
    },
    {
      "cell_type": "markdown",
      "source": [
        "*  **`readline( )`** : Reads the single line from the file."
      ],
      "metadata": {
        "id": "8XFAPD5_Lp28"
      }
    },
    {
      "cell_type": "code",
      "source": [
        "line = file.readline()\n",
        "print(line)"
      ],
      "metadata": {
        "colab": {
          "base_uri": "https://localhost:8080/"
        },
        "id": "LmgWCPMZL-8N",
        "outputId": "10ca033f-61c3-4196-b16a-7c552f6b8ae3"
      },
      "execution_count": null,
      "outputs": [
        {
          "output_type": "stream",
          "name": "stdout",
          "text": [
            "\n"
          ]
        }
      ]
    },
    {
      "cell_type": "markdown",
      "source": [
        "*  **`readlines()`** : Reads all lines of the file into a list"
      ],
      "metadata": {
        "id": "wEac66vYMGub"
      }
    },
    {
      "cell_type": "code",
      "source": [
        "lines = file.readlines()\n",
        "print(lines)"
      ],
      "metadata": {
        "colab": {
          "base_uri": "https://localhost:8080/"
        },
        "id": "2-Pe7im9MOAe",
        "outputId": "2bcf449b-81f4-4f7b-e758-b9f38925c648"
      },
      "execution_count": null,
      "outputs": [
        {
          "output_type": "stream",
          "name": "stdout",
          "text": [
            "[]\n"
          ]
        }
      ]
    },
    {
      "cell_type": "markdown",
      "source": [
        "###**Writing to a file**"
      ],
      "metadata": {
        "id": "foUJcCqzNahf"
      }
    },
    {
      "cell_type": "markdown",
      "source": [
        "*  **Opening a file:** Open the file in write mode `('w')` to write to it.  If the file doesn't exist, it will be created."
      ],
      "metadata": {
        "id": "AcMGoCXnNhyn"
      }
    },
    {
      "cell_type": "code",
      "source": [
        "file = open('example.txt', 'w')\n"
      ],
      "metadata": {
        "id": "8D7j0BRDUkYY"
      },
      "execution_count": null,
      "outputs": []
    },
    {
      "cell_type": "markdown",
      "source": [
        "###**Writing Methods :**"
      ],
      "metadata": {
        "id": "UvcPhmXRMoz-"
      }
    },
    {
      "cell_type": "markdown",
      "source": [
        "*  **`write( )`** : Writes a string to a file."
      ],
      "metadata": {
        "id": "aTng8l1TM4Cm"
      }
    },
    {
      "cell_type": "code",
      "source": [
        "file.write(\"Hello world\")"
      ],
      "metadata": {
        "colab": {
          "base_uri": "https://localhost:8080/"
        },
        "id": "3qjxeEjzNBt_",
        "outputId": "f4632dd5-a107-4ac9-e641-dea07ab6c31b"
      },
      "execution_count": null,
      "outputs": [
        {
          "output_type": "execute_result",
          "data": {
            "text/plain": [
              "11"
            ]
          },
          "metadata": {},
          "execution_count": 2
        }
      ]
    },
    {
      "cell_type": "markdown",
      "source": [
        "*  `writelines( )` : Writes a list of strings to the file."
      ],
      "metadata": {
        "id": "skbIPaO9LFzC"
      }
    },
    {
      "cell_type": "code",
      "source": [
        "lines = [\"Line 1\\n\", \"Line 2\\n\"]\n",
        "file.writelines(lines)"
      ],
      "metadata": {
        "id": "Ko-EHjcMLg8E"
      },
      "execution_count": null,
      "outputs": []
    },
    {
      "cell_type": "markdown",
      "source": [
        "####**closing a file**"
      ],
      "metadata": {
        "id": "PhtuqyIbMjtf"
      }
    },
    {
      "cell_type": "code",
      "source": [
        "file.close()"
      ],
      "metadata": {
        "id": "BnSqaPBWMoc5"
      },
      "execution_count": null,
      "outputs": []
    },
    {
      "cell_type": "markdown",
      "source": [
        "##**Context Manager (Recommended)**"
      ],
      "metadata": {
        "id": "s0dTW7llMuia"
      }
    },
    {
      "cell_type": "markdown",
      "source": [
        "Use the `with` statement to automatically close the file after operations, ensuring proper file handling and resource management."
      ],
      "metadata": {
        "id": "rwAqlF1DNnFA"
      }
    },
    {
      "cell_type": "code",
      "source": [
        "with open('example.txt','r') as file:\n",
        "  content = file.read()"
      ],
      "metadata": {
        "id": "18zFvhk2M0uJ"
      },
      "execution_count": null,
      "outputs": []
    },
    {
      "cell_type": "code",
      "source": [
        "with open('output.txt','w') as file:\n",
        "  file.write(\"heyyy\")"
      ],
      "metadata": {
        "id": "sAarR-9VNAHJ"
      },
      "execution_count": null,
      "outputs": []
    },
    {
      "cell_type": "markdown",
      "source": [
        "#**Shallow copy and Deep copy**"
      ],
      "metadata": {
        "id": "oN6ses1IPgoL"
      }
    },
    {
      "cell_type": "code",
      "source": [
        "list1= [[1,2,3],[4,5,6],[7,8,9]]\n",
        "list2= list1\n",
        "print(\"list1 --> \" , list1)\n",
        "print(\"list2 --> \", list2)\n",
        "\n",
        "list1.append([10,11,12])\n",
        "print(\"list1 --> \" , list1)\n",
        "print(\"list2 --> \", list2)"
      ],
      "metadata": {
        "colab": {
          "base_uri": "https://localhost:8080/"
        },
        "id": "F2YQ1ETbPn1w",
        "outputId": "d8f19081-4916-4c39-dd3f-df8a4dbc3c91"
      },
      "execution_count": null,
      "outputs": [
        {
          "output_type": "stream",
          "name": "stdout",
          "text": [
            "list1 -->  [[1, 2, 3], [4, 5, 6], [7, 8, 9]]\n",
            "list2 -->  [[1, 2, 3], [4, 5, 6], [7, 8, 9]]\n",
            "list1 -->  [[1, 2, 3], [4, 5, 6], [7, 8, 9], [10, 11, 12]]\n",
            "list2 -->  [[1, 2, 3], [4, 5, 6], [7, 8, 9], [10, 11, 12]]\n"
          ]
        }
      ]
    },
    {
      "cell_type": "markdown",
      "source": [
        "####**Creating a copy using shallow copy**"
      ],
      "metadata": {
        "id": "LnVLd1iwQcDx"
      }
    },
    {
      "cell_type": "markdown",
      "source": [
        "###**Shallow copy**\n",
        "\n",
        "A shallow copy creates a new object, but does not create copies of the objects that the original object references. Instead, it simply copies the references to those objects. This means that changes made to mutable objects within the copied object will reflect in the original object as well.\n"
      ],
      "metadata": {
        "id": "JBJTKOugTOzc"
      }
    },
    {
      "cell_type": "code",
      "source": [
        "import copy\n",
        "\n",
        "old_list = [[1,2,3],[4,5,6],[7,8,9]]\n",
        "new_list = copy.copy(old_list)\n",
        "\n",
        "print(\"old list --> \",old_list)\n",
        "print(\"new list --> \",new_list)"
      ],
      "metadata": {
        "colab": {
          "base_uri": "https://localhost:8080/"
        },
        "id": "LLNFIzuVQj7V",
        "outputId": "a84b5a04-7230-42b4-bb2f-5e31221a2087"
      },
      "execution_count": null,
      "outputs": [
        {
          "output_type": "stream",
          "name": "stdout",
          "text": [
            "old list -->  [[1, 2, 3], [4, 5, 6], [7, 8, 9]]\n",
            "new list -->  [[1, 2, 3], [4, 5, 6], [7, 8, 9]]\n"
          ]
        }
      ]
    },
    {
      "cell_type": "code",
      "source": [
        "old_list.append([4,4,4])\n",
        "print(\"old list --> \",old_list)\n",
        "print(\"new list --> \",new_list)"
      ],
      "metadata": {
        "colab": {
          "base_uri": "https://localhost:8080/"
        },
        "id": "Ksb5lMm5RCe-",
        "outputId": "4153964f-a72a-470a-b73f-e13351342973"
      },
      "execution_count": null,
      "outputs": [
        {
          "output_type": "stream",
          "name": "stdout",
          "text": [
            "old list -->  [[1, 2, 3], [4, 5, 6], [7, 8, 9], [4, 4, 4]]\n",
            "new list -->  [[1, 2, 3], [4, 5, 6], [7, 8, 9]]\n"
          ]
        }
      ]
    },
    {
      "cell_type": "code",
      "source": [
        "old_list[1][1] = \"AA\"\n",
        "\n",
        "print(\"old list --> \",old_list)\n",
        "print(\"new list --> \",new_list)"
      ],
      "metadata": {
        "colab": {
          "base_uri": "https://localhost:8080/"
        },
        "id": "X9kIr_9URZbL",
        "outputId": "a5c5d903-d337-4ca0-c0b1-c094d1b32842"
      },
      "execution_count": null,
      "outputs": [
        {
          "output_type": "stream",
          "name": "stdout",
          "text": [
            "old list -->  [[1, 2, 3], [4, 'AA', 6], [7, 8, 9], [4, 4, 4]]\n",
            "new list -->  [[1, 2, 3], [4, 'AA', 6], [7, 8, 9]]\n"
          ]
        }
      ]
    },
    {
      "cell_type": "markdown",
      "source": [
        "###**deep copy**\n",
        "\n",
        "\n",
        "A deep copy creates a new object and recursively copies all objects found within the original object. This means that changes made to the deep copied object do not affect the original object."
      ],
      "metadata": {
        "id": "qe9xLYcASXz7"
      }
    },
    {
      "cell_type": "code",
      "source": [
        "import copy\n",
        "\n",
        "old = [[1,1,1],[2,2,2],[3,3,3]]\n",
        "new = copy.deepcopy(old)\n",
        "\n",
        "print(old)\n",
        "print(new)"
      ],
      "metadata": {
        "colab": {
          "base_uri": "https://localhost:8080/"
        },
        "id": "-d1DuNe0Sauk",
        "outputId": "7cf6455e-a375-4e55-a2d7-c9089d14a221"
      },
      "execution_count": null,
      "outputs": [
        {
          "output_type": "stream",
          "name": "stdout",
          "text": [
            "[[1, 1, 1], [2, 2, 2], [3, 3, 3]]\n",
            "[[1, 1, 1], [2, 2, 2], [3, 3, 3]]\n"
          ]
        }
      ]
    },
    {
      "cell_type": "code",
      "source": [
        "# Adding a new nested object in the list using deep copy\n",
        "\n",
        "old[1][0] = 'BB'\n",
        "print(old)\n",
        "print(new)"
      ],
      "metadata": {
        "colab": {
          "base_uri": "https://localhost:8080/"
        },
        "id": "YJa0KE93Sqgt",
        "outputId": "3dbcda03-a5c0-4661-c7a8-5d22e6fba3fa"
      },
      "execution_count": null,
      "outputs": [
        {
          "output_type": "stream",
          "name": "stdout",
          "text": [
            "[[1, 1, 1], ['BB', 2, 2], [3, 3, 3]]\n",
            "[[1, 1, 1], [2, 2, 2], [3, 3, 3]]\n"
          ]
        }
      ]
    },
    {
      "cell_type": "markdown",
      "source": [
        "#**Lambda function**"
      ],
      "metadata": {
        "id": "JLCrkUYFUdxR"
      }
    },
    {
      "cell_type": "markdown",
      "source": [
        "Lambda functions in Python are small, anonymous functions defined with the lambda keyword. They are useful for creating quick, throwaway functions without the need to formally define a function using the def keyword."
      ],
      "metadata": {
        "id": "iR0fH5jbUhfD"
      }
    },
    {
      "cell_type": "markdown",
      "source": [
        "**Key Characteristics**\n",
        "\n",
        "*  **Anonymous :** Lambda functions are not bound to a name.\n",
        "*  **Single Expression :** They consist of a single expression.\n",
        "*  **Simple :** They are used for simple operations.\n",
        "\n",
        "**syntax :**\n",
        "\n",
        "```\n",
        "lambda arguments: expression\n",
        "```"
      ],
      "metadata": {
        "id": "sFVGhKdZUl-Q"
      }
    },
    {
      "cell_type": "code",
      "source": [
        "add_10 = lambda x : x + 10\n",
        "print(add_10(5))\n",
        "\n",
        "multiply = lambda x,y : x * y\n",
        "print(multiply(2,3))\n"
      ],
      "metadata": {
        "colab": {
          "base_uri": "https://localhost:8080/"
        },
        "id": "EiarNTWtU6wA",
        "outputId": "203bebe3-e309-45d1-c471-9833fad8e0fe"
      },
      "execution_count": null,
      "outputs": [
        {
          "output_type": "stream",
          "name": "stdout",
          "text": [
            "15\n",
            "6\n"
          ]
        }
      ]
    },
    {
      "cell_type": "markdown",
      "source": [
        "###**Use Cases**"
      ],
      "metadata": {
        "id": "UgElwuiGVo1-"
      }
    },
    {
      "cell_type": "markdown",
      "source": [
        "*  **Sorting :**  Lambda functions can be used as key functions in sorting."
      ],
      "metadata": {
        "id": "wlf-qUVKVsHx"
      }
    },
    {
      "cell_type": "code",
      "source": [
        "points = [(6,9),(4,5),(6,7)]\n",
        "\n",
        "points.sort(key=lambda point: point[1])\n",
        "print(points)"
      ],
      "metadata": {
        "colab": {
          "base_uri": "https://localhost:8080/"
        },
        "id": "Ht2EUoykV4Wi",
        "outputId": "93f49418-8940-4a68-a02a-c3e8ca375dd7"
      },
      "execution_count": null,
      "outputs": [
        {
          "output_type": "stream",
          "name": "stdout",
          "text": [
            "[(4, 5), (6, 7), (6, 9)]\n"
          ]
        }
      ]
    },
    {
      "cell_type": "markdown",
      "source": [
        "*   **Map, Filter, and Reduce:**\n",
        "   *  **Map :** Applies a function to all items in an input list."
      ],
      "metadata": {
        "id": "rL7WsIgGWXbq"
      }
    },
    {
      "cell_type": "code",
      "source": [
        "numbers = [1,2,3,4]\n",
        "squared = list(map(lambda x: x **2, numbers))\n",
        "\n",
        "print(squared)"
      ],
      "metadata": {
        "colab": {
          "base_uri": "https://localhost:8080/"
        },
        "id": "al4vFgQoWup5",
        "outputId": "cd571bb0-6ed0-489b-c577-0cc6b4e90da7"
      },
      "execution_count": null,
      "outputs": [
        {
          "output_type": "stream",
          "name": "stdout",
          "text": [
            "[1, 4, 9, 16]\n"
          ]
        }
      ]
    },
    {
      "cell_type": "markdown",
      "source": [
        "- **`map(function, iterable)`**: The `map` function applies a given function to each item in an iterable (in this case, the `numbers` list).\n",
        "\n",
        "\n",
        "- **`lambda x: x ** 2`**: This is a lambda function that takes an argument `x` and returns `x` squared (i.e., `x` to the power of 2).\n",
        "\n",
        "\n",
        "- **`map(lambda x: x ** 2, numbers)`**: This expression applies the lambda function to each item in the `numbers` list.\n",
        "\n",
        "\n",
        "- The `map` function returns a map object, which is an iterator. To convert this to a list, we wrap the `map` function call with `list()`.\n"
      ],
      "metadata": {
        "id": "zDJn7CbnWsq-"
      }
    },
    {
      "cell_type": "markdown",
      "source": [
        "*   **Filter :**"
      ],
      "metadata": {
        "id": "_yFMCIv0Y6fi"
      }
    },
    {
      "cell_type": "code",
      "source": [
        "numbers = [1, 2, 3, 4, 5, 6]\n",
        "even = list(filter(lambda x: x % 2 == 0, numbers))\n",
        "print(even)\n"
      ],
      "metadata": {
        "colab": {
          "base_uri": "https://localhost:8080/"
        },
        "id": "OFeFJs6CZFzb",
        "outputId": "d579b786-89dd-4f8e-fa69-3fc5cfc76b1a"
      },
      "execution_count": null,
      "outputs": [
        {
          "output_type": "stream",
          "name": "stdout",
          "text": [
            "[2, 4, 6]\n"
          ]
        }
      ]
    },
    {
      "cell_type": "markdown",
      "source": [
        "*   **Reduce :** Reduces the input list to a single value.\n"
      ],
      "metadata": {
        "id": "2b-2LU59Y0eX"
      }
    },
    {
      "cell_type": "code",
      "source": [
        "from functools import reduce\n",
        "\n",
        "numbers = [1, 2, 3, 4]\n",
        "product = reduce(lambda x, y: x * y, numbers)\n",
        "print(product)  # Output: 24\n"
      ],
      "metadata": {
        "colab": {
          "base_uri": "https://localhost:8080/"
        },
        "id": "ifocoO5JZONQ",
        "outputId": "f3a74fdf-5922-4b3d-ad98-f2b179fcc574"
      },
      "execution_count": null,
      "outputs": [
        {
          "output_type": "stream",
          "name": "stdout",
          "text": [
            "24\n"
          ]
        }
      ]
    },
    {
      "cell_type": "markdown",
      "source": [
        "#**Python @property**"
      ],
      "metadata": {
        "id": "qO2T3snkcqbg"
      }
    },
    {
      "cell_type": "code",
      "source": [
        "class Celsius:\n",
        "  def __init__(self,temperature = 0):\n",
        "    self._temperature = temperature\n",
        "\n",
        "\n",
        "  def to_farhenheit(self):\n",
        "    return (self._temperature * 1.8) + 32\n",
        "\n",
        "  @property\n",
        "  def temperature(self):\n",
        "    print(\"getting value\")\n",
        "    return self._temperature\n",
        "\n",
        "  @temperature.setter\n",
        "  def temperature(self,value):\n",
        "    if value < -273:\n",
        "      raise ValueError(\"Temperature below -273 is not possible\")\n",
        "    print(\"setting value\")\n",
        "    self._temperature = value\n",
        "\n",
        "c= Celsius(5)\n",
        "print(c.temperature)\n",
        "\n",
        "c.temperature = 100\n",
        "print(c.temperature)"
      ],
      "metadata": {
        "colab": {
          "base_uri": "https://localhost:8080/"
        },
        "id": "eNrwO6oZcwsm",
        "outputId": "381d8834-efcd-4f11-8446-ad1a92e098e9"
      },
      "execution_count": null,
      "outputs": [
        {
          "output_type": "stream",
          "name": "stdout",
          "text": [
            "getting value\n",
            "5\n",
            "setting value\n",
            "getting value\n",
            "100\n"
          ]
        }
      ]
    },
    {
      "cell_type": "code",
      "source": [
        "class Circle:\n",
        "    def __init__(self, radius):\n",
        "        self._radius = radius\n",
        "\n",
        "    @property\n",
        "    def radius(self):\n",
        "        return self._radius\n",
        "\n",
        "    @radius.setter\n",
        "    def radius(self, value):\n",
        "        if value <= 0:\n",
        "            raise ValueError(\"Radius must be positive\")\n",
        "        self._radius = value\n",
        "\n",
        "    @radius.deleter\n",
        "    def radius(self):\n",
        "        del self._radius\n"
      ],
      "metadata": {
        "id": "tsejwRTCc5F6"
      },
      "execution_count": null,
      "outputs": []
    },
    {
      "cell_type": "code",
      "source": [
        "circle = Circle(5)\n",
        "print(circle.radius)  # Output: 5\n"
      ],
      "metadata": {
        "colab": {
          "base_uri": "https://localhost:8080/"
        },
        "id": "AJDbDghbfI6u",
        "outputId": "c96cace9-7fdc-4dfc-c8de-2bfe59cd090e"
      },
      "execution_count": null,
      "outputs": [
        {
          "output_type": "stream",
          "name": "stdout",
          "text": [
            "5\n"
          ]
        }
      ]
    },
    {
      "cell_type": "markdown",
      "source": [
        "**Setter Method**"
      ],
      "metadata": {
        "id": "-s27uH3WfNic"
      }
    },
    {
      "cell_type": "code",
      "source": [
        "circle.radius = 10\n",
        "print(circle.radius)  # Output: 10\n"
      ],
      "metadata": {
        "colab": {
          "base_uri": "https://localhost:8080/"
        },
        "id": "3SBxX_83fKnI",
        "outputId": "9cfa4ec9-ecf0-4e40-dad1-a7ab6b01c53c"
      },
      "execution_count": null,
      "outputs": [
        {
          "output_type": "stream",
          "name": "stdout",
          "text": [
            "10\n"
          ]
        }
      ]
    }
  ]
}